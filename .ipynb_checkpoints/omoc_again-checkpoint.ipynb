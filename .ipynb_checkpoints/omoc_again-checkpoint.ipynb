{
 "cells": [
  {
   "cell_type": "code",
   "execution_count": 2,
   "id": "931708b6",
   "metadata": {},
   "outputs": [
    {
     "name": "stdout",
     "output_type": "stream",
     "text": [
      "판 크기를 입력해주세요: 5\n",
      "0을 입력하면 게임이 종료됩니다.\n",
      "게임시작!\n",
      "4 3\n",
      "플레이어1 바둑돌 위치 x y: 4 3\n",
      "플레이어1가 승리하였습니다. 게임이 종료되었습니다.\n",
      "\n"
     ]
    },
    {
     "ename": "ValueError",
     "evalue": "not enough values to unpack (expected 2, got 0)",
     "output_type": "error",
     "traceback": [
      "\u001b[1;31m---------------------------------------------------------------------------\u001b[0m",
      "\u001b[1;31mValueError\u001b[0m                                Traceback (most recent call last)",
      "Input \u001b[1;32mIn [2]\u001b[0m, in \u001b[0;36m<cell line: 11>\u001b[1;34m()\u001b[0m\n\u001b[0;32m     11\u001b[0m \u001b[38;5;28;01mfor\u001b[39;00m i \u001b[38;5;129;01min\u001b[39;00m \u001b[38;5;28mrange\u001b[39m(\u001b[38;5;241m1\u001b[39m,\u001b[38;5;241m3\u001b[39m):\n\u001b[0;32m     12\u001b[0m     \u001b[38;5;28;01mif\u001b[39;00m i\u001b[38;5;241m==\u001b[39midx:\n\u001b[1;32m---> 13\u001b[0m         r, c \u001b[38;5;241m=\u001b[39m \u001b[38;5;28mmap\u001b[39m(\u001b[38;5;28mint\u001b[39m,\u001b[38;5;28minput\u001b[39m()\u001b[38;5;241m.\u001b[39msplit())\n\u001b[0;32m     14\u001b[0m         \u001b[38;5;28mprint\u001b[39m(\u001b[38;5;124m'\u001b[39m\u001b[38;5;124m플레이어\u001b[39m\u001b[38;5;132;01m{}\u001b[39;00m\u001b[38;5;124m 바둑돌 위치 x y:\u001b[39m\u001b[38;5;124m'\u001b[39m\u001b[38;5;241m.\u001b[39mformat(i), r, c)\n\u001b[0;32m     16\u001b[0m         \u001b[38;5;28;01mif\u001b[39;00m r\u001b[38;5;241m==\u001b[39m\u001b[38;5;241m0\u001b[39m:\n",
      "\u001b[1;31mValueError\u001b[0m: not enough values to unpack (expected 2, got 0)"
     ]
    }
   ],
   "source": [
    "\n",
    "import numpy as np\n",
    "size=int(input('판 크기를 입력해주세요: '))\n",
    "print('0을 입력하면 게임이 종료됩니다.')\n",
    "print('게임시작!')\n",
    "\n",
    "arr1=np.zeros((size,size))\n",
    "idx=1\n",
    "\n",
    "\n",
    "while True:\n",
    "    for i in range(1,3):\n",
    "        if i==idx:\n",
    "            r, c = map(int,input().split())\n",
    "            print('플레이어{} 바둑돌 위치 x y:'.format(i), r, c)\n",
    "\n",
    "            if r==0:\n",
    "                r+=4\n",
    "            elif r==1:\n",
    "                r+=2\n",
    "            elif r==2:\n",
    "                    r=2\n",
    "            elif r==3:\n",
    "                    r-=2\n",
    "            elif r==4:\n",
    "                    r-=4\n",
    "                    \n",
    "                    \n",
    "            if arr1[r][c] == 0:\n",
    "                arr1[r][c]=1\n",
    "                for i in range(size):\n",
    "                    for j in range(size):\n",
    "                        if arr1[i][j] : \n",
    "                            for z in range(5):\n",
    "                                if arr1[i][j+z]==0 or arr1[i+z][j+z]==0 or arr1[i-z][j]==0 or arr1[i-z][j+z]==0:\n",
    "                                    continue\n",
    "                                elif arr1[i][j+z]==1 and arr1[i+z][j+z]==1 and arr1[i-z][j]==1 and arr1[i-z][j+z]==1:\n",
    "                                    winner = idx\n",
    "                                    print('플레이어{}가 승리하였습니다. 게임이 종료되었습니다.'.format(winner))\n",
    "                                    break\n",
    "            elif r == 0 or c == 0:\n",
    "                print('0을 입력하였습니다. 게임을 종료합니다.')\n",
    "                break\n",
    "\n",
    "                \n",
    "                \n",
    "            if idx==1:\n",
    "                idx+=1\n",
    "            elif idx==2:\n",
    "                idx-=1\n",
    "                \n",
    "                \n",
    "                \n",
    "                \n",
    "            #플레이어 구분 : c=(c+1)%2\n",
    "            \n"
   ]
  },
  {
   "cell_type": "code",
   "execution_count": 3,
   "id": "41c14da3",
   "metadata": {},
   "outputs": [
    {
     "name": "stdout",
     "output_type": "stream",
     "text": [
      "[[0. 0. 0. 1. 0.]\n",
      " [0. 0. 0. 0. 0.]\n",
      " [0. 0. 0. 0. 0.]\n",
      " [0. 0. 0. 0. 0.]\n",
      " [0. 0. 0. 0. 0.]]\n"
     ]
    }
   ],
   "source": [
    "print(arr1)"
   ]
  },
  {
   "cell_type": "code",
   "execution_count": null,
   "id": "f89a3dd2",
   "metadata": {},
   "outputs": [],
   "source": []
  },
  {
   "cell_type": "code",
   "execution_count": 13,
   "id": "1383d845",
   "metadata": {},
   "outputs": [],
   "source": [
    "\n"
   ]
  },
  {
   "cell_type": "code",
   "execution_count": null,
   "id": "7a7e3c54",
   "metadata": {},
   "outputs": [],
   "source": [
    "\n"
   ]
  },
  {
   "cell_type": "code",
   "execution_count": null,
   "id": "71a943a4",
   "metadata": {},
   "outputs": [],
   "source": []
  },
  {
   "cell_type": "code",
   "execution_count": null,
   "id": "a72431a2",
   "metadata": {},
   "outputs": [],
   "source": []
  },
  {
   "cell_type": "code",
   "execution_count": null,
   "id": "ea90fb2b",
   "metadata": {},
   "outputs": [],
   "source": []
  },
  {
   "cell_type": "code",
   "execution_count": null,
   "id": "f6a6cce7",
   "metadata": {},
   "outputs": [],
   "source": []
  }
 ],
 "metadata": {
  "kernelspec": {
   "display_name": "Python 3 (ipykernel)",
   "language": "python",
   "name": "python3"
  },
  "language_info": {
   "codemirror_mode": {
    "name": "ipython",
    "version": 3
   },
   "file_extension": ".py",
   "mimetype": "text/x-python",
   "name": "python",
   "nbconvert_exporter": "python",
   "pygments_lexer": "ipython3",
   "version": "3.9.12"
  }
 },
 "nbformat": 4,
 "nbformat_minor": 5
}
