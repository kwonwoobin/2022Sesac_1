{
 "cells": [
  {
   "cell_type": "code",
   "execution_count": null,
   "id": "fff0a203",
   "metadata": {},
   "outputs": [],
   "source": [
    "n = int(input())\n",
    "sum1 = 0\n",
    "sum2 = 0\n",
    "for i in range(1,n):\n",
    "    sum2 += 3**i\n",
    "    sum1 += 3**(i-1)\n",
    "    if sum1 < n < sum2:\n",
    "        break\n",
    "print(sum1,sum2, n)"
   ]
  },
  {
   "cell_type": "code",
   "execution_count": null,
   "id": "0cac9fb8",
   "metadata": {},
   "outputs": [],
   "source": [
    "n = int(input())\n",
    "sumsum = 0\n",
    "sumsuum=0\n",
    "for j in range(n):\n",
    "    sumsum += 3**j\n",
    "    sumsuum += 3**(j-1)\n",
    "    print(sumsum, sumsuum)"
   ]
  },
  {
   "cell_type": "code",
   "execution_count": 20,
   "id": "478556b4",
   "metadata": {},
   "outputs": [
    {
     "name": "stdout",
     "output_type": "stream",
     "text": [
      "1 0.3333333333333333\n",
      "4 1.3333333333333333\n",
      "13 4.333333333333333\n",
      "40 13.333333333333332\n",
      "121 40.33333333333333\n"
     ]
    }
   ],
   "source": [
    "s=0\n",
    "m=0\n",
    "for a in range(5):\n",
    "    s += 3**a\n",
    "    m += 3**(a-1)\n",
    "    print(s, m)"
   ]
  },
  {
   "cell_type": "code",
   "execution_count": null,
   "id": "60d437a8",
   "metadata": {},
   "outputs": [],
   "source": []
  },
  {
   "cell_type": "code",
   "execution_count": null,
   "id": "e814afa5",
   "metadata": {},
   "outputs": [],
   "source": []
  },
  {
   "cell_type": "code",
   "execution_count": null,
   "id": "f51a6423",
   "metadata": {},
   "outputs": [],
   "source": []
  }
 ],
 "metadata": {
  "kernelspec": {
   "display_name": "Python 3 (ipykernel)",
   "language": "python",
   "name": "python3"
  },
  "language_info": {
   "codemirror_mode": {
    "name": "ipython",
    "version": 3
   },
   "file_extension": ".py",
   "mimetype": "text/x-python",
   "name": "python",
   "nbconvert_exporter": "python",
   "pygments_lexer": "ipython3",
   "version": "3.9.12"
  }
 },
 "nbformat": 4,
 "nbformat_minor": 5
}
