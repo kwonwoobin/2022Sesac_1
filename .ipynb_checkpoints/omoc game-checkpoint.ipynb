{
 "cells": [
  {
   "cell_type": "code",
   "execution_count": null,
   "id": "4c871e66",
   "metadata": {},
   "outputs": [
    {
     "name": "stdout",
     "output_type": "stream",
     "text": [
      "판 크기를 입력해주세요: 10\n",
      "0을 입력하면 게임이 종료됩니다.\n",
      "게임시작!\n",
      "1 2\n",
      "플레이어1 바둑돌 위치 x y: 1 2\n",
      "1 3\n",
      "플레이어2 바둑돌 위치 x y: 1 3\n",
      "1 4\n",
      "플레이어1 바둑돌 위치 x y: 1 4\n",
      "1 5\n",
      "플레이어2 바둑돌 위치 x y: 1 5\n",
      "1 2\n",
      "플레이어1 바둑돌 위치 x y: 1 2\n",
      "1 2\n",
      "플레이어2 바둑돌 위치 x y: 1 2\n"
     ]
    }
   ],
   "source": [
    "import numpy as np\n",
    "size=int(input('판 크기를 입력해주세요: '))\n",
    "print('0을 입력하면 게임이 종료됩니다.')\n",
    "print('게임시작!')\n",
    "\n",
    "arr1=np.zeros((size,size))\n",
    "\n",
    "\n",
    "while True:\n",
    "    a,b=map(int,input().split())\n",
    "    print('플레이어1 바둑돌 위치 x y:', a, b)\n",
    "    \n",
    "    if a==0 or b==0:\n",
    "        print('0을 입력하였습니다. 게임을 종료합니다.')\n",
    "        break\n",
    "        \n",
    "    elif arr1[a,b]!=1:\n",
    "        for i in range(size):\n",
    "            for j in range(size):\n",
    "                if arr1[i][j] : \n",
    "                    for z in range(4):\n",
    "                        if arr1[i][j+z]==0 or arr1[i+z][j+z]==0 or arr[i+z][j]==0:\n",
    "                            break\n",
    "                        else:\n",
    "                            winner=player2\n",
    "                            print('{}플레이어가 승리하였습니다. 게임이 종료되었습니다.'.format(winner))\n",
    "            break\n",
    "        \n",
    "    elif arr1[a,b]==1:\n",
    "        print('이미 돌이 있습니다. 다른 위치를 입력하세요')\n",
    "        \n",
    "    else:\n",
    "         arr1[a,b]=1\n",
    "\n",
    "            \n",
    "    c,d=map(int,input().split())\n",
    "    print('플레이어2 바둑돌 위치 x y:', c, d)\n",
    "    if c==0 or d==0:\n",
    "        print('0을 입력하였습니다. 게임을 종료합니다.')\n",
    "        break\n",
    "        \n",
    "    elif arr1[c,d]!=1:\n",
    "        for i in range(size):\n",
    "            for j in range(size):\n",
    "                if arr1[i][j] : \n",
    "                    for z in range(4):\n",
    "                        if arr1[i][j+z]==0 or arr1[i+z][j+z]==0 or arr1[i+z][j]==0:\n",
    "                            break\n",
    "                        else:\n",
    "                            winner=player2\n",
    "                            print('{}플레이어가 승리하였습니다. 게임이 종료되었습니다.'.format(winner))\n",
    "            break\n",
    "        \n",
    "    elif arr1[c,d]==1:\n",
    "        print('이미 돌이 있습니다. 다른 위치를 입력하세요')\n",
    "    else:\n",
    "         arr1[c,d]=1"
   ]
  },
  {
   "cell_type": "code",
   "execution_count": null,
   "id": "4c2a82d9",
   "metadata": {},
   "outputs": [],
   "source": []
  },
  {
   "cell_type": "code",
   "execution_count": null,
   "id": "905ba3c4",
   "metadata": {},
   "outputs": [],
   "source": []
  },
  {
   "cell_type": "code",
   "execution_count": null,
   "id": "520376e0",
   "metadata": {},
   "outputs": [],
   "source": []
  }
 ],
 "metadata": {
  "kernelspec": {
   "display_name": "Python 3 (ipykernel)",
   "language": "python",
   "name": "python3"
  },
  "language_info": {
   "codemirror_mode": {
    "name": "ipython",
    "version": 3
   },
   "file_extension": ".py",
   "mimetype": "text/x-python",
   "name": "python",
   "nbconvert_exporter": "python",
   "pygments_lexer": "ipython3",
   "version": "3.9.12"
  }
 },
 "nbformat": 4,
 "nbformat_minor": 5
}
