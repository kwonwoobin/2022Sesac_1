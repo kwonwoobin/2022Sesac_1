{
 "cells": [
  {
   "cell_type": "code",
   "execution_count": null,
   "id": "ddbced32",
   "metadata": {},
   "outputs": [
    {
     "name": "stdout",
     "output_type": "stream",
     "text": [
      "Player : 보\n",
      "Player: 보, Computer: 바위, 플레이어 승리\n",
      "Player : 보\n",
      "Player: 보, Computer: 가위, 플레이어 패배\n",
      "Player : 보\n",
      "Player: 보, Computer: 가위, 플레이어 패배\n",
      "Player : 보\n",
      "Player: 보, Computer: 바위, 플레이어 승리\n",
      "Player : 보\n",
      "Player: 보, Computer: 가위, 플레이어 패배\n",
      "Player : 보\n",
      "Player: 보, Computer: 보, 무승부\n",
      "Player : 보\n",
      "Player: 보, Computer: 보, 무승부\n",
      "Player : 보\n",
      "Player: 보, Computer: 가위, 플레이어 패배\n",
      "Player : 그래프\n"
     ]
    },
    {
     "data": {
      "image/png": "[encoded data removed]",
      "text/plain": [
       "<Figure size 432x288 with 1 Axes>"
      ]
     },
     "metadata": {
      "needs_background": "light"
     },
     "output_type": "display_data"
    }
   ],
   "source": [
    "import random\n",
    "import numpy as np\n",
    "import matplotlib.pyplot as plt\n",
    "\n",
    "listA=['가위','바위','보']\n",
    "win=0\n",
    "lose=0\n",
    "draw=0\n",
    "count=0\n",
    "\n",
    "\n",
    "while True:\n",
    "    p=input('Player : ')\n",
    "    c=random.choice(listA)\n",
    "    if p=='종료':\n",
    "        print('게임을 종료합니다')\n",
    "        break\n",
    "    elif p=='승률':\n",
    "        per=(win/(count))*100\n",
    "        print('현재까지 승률 : ',per,'%')\n",
    "    elif p=='그래프':\n",
    "        data=[win,lose,draw]\n",
    "        name=['win','lose','draw']\n",
    "        plt.bar(name,data)\n",
    "        plt.show()\n",
    "        \n",
    "    else:\n",
    "        if p=='가위' :\n",
    "            if c=='가위':\n",
    "                count+=1\n",
    "                draw+=1\n",
    "                print('Player: {}, Computer: {}, 무승부'.format(p,c))\n",
    "            elif c=='바위':\n",
    "                count+=1\n",
    "                lose+=1\n",
    "                print('Player: {}, Computer: {}, 플레이어 패배'.format(p,c))\n",
    "            elif c=='보':\n",
    "                count+=1\n",
    "                print('Player: {}, Computer: {}, 플레이어 승리'.format(p,c))\n",
    "        elif p=='바위':\n",
    "            if c=='바위':\n",
    "                count+=1\n",
    "                draw+=1\n",
    "                print('Player: {}, Computer: {}, 무승부'.format(p,c))\n",
    "            elif c=='보':\n",
    "                count+=1\n",
    "                lose+=1\n",
    "                print('Player: {}, Computer: {}, 플레이어 패배'.format(p,c))\n",
    "            elif c=='보':\n",
    "                count+=1\n",
    "                win+=1\n",
    "                print('Player: {}, Computer: {}, 플레이어 승리'.format(p,c))\n",
    "        elif p=='보':\n",
    "            if c=='보':\n",
    "                count+=1\n",
    "                draw+=1\n",
    "                print('Player: {}, Computer: {}, 무승부'.format(p,c))\n",
    "            elif c=='가위':\n",
    "                count+=1\n",
    "                lose+=1\n",
    "                print('Player: {}, Computer: {}, 플레이어 패배'.format(p,c))\n",
    "            elif c=='바위':\n",
    "                count+=1\n",
    "                win+=1\n",
    "                print('Player: {}, Computer: {}, 플레이어 승리'.format(p,c))\n",
    "                \n"
   ]
  },
  {
   "cell_type": "code",
   "execution_count": null,
   "id": "d741054e",
   "metadata": {},
   "outputs": [],
   "source": []
  }
 ],
 "metadata": {
  "kernelspec": {
   "display_name": "Python 3 (ipykernel)",
   "language": "python",
   "name": "python3"
  },
  "language_info": {
   "codemirror_mode": {
    "name": "ipython",
    "version": 3
   },
   "file_extension": ".py",
   "mimetype": "text/x-python",
   "name": "python",
   "nbconvert_exporter": "python",
   "pygments_lexer": "ipython3",
   "version": "3.9.12"
  }
 },
 "nbformat": 4,
 "nbformat_minor": 5
}
