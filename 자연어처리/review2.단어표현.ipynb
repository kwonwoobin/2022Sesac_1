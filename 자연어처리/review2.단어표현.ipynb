{
 "cells": [
  {
   "cell_type": "markdown",
   "id": "a22676b5",
   "metadata": {},
   "source": [
    "# 1.BoW (Bag of Words)\n",
    "- 단어들의 순서는 전혀 고려하지 않고 출현 빈도에만 집중하는 텍스트데이터 수치화 방법\n",
    "- 분류 문제나 여러 문서 간의 유사도를 구하는 문제에 주로 쓰입니다. "
   ]
  },
  {
   "cell_type": "markdown",
   "id": "bf2ffb4e",
   "metadata": {},
   "source": [
    "## 1) BoW 예제"
   ]
  },
  {
   "cell_type": "code",
   "execution_count": 5,
   "id": "84af882a",
   "metadata": {},
   "outputs": [],
   "source": [
    "from konlpy.tag import Okt\n",
    "\n",
    "okt = Okt()\n",
    "\n",
    "def build_bag_of_words(document):\n",
    "    # 온점 제거 및 형태소 분석\n",
    "    document = document.replace('.', '')\n",
    "    tokenized_document = okt.morphs(document)\n",
    "    \n",
    "    word_to_index = {}\n",
    "    bow = []\n",
    "    \n",
    "    for word in tokenized_document:\n",
    "        if word not in word_to_index.keys():\n",
    "            word_to_index[word] = len(word_to_index)\n",
    "            # BoW에 전부 기본값 1을 넣는다\n",
    "            bow.insert(len(word_to_index)-1, 1)\n",
    "        else:\n",
    "            # 재등장하는 단어의 인덱스\n",
    "            index = word_to_index.get(word)\n",
    "            # 재등장하는 단어는 해당하는 인덱스의 위치에 1을 더함\n",
    "            bow[index] = bow[index]+1\n",
    "    return word_to_index, bow"
   ]
  },
  {
   "cell_type": "code",
   "execution_count": 6,
   "id": "4f7bc23f",
   "metadata": {},
   "outputs": [
    {
     "name": "stdout",
     "output_type": "stream",
     "text": [
      "vocabulary : {'정부': 0, '가': 1, '발표': 2, '하는': 3, '물가상승률': 4, '과': 5, '소비자': 6, '느끼는': 7, '은': 8, '다르다': 9}\n",
      "bag of words vector : [1, 2, 1, 1, 2, 1, 1, 1, 1, 1]\n"
     ]
    }
   ],
   "source": [
    "doc1 = \"정부가 발표하는 물가상승률과 소비자가 느끼는 물가상승률은 다르다.\"\n",
    "vocab, bow = build_bag_of_words(doc1)\n",
    "print('vocabulary :', vocab)\n",
    "print('bag of words vector :', bow)"
   ]
  },
  {
   "cell_type": "markdown",
   "id": "7ec2d51c",
   "metadata": {},
   "source": [
    "예제2"
   ]
  },
  {
   "cell_type": "code",
   "execution_count": 7,
   "id": "98bde44d",
   "metadata": {},
   "outputs": [
    {
     "name": "stdout",
     "output_type": "stream",
     "text": [
      "vocabulary : {'소비자': 0, '는': 1, '주로': 2, '소비': 3, '하는': 4, '상품': 5, '을': 6, '기준': 7, '으로': 8, '물가상승률': 9, '느낀다': 10}\n",
      "bag of words vector : [1, 1, 1, 1, 1, 1, 2, 1, 1, 1, 1]\n"
     ]
    }
   ],
   "source": [
    "doc2 = '소비자는 주로 소비하는 상품을 기준으로 물가상승률을 느낀다.'\n",
    "\n",
    "vocab, bow = build_bag_of_words(doc2)\n",
    "print('vocabulary :', vocab)\n",
    "print('bag of words vector :', bow)"
   ]
  },
  {
   "cell_type": "markdown",
   "id": "a9b61518",
   "metadata": {},
   "source": [
    "문서2과 문서2 합쳐서 BoW 만들 수도 있음"
   ]
  },
  {
   "cell_type": "code",
   "execution_count": 8,
   "id": "842b3fc6",
   "metadata": {},
   "outputs": [
    {
     "name": "stdout",
     "output_type": "stream",
     "text": [
      "vocabulary : {'정부': 0, '가': 1, '발표': 2, '하는': 3, '물가상승률': 4, '과': 5, '소비자': 6, '느끼는': 7, '은': 8, '다르다': 9, '는': 10, '주로': 11, '소비': 12, '상품': 13, '을': 14, '기준': 15, '으로': 16, '느낀다': 17}\n",
      "bag of words vector : [1, 2, 1, 2, 3, 1, 2, 1, 1, 1, 1, 1, 1, 1, 2, 1, 1, 1]\n"
     ]
    }
   ],
   "source": [
    "doc3 = doc1 + ' ' + doc2\n",
    "vocab, bow = build_bag_of_words(doc3)\n",
    "print('vocabulary :', vocab)\n",
    "print('bag of words vector :', bow)"
   ]
  },
  {
   "cell_type": "markdown",
   "id": "9fa918c3",
   "metadata": {},
   "source": [
    "여러 문서의 단어 집합을 합친 뒤에 해당 단어 집합에 대한 각 문서의 BoW를 구하기도 함\n",
    "- ex 문서3에 대한 단어집합 기준으로 문서1,문서2의 BoW를 만드는 예제"
   ]
  },
  {
   "cell_type": "markdown",
   "id": "12117154",
   "metadata": {},
   "source": [
    "## 2) CountVectorizer 클래스로 BoW 만들기"
   ]
  },
  {
   "cell_type": "code",
   "execution_count": 9,
   "id": "07a496d7",
   "metadata": {},
   "outputs": [
    {
     "name": "stdout",
     "output_type": "stream",
     "text": [
      "bag of words vector: [[1 1 2 1 2 1]]\n",
      "vocabulary: {'you': 4, 'know': 1, 'want': 3, 'your': 5, 'love': 2, 'because': 0}\n"
     ]
    }
   ],
   "source": [
    "from sklearn.feature_extraction.text import CountVectorizer\n",
    "\n",
    "corpus = ['you know I want your love. because I love you.']\n",
    "vector = CountVectorizer()\n",
    "\n",
    "# 코퍼스로부터 각 단어의 빈도 수를 기록\n",
    "print('bag of words vector:', vector.fit_transform(corpus).toarray())\n",
    "\n",
    "# 각 단어의 인덱스가 어떻게 부여되었는지를 출력\n",
    "print('vocabulary:', vector.vocabulary_)"
   ]
  },
  {
   "cell_type": "code",
   "execution_count": 10,
   "id": "4c645d45",
   "metadata": {},
   "outputs": [],
   "source": [
    "# 알파벳 I는 BoW를 만드는 과정에서 사라졌는데, 이는 CountVectorizer가 기본적으로 길이가 2이상인 문자에 대해서만 토큰으로 인식하기 때문\n",
    "# 주의할 것은 CountVectorizer는 단지 띄어쓰기만을 기준으로 단어를 자르는 낮은 수준의 토큰화를 진행하고 BoW를 만든다"
   ]
  },
  {
   "cell_type": "markdown",
   "id": "dbbb54dd",
   "metadata": {},
   "source": [
    "## 3) 불용어를 제거한 BoW 만들기"
   ]
  },
  {
   "cell_type": "code",
   "execution_count": 11,
   "id": "302c82bf",
   "metadata": {},
   "outputs": [],
   "source": [
    "from sklearn.feature_extraction.text import CountVectorizer\n",
    "from nltk.corpus import stopwords"
   ]
  },
  {
   "cell_type": "markdown",
   "id": "f5e8b472",
   "metadata": {},
   "source": [
    "### (1) 사용자가 직접 정의한 불용어 사용"
   ]
  },
  {
   "cell_type": "code",
   "execution_count": 12,
   "id": "beadf03e",
   "metadata": {},
   "outputs": [
    {
     "name": "stdout",
     "output_type": "stream",
     "text": [
      "bag of words vector: [[1 1 1 1 1]]\n",
      "voca: {'family': 1, 'important': 2, 'thing': 4, 'it': 3, 'everything': 0}\n"
     ]
    }
   ],
   "source": [
    "text = [\"Family is not an important thing. It's everything.\"]\n",
    "vect = CountVectorizer(stop_words=['the', 'a', 'an', 'is', 'not'])\n",
    "print('bag of words vector:', vect.fit_transform(text).toarray())\n",
    "print('voca:', vect.vocabulary_)"
   ]
  },
  {
   "cell_type": "markdown",
   "id": "534ca3b4",
   "metadata": {},
   "source": [
    "### (2) CountVectorizer에서 제공하는 자체 불용어 사용"
   ]
  },
  {
   "cell_type": "code",
   "execution_count": 13,
   "id": "e9790bd6",
   "metadata": {},
   "outputs": [
    {
     "name": "stdout",
     "output_type": "stream",
     "text": [
      "bag of words vector: [[1 1 1]]\n",
      "voca {'family': 0, 'important': 1, 'thing': 2}\n"
     ]
    }
   ],
   "source": [
    "text = [\"Family is not an important thing. It's everything.\"]\n",
    "vect = CountVectorizer(stop_words='english')\n",
    "print('bag of words vector:', vect.fit_transform(text).toarray())\n",
    "print('voca', vect.vocabulary_)"
   ]
  },
  {
   "cell_type": "markdown",
   "id": "07f47004",
   "metadata": {},
   "source": [
    "### (3) NLTK에서 지원하는 불용어 사용"
   ]
  },
  {
   "cell_type": "code",
   "execution_count": 14,
   "id": "3a93fede",
   "metadata": {},
   "outputs": [
    {
     "name": "stdout",
     "output_type": "stream",
     "text": [
      "bag of words vector: [[1 1 1 1]]\n",
      "voca {'family': 1, 'important': 2, 'thing': 3, 'everything': 0}\n"
     ]
    }
   ],
   "source": [
    "text = [\"Family is not an important thing. It's everything.\"]\n",
    "stop_words = stopwords.words('english')\n",
    "vect = CountVectorizer(stop_words = stop_words)\n",
    "print('bag of words vector:', vect.fit_transform(text).toarray())\n",
    "print('voca', vect.vocabulary_)"
   ]
  },
  {
   "cell_type": "markdown",
   "id": "89fa07a4",
   "metadata": {},
   "source": [
    "# 2. 문서단어행렬 DTM\n",
    "- 다수의 문서에서 등장하는 각 단어들의 빈도를 행렬로 표현한 것\n",
    "* 행과 열을 반대로 선택하면 TDM"
   ]
  },
  {
   "cell_type": "code",
   "execution_count": 15,
   "id": "e9c4ca26",
   "metadata": {},
   "outputs": [
    {
     "name": "stdout",
     "output_type": "stream",
     "text": [
      "Requirement already satisfied: wget in c:\\users\\bin\\anaconda3\\envs\\my_project\\lib\\site-packages (3.2)\n",
      "100% [..............................................................................] 55772 / 55772"
     ]
    },
    {
     "data": {
      "text/plain": [
       "'imdb (1).xlsx'"
      ]
     },
     "execution_count": 15,
     "metadata": {},
     "output_type": "execute_result"
    }
   ],
   "source": [
    "# 데이터 다운로드\n",
    "!pip install wget\n",
    "# windows일 경우\n",
    "import wget\n",
    "\n",
    "wget.download('https://raw.githubusercontent.com/euphoris/datasets/master/imdb.xlsx')"
   ]
  },
  {
   "cell_type": "code",
   "execution_count": 18,
   "id": "398abeb5",
   "metadata": {},
   "outputs": [],
   "source": [
    "# 데이터 열기 \n",
    "import pandas as pd\n",
    "df = pd.read_excel('imdb (1).xlsx', index_col=0)"
   ]
  },
  {
   "cell_type": "code",
   "execution_count": 19,
   "id": "4fb4e3a7",
   "metadata": {},
   "outputs": [
    {
     "data": {
      "text/html": [
       "<div>\n",
       "<style scoped>\n",
       "    .dataframe tbody tr th:only-of-type {\n",
       "        vertical-align: middle;\n",
       "    }\n",
       "\n",
       "    .dataframe tbody tr th {\n",
       "        vertical-align: top;\n",
       "    }\n",
       "\n",
       "    .dataframe thead th {\n",
       "        text-align: right;\n",
       "    }\n",
       "</style>\n",
       "<table border=\"1\" class=\"dataframe\">\n",
       "  <thead>\n",
       "    <tr style=\"text-align: right;\">\n",
       "      <th></th>\n",
       "      <th>review</th>\n",
       "      <th>sentiment</th>\n",
       "    </tr>\n",
       "  </thead>\n",
       "  <tbody>\n",
       "    <tr>\n",
       "      <th>0</th>\n",
       "      <td>A very, very, very slow-moving, aimless movie ...</td>\n",
       "      <td>0</td>\n",
       "    </tr>\n",
       "    <tr>\n",
       "      <th>1</th>\n",
       "      <td>Not sure who was more lost - the flat characte...</td>\n",
       "      <td>0</td>\n",
       "    </tr>\n",
       "    <tr>\n",
       "      <th>2</th>\n",
       "      <td>Attempting artiness with black &amp; white and cle...</td>\n",
       "      <td>0</td>\n",
       "    </tr>\n",
       "    <tr>\n",
       "      <th>3</th>\n",
       "      <td>Very little music or anything to speak of.</td>\n",
       "      <td>0</td>\n",
       "    </tr>\n",
       "    <tr>\n",
       "      <th>4</th>\n",
       "      <td>The best scene in the movie was when Gerardo i...</td>\n",
       "      <td>1</td>\n",
       "    </tr>\n",
       "  </tbody>\n",
       "</table>\n",
       "</div>"
      ],
      "text/plain": [
       "                                              review  sentiment\n",
       "0  A very, very, very slow-moving, aimless movie ...          0\n",
       "1  Not sure who was more lost - the flat characte...          0\n",
       "2  Attempting artiness with black & white and cle...          0\n",
       "3       Very little music or anything to speak of.            0\n",
       "4  The best scene in the movie was when Gerardo i...          1"
      ]
     },
     "execution_count": 19,
     "metadata": {},
     "output_type": "execute_result"
    }
   ],
   "source": [
    "df.head()"
   ]
  },
  {
   "cell_type": "code",
   "execution_count": 22,
   "id": "08a2dbb5",
   "metadata": {},
   "outputs": [
    {
     "data": {
      "text/plain": [
       "(748, 2)"
      ]
     },
     "execution_count": 22,
     "metadata": {},
     "output_type": "execute_result"
    }
   ],
   "source": [
    "df.shape"
   ]
  },
  {
   "cell_type": "markdown",
   "id": "d11a1cbe",
   "metadata": {},
   "source": [
    "#### TDM 만들기"
   ]
  },
  {
   "cell_type": "code",
   "execution_count": 20,
   "id": "8e5eaed3",
   "metadata": {},
   "outputs": [],
   "source": [
    "from sklearn.feature_extraction.text import CountVectorizer\n",
    "\n",
    "# max_features : 빈도순으로 최대 500단어까지 포함\n",
    "# stop_words='english' : 불용어(관사, 전치사등을 제거)\n",
    "cv = CountVectorizer(max_features=500, stop_words='english')"
   ]
  },
  {
   "cell_type": "code",
   "execution_count": 21,
   "id": "460207ca",
   "metadata": {},
   "outputs": [
    {
     "data": {
      "text/plain": [
       "<748x500 sparse matrix of type '<class 'numpy.int64'>'\n",
       "\twith 3434 stored elements in Compressed Sparse Row format>"
      ]
     },
     "execution_count": 21,
     "metadata": {},
     "output_type": "execute_result"
    }
   ],
   "source": [
    "tdm = cv.fit_transform(df['review'])\n",
    "tdm"
   ]
  },
  {
   "cell_type": "code",
   "execution_count": 23,
   "id": "7a368e97",
   "metadata": {},
   "outputs": [
    {
     "data": {
      "text/plain": [
       "(748, 500)"
      ]
     },
     "execution_count": 23,
     "metadata": {},
     "output_type": "execute_result"
    }
   ],
   "source": [
    "tdm.shape"
   ]
  },
  {
   "cell_type": "markdown",
   "id": "a563713f",
   "metadata": {},
   "source": [
    "단어목록"
   ]
  },
  {
   "cell_type": "code",
   "execution_count": 26,
   "id": "9d5f36a7",
   "metadata": {},
   "outputs": [
    {
     "data": {
      "text/plain": [
       "['10',\n",
       " '20',\n",
       " '90',\n",
       " 'absolutely',\n",
       " 'acted',\n",
       " 'acting',\n",
       " 'action',\n",
       " 'actor',\n",
       " 'actors',\n",
       " 'actress']"
      ]
     },
     "execution_count": 26,
     "metadata": {},
     "output_type": "execute_result"
    }
   ],
   "source": [
    "# 단어 목록을 볼때는 tdm이 아니라 cv에 저장되어 있음\n",
    "cv.get_feature_names()[:10]"
   ]
  },
  {
   "cell_type": "code",
   "execution_count": 25,
   "id": "31e05090",
   "metadata": {},
   "outputs": [
    {
     "data": {
      "text/plain": [
       "500"
      ]
     },
     "execution_count": 25,
     "metadata": {},
     "output_type": "execute_result"
    }
   ],
   "source": [
    "len(cv.get_feature_names())"
   ]
  },
  {
   "cell_type": "markdown",
   "id": "e23ef036",
   "metadata": {},
   "source": [
    "단어별 총 빈도"
   ]
  },
  {
   "cell_type": "code",
   "execution_count": 27,
   "id": "6165a8b8",
   "metadata": {},
   "outputs": [
    {
     "data": {
      "text/plain": [
       "matrix([[ 29,   3,   6,   9,   3,  43,   7,  10,  19,   3,   3,  10,   3,\n",
       "           4,   3,   4,   9,   3,   3,   3,   6,   3,   4,   3,  13,   4,\n",
       "           3,   5,   3,   8,   5,   3,  14,  71,   4,  11,   4,   6,   8,\n",
       "          25,  18,  10,   5,  10,   4,   3,   4,  10,   3,   3,   6,   7,\n",
       "           3,   4,  10,   5,   3,  18,   6,   8,  24,  35,   4,   3,   7,\n",
       "           3,   4,   5,   8,  10,   6,   5,   5,   7,   4,   3,   3,   5,\n",
       "           3,   3,   4,   4,   7,   4,   5,   3,   4,   6,   4,   3,   5,\n",
       "           4,   3,   5,   4,   3,   9,   3,   4,   3,  13,  11,  22,   5,\n",
       "           3,   9,   5,  12,   6,   3,   9,  12,  26,   4,  10,   3,   3,\n",
       "           3,   3,   4,   4,   3,   6,   3,   9,  11,  11,   4,   5,   3,\n",
       "           9,   4,   6,   3,   8,   3,   3,  16,   4,   7,   4,   4,   5,\n",
       "           8,   5,   7,   5,   7,   5,   3,   3,  10,   5, 163,  24,   3,\n",
       "           3,   5,   6,   4,   5,  19,   3,   9,   3,   7,   5,   3,   4,\n",
       "           3,   6,   3,   7,   3,   6,   4,   4,  10,  58,   8,   3,   3,\n",
       "          41,   3,   5,   6,   3,   3,   4,   3,   6,   3,   3,  10,   6,\n",
       "           3,   6,   6,   6,   4,   6,   9,   5,   4,   3,   4,   6,   3,\n",
       "           4,   4,   3,   3,   6,   3,   3,   4,   4,   4,  12,   5,   4,\n",
       "           9,   7,   3,   5,  63,   8,   8,   3,  14,   6,   5,   3,   5,\n",
       "           3,   3,   5,   4,  12,  48,  10,  12,   7,   3,  17,   4,   7,\n",
       "           3,   8,  19,   4,   3,   3,   4,   9,   3,  22,  10,   4,   5,\n",
       "           3,  22,   8,   6,  13,   3,   3,   4,   3,   4,   4,   3,   4,\n",
       "           6,   3,   5,   8,   4,   5,   4,   8,   3,   3,   6, 182,  29,\n",
       "           4,  14,   3,   3,   5,   6,   5,   5,   3,   3,   3,   4,   5,\n",
       "           8,   4,   3,   5,   3,   5,   4,   5,  14,   6,  12,   6,   5,\n",
       "           4,  10,   4,   4,   9,  10,   7,  28,   4,   6,   6,   3,   3,\n",
       "          10,   4,   3,   4,  13,   8,   4,   3,   5,   3,   3,   3,   3,\n",
       "          10,   3,   3,   3,   3,   4,   4,  21,  41,  13,   6,   3,   3,\n",
       "           3,   6,   4,   5,  13,   4,   4,   3,   5,  12,  13,   3,   4,\n",
       "          14,  19,   3,  14,   3,  24,   3,   6,   7,  23,   7,   3,   8,\n",
       "           3,   3,   4,  11,   5,   5,  10,   5,   6,   4,   5,   4,   4,\n",
       "           6,   4,   3,   3,   3,   9,   3,   3,   3,   3,   4,   3,   5,\n",
       "           3,   4,  28,   4,   5,   3,  14,   6,   3,   7,   7,   8,   3,\n",
       "           5,   3,   3,   8,   4,   3,   5,   4,  12,   5,   4,   3,  13,\n",
       "          12,  21,   3,   3,  12,   5,   3,  43,   5,   4,   3,   5,   4,\n",
       "          15,   3,   4,   3,   4,   9,   4,   4,   3,   8,   3,   4,   3,\n",
       "           9,   4,   4,   6,   8,   4,   4,   3,  13,   4,   6,   3,   7,\n",
       "          14,   7,  17,   3,   9,  22,  23,   8,   3,   3,   3,   3,   5,\n",
       "          18,   3,   5,  20,   5,   6,  11,  11,  13,   3,   3,   3,  13,\n",
       "           7,   3,   5,  14,   3,   4]], dtype=int64)"
      ]
     },
     "execution_count": 27,
     "metadata": {},
     "output_type": "execute_result"
    }
   ],
   "source": [
    "tdm.sum(axis=0) #열별 단어 수"
   ]
  },
  {
   "cell_type": "code",
   "execution_count": null,
   "id": "46d1140f",
   "metadata": {},
   "outputs": [],
   "source": [
    "tdm.sum(axis=1) # 행별 단어 수"
   ]
  },
  {
   "cell_type": "code",
   "execution_count": 28,
   "id": "789ef857",
   "metadata": {},
   "outputs": [],
   "source": [
    "word_count = pd.DataFrame({\n",
    "    '단어':cv.get_feature_names(),\n",
    "    '빈도':tdm.sum(axis=0).flat\n",
    "})"
   ]
  },
  {
   "cell_type": "code",
   "execution_count": 29,
   "id": "09b4042d",
   "metadata": {},
   "outputs": [
    {
     "data": {
      "text/plain": [
       "numpy.matrix"
      ]
     },
     "execution_count": 29,
     "metadata": {},
     "output_type": "execute_result"
    }
   ],
   "source": [
    "type(tdm.sum(axis=0))"
   ]
  },
  {
   "cell_type": "code",
   "execution_count": 30,
   "id": "4fa84c32",
   "metadata": {},
   "outputs": [
    {
     "data": {
      "text/html": [
       "<div>\n",
       "<style scoped>\n",
       "    .dataframe tbody tr th:only-of-type {\n",
       "        vertical-align: middle;\n",
       "    }\n",
       "\n",
       "    .dataframe tbody tr th {\n",
       "        vertical-align: top;\n",
       "    }\n",
       "\n",
       "    .dataframe thead th {\n",
       "        text-align: right;\n",
       "    }\n",
       "</style>\n",
       "<table border=\"1\" class=\"dataframe\">\n",
       "  <thead>\n",
       "    <tr style=\"text-align: right;\">\n",
       "      <th></th>\n",
       "      <th>단어</th>\n",
       "      <th>빈도</th>\n",
       "    </tr>\n",
       "  </thead>\n",
       "  <tbody>\n",
       "    <tr>\n",
       "      <th>0</th>\n",
       "      <td>10</td>\n",
       "      <td>29</td>\n",
       "    </tr>\n",
       "    <tr>\n",
       "      <th>1</th>\n",
       "      <td>20</td>\n",
       "      <td>3</td>\n",
       "    </tr>\n",
       "    <tr>\n",
       "      <th>2</th>\n",
       "      <td>90</td>\n",
       "      <td>6</td>\n",
       "    </tr>\n",
       "    <tr>\n",
       "      <th>3</th>\n",
       "      <td>absolutely</td>\n",
       "      <td>9</td>\n",
       "    </tr>\n",
       "    <tr>\n",
       "      <th>4</th>\n",
       "      <td>acted</td>\n",
       "      <td>3</td>\n",
       "    </tr>\n",
       "    <tr>\n",
       "      <th>...</th>\n",
       "      <td>...</td>\n",
       "      <td>...</td>\n",
       "    </tr>\n",
       "    <tr>\n",
       "      <th>495</th>\n",
       "      <td>wrong</td>\n",
       "      <td>3</td>\n",
       "    </tr>\n",
       "    <tr>\n",
       "      <th>496</th>\n",
       "      <td>year</td>\n",
       "      <td>5</td>\n",
       "    </tr>\n",
       "    <tr>\n",
       "      <th>497</th>\n",
       "      <td>years</td>\n",
       "      <td>14</td>\n",
       "    </tr>\n",
       "    <tr>\n",
       "      <th>498</th>\n",
       "      <td>yes</td>\n",
       "      <td>3</td>\n",
       "    </tr>\n",
       "    <tr>\n",
       "      <th>499</th>\n",
       "      <td>young</td>\n",
       "      <td>4</td>\n",
       "    </tr>\n",
       "  </tbody>\n",
       "</table>\n",
       "<p>500 rows × 2 columns</p>\n",
       "</div>"
      ],
      "text/plain": [
       "             단어  빈도\n",
       "0            10  29\n",
       "1            20   3\n",
       "2            90   6\n",
       "3    absolutely   9\n",
       "4         acted   3\n",
       "..          ...  ..\n",
       "495       wrong   3\n",
       "496        year   5\n",
       "497       years  14\n",
       "498         yes   3\n",
       "499       young   4\n",
       "\n",
       "[500 rows x 2 columns]"
      ]
     },
     "execution_count": 30,
     "metadata": {},
     "output_type": "execute_result"
    }
   ],
   "source": [
    "word_count"
   ]
  },
  {
   "cell_type": "code",
   "execution_count": 31,
   "id": "2ec18209",
   "metadata": {},
   "outputs": [
    {
     "data": {
      "text/html": [
       "<div>\n",
       "<style scoped>\n",
       "    .dataframe tbody tr th:only-of-type {\n",
       "        vertical-align: middle;\n",
       "    }\n",
       "\n",
       "    .dataframe tbody tr th {\n",
       "        vertical-align: top;\n",
       "    }\n",
       "\n",
       "    .dataframe thead th {\n",
       "        text-align: right;\n",
       "    }\n",
       "</style>\n",
       "<table border=\"1\" class=\"dataframe\">\n",
       "  <thead>\n",
       "    <tr style=\"text-align: right;\">\n",
       "      <th></th>\n",
       "      <th>단어</th>\n",
       "      <th>빈도</th>\n",
       "    </tr>\n",
       "  </thead>\n",
       "  <tbody>\n",
       "    <tr>\n",
       "      <th>284</th>\n",
       "      <td>movie</td>\n",
       "      <td>182</td>\n",
       "    </tr>\n",
       "    <tr>\n",
       "      <th>153</th>\n",
       "      <td>film</td>\n",
       "      <td>163</td>\n",
       "    </tr>\n",
       "    <tr>\n",
       "      <th>33</th>\n",
       "      <td>bad</td>\n",
       "      <td>71</td>\n",
       "    </tr>\n",
       "    <tr>\n",
       "      <th>225</th>\n",
       "      <td>just</td>\n",
       "      <td>63</td>\n",
       "    </tr>\n",
       "    <tr>\n",
       "      <th>178</th>\n",
       "      <td>good</td>\n",
       "      <td>58</td>\n",
       "    </tr>\n",
       "  </tbody>\n",
       "</table>\n",
       "</div>"
      ],
      "text/plain": [
       "        단어   빈도\n",
       "284  movie  182\n",
       "153   film  163\n",
       "33     bad   71\n",
       "225   just   63\n",
       "178   good   58"
      ]
     },
     "execution_count": 31,
     "metadata": {},
     "output_type": "execute_result"
    }
   ],
   "source": [
    "word_count.sort_values('빈도', ascending=False).head()"
   ]
  },
  {
   "cell_type": "markdown",
   "id": "b2a43a69",
   "metadata": {},
   "source": [
    "단어 빈도 저장"
   ]
  },
  {
   "cell_type": "code",
   "execution_count": 32,
   "id": "bd78562e",
   "metadata": {},
   "outputs": [],
   "source": [
    "word_count.to_csv('word_count.csv')"
   ]
  },
  {
   "cell_type": "markdown",
   "id": "df2a54d5",
   "metadata": {},
   "source": [
    "# 3. 단어 구름(wordcloud)\n",
    "- 빈도를 시각화\n",
    "- https://webcache.googleusercontent.com/search?q=cache:CuTLFOWSj0YJ:https://mindscale.kr/course/python-text-analysis/4/&cd=1&hl=ko&ct=clnk&gl=gh"
   ]
  },
  {
   "cell_type": "code",
   "execution_count": 33,
   "id": "017bbc91",
   "metadata": {},
   "outputs": [],
   "source": [
    "word_count = pd.read_csv('word_count.csv', index_col=0)"
   ]
  },
  {
   "cell_type": "code",
   "execution_count": 35,
   "id": "d033ac2b",
   "metadata": {},
   "outputs": [
    {
     "data": {
      "text/html": [
       "<div>\n",
       "<style scoped>\n",
       "    .dataframe tbody tr th:only-of-type {\n",
       "        vertical-align: middle;\n",
       "    }\n",
       "\n",
       "    .dataframe tbody tr th {\n",
       "        vertical-align: top;\n",
       "    }\n",
       "\n",
       "    .dataframe thead th {\n",
       "        text-align: right;\n",
       "    }\n",
       "</style>\n",
       "<table border=\"1\" class=\"dataframe\">\n",
       "  <thead>\n",
       "    <tr style=\"text-align: right;\">\n",
       "      <th></th>\n",
       "      <th>단어</th>\n",
       "      <th>빈도</th>\n",
       "    </tr>\n",
       "  </thead>\n",
       "  <tbody>\n",
       "    <tr>\n",
       "      <th>0</th>\n",
       "      <td>10</td>\n",
       "      <td>29</td>\n",
       "    </tr>\n",
       "    <tr>\n",
       "      <th>1</th>\n",
       "      <td>20</td>\n",
       "      <td>3</td>\n",
       "    </tr>\n",
       "    <tr>\n",
       "      <th>2</th>\n",
       "      <td>90</td>\n",
       "      <td>6</td>\n",
       "    </tr>\n",
       "    <tr>\n",
       "      <th>3</th>\n",
       "      <td>absolutely</td>\n",
       "      <td>9</td>\n",
       "    </tr>\n",
       "    <tr>\n",
       "      <th>4</th>\n",
       "      <td>acted</td>\n",
       "      <td>3</td>\n",
       "    </tr>\n",
       "  </tbody>\n",
       "</table>\n",
       "</div>"
      ],
      "text/plain": [
       "           단어  빈도\n",
       "0          10  29\n",
       "1          20   3\n",
       "2          90   6\n",
       "3  absolutely   9\n",
       "4       acted   3"
      ]
     },
     "execution_count": 35,
     "metadata": {},
     "output_type": "execute_result"
    }
   ],
   "source": [
    "word_count.head()"
   ]
  },
  {
   "cell_type": "code",
   "execution_count": 36,
   "id": "117ef26f",
   "metadata": {},
   "outputs": [],
   "source": [
    "from wordcloud import WordCloud\n",
    "\n",
    "# 배경\n",
    "wc = WordCloud(background_color='white', max_words=100, width=400, height=300)"
   ]
  },
  {
   "cell_type": "code",
   "execution_count": 37,
   "id": "0f3ef9a2",
   "metadata": {},
   "outputs": [
    {
     "data": {
      "text/plain": [
       "{'10': 29,\n",
       " '20': 3,\n",
       " '90': 6,\n",
       " 'absolutely': 9,\n",
       " 'acted': 3,\n",
       " 'acting': 43,\n",
       " 'action': 7,\n",
       " 'actor': 10,\n",
       " 'actors': 19,\n",
       " 'actress': 3,\n",
       " 'actresses': 3,\n",
       " 'actually': 10,\n",
       " 'addition': 3,\n",
       " 'adorable': 4,\n",
       " 'aerial': 3,\n",
       " 'age': 4,\n",
       " 'amazing': 9,\n",
       " 'angel': 3,\n",
       " 'animation': 3,\n",
       " 'anne': 3,\n",
       " 'annoying': 6,\n",
       " 'appearance': 3,\n",
       " 'appreciate': 4,\n",
       " 'aren': 3,\n",
       " 'art': 13,\n",
       " 'attempt': 4,\n",
       " 'attention': 3,\n",
       " 'audience': 5,\n",
       " 'average': 3,\n",
       " 'avoid': 8,\n",
       " 'away': 5,\n",
       " 'awesome': 3,\n",
       " 'awful': 14,\n",
       " 'bad': 71,\n",
       " 'barely': 4,\n",
       " 'beautiful': 11,\n",
       " 'beginning': 4,\n",
       " 'believable': 6,\n",
       " 'believe': 8,\n",
       " 'best': 25,\n",
       " 'better': 18,\n",
       " 'big': 10,\n",
       " 'bit': 5,\n",
       " 'black': 10,\n",
       " 'book': 4,\n",
       " 'bore': 3,\n",
       " 'bored': 4,\n",
       " 'boring': 10,\n",
       " 'bought': 3,\n",
       " 'brilliance': 3,\n",
       " 'brilliant': 6,\n",
       " 'budget': 7,\n",
       " 'called': 3,\n",
       " 'came': 4,\n",
       " 'camera': 10,\n",
       " 'care': 5,\n",
       " 'cartoon': 3,\n",
       " 'cast': 18,\n",
       " 'casting': 6,\n",
       " 'certainly': 8,\n",
       " 'character': 24,\n",
       " 'characters': 35,\n",
       " 'charles': 4,\n",
       " 'charming': 3,\n",
       " 'cheap': 7,\n",
       " 'checking': 3,\n",
       " 'chemistry': 4,\n",
       " 'child': 5,\n",
       " 'cinema': 8,\n",
       " 'cinematography': 10,\n",
       " 'classic': 6,\n",
       " 'clever': 5,\n",
       " 'come': 5,\n",
       " 'comedy': 7,\n",
       " 'comes': 4,\n",
       " 'coming': 3,\n",
       " 'complete': 3,\n",
       " 'completely': 5,\n",
       " 'conclusion': 3,\n",
       " 'conflict': 3,\n",
       " 'consider': 4,\n",
       " 'convincing': 4,\n",
       " 'cool': 7,\n",
       " 'costs': 4,\n",
       " 'couldn': 5,\n",
       " 'course': 3,\n",
       " 'cover': 4,\n",
       " 'crap': 6,\n",
       " 'created': 4,\n",
       " 'credit': 3,\n",
       " 'cult': 5,\n",
       " 'dance': 4,\n",
       " 'dancing': 3,\n",
       " 'day': 5,\n",
       " 'death': 4,\n",
       " 'decent': 3,\n",
       " 'definitely': 9,\n",
       " 'delivers': 3,\n",
       " 'depth': 4,\n",
       " 'dialog': 3,\n",
       " 'dialogue': 13,\n",
       " 'did': 11,\n",
       " 'didn': 22,\n",
       " 'different': 5,\n",
       " 'directed': 3,\n",
       " 'directing': 9,\n",
       " 'direction': 5,\n",
       " 'director': 12,\n",
       " 'disappointed': 6,\n",
       " 'documentary': 3,\n",
       " 'does': 9,\n",
       " 'doesn': 12,\n",
       " 'don': 26,\n",
       " 'drago': 4,\n",
       " 'drama': 10,\n",
       " 'drive': 3,\n",
       " 'dvd': 3,\n",
       " 'earlier': 3,\n",
       " 'early': 3,\n",
       " 'easily': 4,\n",
       " 'easy': 4,\n",
       " 'ed': 3,\n",
       " 'editing': 6,\n",
       " 'effective': 3,\n",
       " 'effects': 9,\n",
       " 'end': 11,\n",
       " 'ending': 11,\n",
       " 'energy': 4,\n",
       " 'enjoy': 5,\n",
       " 'enjoyable': 3,\n",
       " 'enjoyed': 9,\n",
       " 'entertaining': 4,\n",
       " 'entire': 6,\n",
       " 'episode': 3,\n",
       " 'especially': 8,\n",
       " 'exactly': 3,\n",
       " 'example': 3,\n",
       " 'excellent': 16,\n",
       " 'expect': 4,\n",
       " 'experience': 7,\n",
       " 'extremely': 4,\n",
       " 'eyes': 4,\n",
       " 'face': 5,\n",
       " 'fact': 8,\n",
       " 'fails': 5,\n",
       " 'family': 7,\n",
       " 'fans': 5,\n",
       " 'far': 7,\n",
       " 'fast': 5,\n",
       " 'features': 3,\n",
       " 'feel': 3,\n",
       " 'feeling': 10,\n",
       " 'felt': 5,\n",
       " 'film': 163,\n",
       " 'films': 24,\n",
       " 'final': 3,\n",
       " 'finally': 3,\n",
       " 'fine': 5,\n",
       " 'flick': 6,\n",
       " 'follow': 4,\n",
       " 'fun': 5,\n",
       " 'funny': 19,\n",
       " 'fx': 3,\n",
       " 'game': 9,\n",
       " 'games': 3,\n",
       " 'garbage': 7,\n",
       " 'gave': 5,\n",
       " 'gem': 3,\n",
       " 'generally': 4,\n",
       " 'genuine': 3,\n",
       " 'gets': 6,\n",
       " 'giallo': 3,\n",
       " 'girl': 7,\n",
       " 'given': 3,\n",
       " 'gives': 6,\n",
       " 'glad': 4,\n",
       " 'god': 4,\n",
       " 'going': 10,\n",
       " 'good': 58,\n",
       " 'got': 8,\n",
       " 'grace': 3,\n",
       " 'graphics': 3,\n",
       " 'great': 41,\n",
       " 'greatest': 3,\n",
       " 'guess': 5,\n",
       " 'half': 6,\n",
       " 'happen': 3,\n",
       " 'happened': 3,\n",
       " 'hard': 4,\n",
       " 'haven': 3,\n",
       " 'having': 6,\n",
       " 'head': 3,\n",
       " 'heart': 3,\n",
       " 'highly': 10,\n",
       " 'hilarious': 6,\n",
       " 'hill': 3,\n",
       " 'history': 6,\n",
       " 'hitchcock': 6,\n",
       " 'holes': 6,\n",
       " 'hope': 4,\n",
       " 'horrible': 6,\n",
       " 'horror': 9,\n",
       " 'hour': 5,\n",
       " 'hours': 4,\n",
       " 'house': 3,\n",
       " 'huge': 4,\n",
       " 'human': 6,\n",
       " 'huston': 3,\n",
       " 'idea': 4,\n",
       " 'imagination': 4,\n",
       " 'important': 3,\n",
       " 'including': 3,\n",
       " 'incredible': 6,\n",
       " 'incredibly': 3,\n",
       " 'indulgent': 3,\n",
       " 'insult': 4,\n",
       " 'intelligence': 4,\n",
       " 'intelligent': 4,\n",
       " 'interesting': 12,\n",
       " 'involved': 5,\n",
       " 'james': 4,\n",
       " 'job': 9,\n",
       " 'john': 7,\n",
       " 'journey': 3,\n",
       " 'joy': 5,\n",
       " 'just': 63,\n",
       " 'kids': 8,\n",
       " 'kind': 8,\n",
       " 'knew': 3,\n",
       " 'know': 14,\n",
       " 'lacks': 6,\n",
       " 'lame': 5,\n",
       " 'laughable': 3,\n",
       " 'lead': 5,\n",
       " 'learn': 3,\n",
       " 'left': 3,\n",
       " 'let': 5,\n",
       " 'level': 4,\n",
       " 'life': 12,\n",
       " 'like': 48,\n",
       " 'liked': 10,\n",
       " 'line': 12,\n",
       " 'lines': 7,\n",
       " 'lion': 3,\n",
       " 'little': 17,\n",
       " 'living': 4,\n",
       " 'll': 7,\n",
       " 'location': 3,\n",
       " 'long': 8,\n",
       " 'look': 19,\n",
       " 'looked': 4,\n",
       " 'looking': 3,\n",
       " 'looks': 3,\n",
       " 'lost': 4,\n",
       " 'lot': 9,\n",
       " 'lots': 3,\n",
       " 'love': 22,\n",
       " 'loved': 10,\n",
       " 'lovely': 4,\n",
       " 'low': 5,\n",
       " 'main': 3,\n",
       " 'make': 22,\n",
       " 'makes': 8,\n",
       " 'making': 6,\n",
       " 'man': 13,\n",
       " 'martin': 3,\n",
       " 'massive': 3,\n",
       " 'master': 4,\n",
       " 'mature': 3,\n",
       " 'maybe': 4,\n",
       " 'mean': 4,\n",
       " 'meaning': 3,\n",
       " 'mediocre': 4,\n",
       " 'memorable': 6,\n",
       " 'memories': 3,\n",
       " 'mention': 5,\n",
       " 'mess': 8,\n",
       " 'mickey': 4,\n",
       " 'mind': 5,\n",
       " 'minute': 4,\n",
       " 'minutes': 8,\n",
       " 'miyazaki': 3,\n",
       " 'moment': 3,\n",
       " 'money': 6,\n",
       " 'movie': 182,\n",
       " 'movies': 29,\n",
       " 'moving': 4,\n",
       " 'music': 14,\n",
       " 'narrative': 3,\n",
       " 'negative': 3,\n",
       " 'new': 5,\n",
       " 'nice': 6,\n",
       " 'night': 5,\n",
       " 'non': 5,\n",
       " 'nonsense': 3,\n",
       " 'note': 3,\n",
       " 'obviously': 3,\n",
       " 'occasionally': 4,\n",
       " 'oh': 5,\n",
       " 'old': 8,\n",
       " 'original': 4,\n",
       " 'oscar': 3,\n",
       " 'overall': 5,\n",
       " 'paced': 3,\n",
       " 'particularly': 5,\n",
       " 'parts': 4,\n",
       " 'pathetic': 5,\n",
       " 'people': 14,\n",
       " 'perfect': 6,\n",
       " 'performance': 12,\n",
       " 'performances': 6,\n",
       " 'period': 5,\n",
       " 'pg': 4,\n",
       " 'piece': 10,\n",
       " 'place': 4,\n",
       " 'plain': 4,\n",
       " 'play': 9,\n",
       " 'played': 10,\n",
       " 'playing': 7,\n",
       " 'plot': 28,\n",
       " 'point': 4,\n",
       " 'poor': 6,\n",
       " 'portrayal': 6,\n",
       " 'possible': 3,\n",
       " 'possibly': 3,\n",
       " 'predictable': 10,\n",
       " 'premise': 4,\n",
       " 'presents': 3,\n",
       " 'pretentious': 4,\n",
       " 'pretty': 13,\n",
       " 'probably': 8,\n",
       " 'problems': 4,\n",
       " 'produced': 3,\n",
       " 'production': 5,\n",
       " 'provoking': 3,\n",
       " 'puppets': 3,\n",
       " 'pure': 3,\n",
       " 'quality': 3,\n",
       " 'quite': 10,\n",
       " 'race': 3,\n",
       " 'racial': 3,\n",
       " 'ranks': 3,\n",
       " 'rate': 3,\n",
       " 'rating': 4,\n",
       " 'ray': 4,\n",
       " 'real': 21,\n",
       " 'really': 41,\n",
       " 'recommend': 13,\n",
       " 'recommended': 6,\n",
       " 'released': 3,\n",
       " 'remake': 3,\n",
       " 'remember': 3,\n",
       " 'rent': 6,\n",
       " 'rest': 4,\n",
       " 'ridiculous': 5,\n",
       " 'right': 13,\n",
       " 'role': 4,\n",
       " 'roles': 4,\n",
       " 'ruthless': 3,\n",
       " 'said': 5,\n",
       " 'saw': 12,\n",
       " 'say': 13,\n",
       " 'scale': 3,\n",
       " 'scamp': 4,\n",
       " 'scene': 14,\n",
       " 'scenes': 19,\n",
       " 'score': 3,\n",
       " 'screen': 14,\n",
       " 'screenwriter': 3,\n",
       " 'script': 24,\n",
       " 'sea': 3,\n",
       " 'second': 6,\n",
       " 'seeing': 7,\n",
       " 'seen': 23,\n",
       " 'self': 7,\n",
       " 'sense': 3,\n",
       " 'series': 8,\n",
       " 'seriously': 3,\n",
       " 'set': 3,\n",
       " 'sets': 4,\n",
       " 'short': 11,\n",
       " 'shot': 5,\n",
       " 'silent': 5,\n",
       " 'simply': 10,\n",
       " 'single': 5,\n",
       " 'slow': 6,\n",
       " 'small': 4,\n",
       " 'solid': 5,\n",
       " 'song': 4,\n",
       " 'songs': 4,\n",
       " 'sound': 6,\n",
       " 'soundtrack': 4,\n",
       " 'south': 3,\n",
       " 'space': 3,\n",
       " 'speak': 3,\n",
       " 'special': 9,\n",
       " 'spent': 3,\n",
       " 'spoilers': 3,\n",
       " 'stage': 3,\n",
       " 'stanwyck': 3,\n",
       " 'star': 4,\n",
       " 'stars': 3,\n",
       " 'started': 5,\n",
       " 'stereotypes': 3,\n",
       " 'stories': 4,\n",
       " 'story': 28,\n",
       " 'storyline': 4,\n",
       " 'strong': 5,\n",
       " 'stunning': 3,\n",
       " 'stupid': 14,\n",
       " 'style': 6,\n",
       " 'sub': 3,\n",
       " 'subtle': 7,\n",
       " 'sucked': 7,\n",
       " 'sucks': 8,\n",
       " 'super': 3,\n",
       " 'superb': 5,\n",
       " 'sure': 3,\n",
       " 'surprisingly': 3,\n",
       " 'suspense': 8,\n",
       " 'tale': 4,\n",
       " 'talented': 3,\n",
       " 'talk': 5,\n",
       " 'tell': 4,\n",
       " 'terrible': 12,\n",
       " 'terrific': 5,\n",
       " 'theater': 4,\n",
       " 'theme': 3,\n",
       " 'thing': 13,\n",
       " 'things': 12,\n",
       " 'think': 21,\n",
       " 'thinking': 3,\n",
       " 'thoroughly': 3,\n",
       " 'thought': 12,\n",
       " 'thriller': 5,\n",
       " 'thrown': 3,\n",
       " 'time': 43,\n",
       " 'times': 5,\n",
       " 'today': 4,\n",
       " 'told': 3,\n",
       " 'tom': 5,\n",
       " 'torture': 4,\n",
       " 'totally': 15,\n",
       " 'touching': 3,\n",
       " 'trash': 4,\n",
       " 'trilogy': 3,\n",
       " 'true': 4,\n",
       " 'truly': 9,\n",
       " 'try': 4,\n",
       " 'trying': 4,\n",
       " 'turn': 3,\n",
       " 'tv': 8,\n",
       " 'type': 3,\n",
       " 'unbelievable': 4,\n",
       " 'unconvincing': 3,\n",
       " 'understand': 9,\n",
       " 'unfortunately': 4,\n",
       " 'ups': 4,\n",
       " 'use': 6,\n",
       " 'used': 8,\n",
       " 'usual': 4,\n",
       " 'utterly': 4,\n",
       " 'values': 3,\n",
       " 've': 13,\n",
       " 'visual': 4,\n",
       " 'want': 6,\n",
       " 'war': 3,\n",
       " 'wasn': 7,\n",
       " 'waste': 14,\n",
       " 'wasted': 7,\n",
       " 'watch': 17,\n",
       " 'watchable': 3,\n",
       " 'watched': 9,\n",
       " 'watching': 22,\n",
       " 'way': 23,\n",
       " 'white': 8,\n",
       " 'wilkinson': 3,\n",
       " 'wind': 3,\n",
       " 'wish': 3,\n",
       " 'women': 3,\n",
       " 'won': 5,\n",
       " 'wonderful': 18,\n",
       " 'wonderfully': 3,\n",
       " 'word': 5,\n",
       " 'work': 20,\n",
       " 'works': 5,\n",
       " 'world': 6,\n",
       " 'worse': 11,\n",
       " 'worst': 11,\n",
       " 'worth': 13,\n",
       " 'wouldn': 3,\n",
       " 'write': 3,\n",
       " 'writer': 3,\n",
       " 'writing': 13,\n",
       " 'written': 7,\n",
       " 'wrong': 3,\n",
       " 'year': 5,\n",
       " 'years': 14,\n",
       " 'yes': 3,\n",
       " 'young': 4}"
      ]
     },
     "execution_count": 37,
     "metadata": {},
     "output_type": "execute_result"
    }
   ],
   "source": [
    "# word_count를 딕셔너리 형태로 변환\n",
    "count_dic = word_count.set_index('단어')['빈도'].to_dict()\n",
    "count_dic"
   ]
  },
  {
   "cell_type": "code",
   "execution_count": 41,
   "id": "3671b7cd",
   "metadata": {},
   "outputs": [],
   "source": [
    "# 단어 구름 그리기\n",
    "cloud = wc.fit_words(count_dic)"
   ]
  },
  {
   "cell_type": "code",
   "execution_count": 42,
   "id": "2cf99434",
   "metadata": {},
   "outputs": [
    {
     "data": {
      "image/png": "[encoded data removed]",
      "text/plain": [
       "<PIL.Image.Image image mode=RGB size=400x300>"
      ]
     },
     "execution_count": 42,
     "metadata": {},
     "output_type": "execute_result"
    }
   ],
   "source": [
    "# 단어 구름 확인\n",
    "cloud.to_image()"
   ]
  },
  {
   "cell_type": "markdown",
   "id": "fe77baef",
   "metadata": {},
   "source": [
    "# 4. TF-IDF\n",
    "- 단어의 빈도를 보정하는 방법 (중요하지 않은, 많이 나오는 단어들이 많음)"
   ]
  },
  {
   "cell_type": "code",
   "execution_count": 43,
   "id": "2ddc5593",
   "metadata": {},
   "outputs": [
    {
     "data": {
      "text/html": [
       "<div>\n",
       "<style scoped>\n",
       "    .dataframe tbody tr th:only-of-type {\n",
       "        vertical-align: middle;\n",
       "    }\n",
       "\n",
       "    .dataframe tbody tr th {\n",
       "        vertical-align: top;\n",
       "    }\n",
       "\n",
       "    .dataframe thead th {\n",
       "        text-align: right;\n",
       "    }\n",
       "</style>\n",
       "<table border=\"1\" class=\"dataframe\">\n",
       "  <thead>\n",
       "    <tr style=\"text-align: right;\">\n",
       "      <th></th>\n",
       "      <th>review</th>\n",
       "      <th>sentiment</th>\n",
       "    </tr>\n",
       "  </thead>\n",
       "  <tbody>\n",
       "    <tr>\n",
       "      <th>0</th>\n",
       "      <td>A very, very, very slow-moving, aimless movie ...</td>\n",
       "      <td>0</td>\n",
       "    </tr>\n",
       "    <tr>\n",
       "      <th>1</th>\n",
       "      <td>Not sure who was more lost - the flat characte...</td>\n",
       "      <td>0</td>\n",
       "    </tr>\n",
       "    <tr>\n",
       "      <th>2</th>\n",
       "      <td>Attempting artiness with black &amp; white and cle...</td>\n",
       "      <td>0</td>\n",
       "    </tr>\n",
       "    <tr>\n",
       "      <th>3</th>\n",
       "      <td>Very little music or anything to speak of.</td>\n",
       "      <td>0</td>\n",
       "    </tr>\n",
       "    <tr>\n",
       "      <th>4</th>\n",
       "      <td>The best scene in the movie was when Gerardo i...</td>\n",
       "      <td>1</td>\n",
       "    </tr>\n",
       "    <tr>\n",
       "      <th>...</th>\n",
       "      <td>...</td>\n",
       "      <td>...</td>\n",
       "    </tr>\n",
       "    <tr>\n",
       "      <th>743</th>\n",
       "      <td>I just got bored watching Jessice Lange take h...</td>\n",
       "      <td>0</td>\n",
       "    </tr>\n",
       "    <tr>\n",
       "      <th>744</th>\n",
       "      <td>Unfortunately, any virtue in this film's produ...</td>\n",
       "      <td>0</td>\n",
       "    </tr>\n",
       "    <tr>\n",
       "      <th>745</th>\n",
       "      <td>In a word, it is embarrassing.</td>\n",
       "      <td>0</td>\n",
       "    </tr>\n",
       "    <tr>\n",
       "      <th>746</th>\n",
       "      <td>Exceptionally bad!</td>\n",
       "      <td>0</td>\n",
       "    </tr>\n",
       "    <tr>\n",
       "      <th>747</th>\n",
       "      <td>All in all its an insult to one's intelligence...</td>\n",
       "      <td>0</td>\n",
       "    </tr>\n",
       "  </tbody>\n",
       "</table>\n",
       "<p>748 rows × 2 columns</p>\n",
       "</div>"
      ],
      "text/plain": [
       "                                                review  sentiment\n",
       "0    A very, very, very slow-moving, aimless movie ...          0\n",
       "1    Not sure who was more lost - the flat characte...          0\n",
       "2    Attempting artiness with black & white and cle...          0\n",
       "3         Very little music or anything to speak of.            0\n",
       "4    The best scene in the movie was when Gerardo i...          1\n",
       "..                                                 ...        ...\n",
       "743  I just got bored watching Jessice Lange take h...          0\n",
       "744  Unfortunately, any virtue in this film's produ...          0\n",
       "745                   In a word, it is embarrassing.            0\n",
       "746                               Exceptionally bad!            0\n",
       "747  All in all its an insult to one's intelligence...          0\n",
       "\n",
       "[748 rows x 2 columns]"
      ]
     },
     "execution_count": 43,
     "metadata": {},
     "output_type": "execute_result"
    }
   ],
   "source": [
    "# 데이터\n",
    "df"
   ]
  },
  {
   "cell_type": "code",
   "execution_count": 44,
   "id": "934f9c39",
   "metadata": {},
   "outputs": [],
   "source": [
    "# 사이킷런 패키지의 TfidfVectorizer 사용\n",
    "from sklearn.feature_extraction.text import TfidfVectorizer"
   ]
  },
  {
   "cell_type": "code",
   "execution_count": 48,
   "id": "cdd80f49",
   "metadata": {},
   "outputs": [],
   "source": [
    "tfidf = TfidfVectorizer(max_features=500, stop_words='english')\n",
    "\n",
    "#결과를 tdm으로 저장\n",
    "tdm = tfidf.fit_transform(df['review'])"
   ]
  },
  {
   "cell_type": "code",
   "execution_count": 49,
   "id": "74be3c31",
   "metadata": {},
   "outputs": [
    {
     "data": {
      "text/plain": [
       "<748x500 sparse matrix of type '<class 'numpy.float64'>'\n",
       "\twith 3434 stored elements in Compressed Sparse Row format>"
      ]
     },
     "execution_count": 49,
     "metadata": {},
     "output_type": "execute_result"
    }
   ],
   "source": [
    "tdm"
   ]
  },
  {
   "cell_type": "markdown",
   "id": "50744a18",
   "metadata": {},
   "source": [
    "단어 빈도순 정렬"
   ]
  },
  {
   "cell_type": "code",
   "execution_count": 52,
   "id": "a4107d51",
   "metadata": {},
   "outputs": [],
   "source": [
    "# 단어와 tf-idf를 저장\n",
    "word_count = pd.DataFrame({\n",
    "    '단어':cv.get_feature_names(),\n",
    "    'tf-idf':tdm.sum(axis=0).flat\n",
    "})"
   ]
  },
  {
   "cell_type": "code",
   "execution_count": 54,
   "id": "ad248f6b",
   "metadata": {},
   "outputs": [
    {
     "data": {
      "text/html": [
       "<div>\n",
       "<style scoped>\n",
       "    .dataframe tbody tr th:only-of-type {\n",
       "        vertical-align: middle;\n",
       "    }\n",
       "\n",
       "    .dataframe tbody tr th {\n",
       "        vertical-align: top;\n",
       "    }\n",
       "\n",
       "    .dataframe thead th {\n",
       "        text-align: right;\n",
       "    }\n",
       "</style>\n",
       "<table border=\"1\" class=\"dataframe\">\n",
       "  <thead>\n",
       "    <tr style=\"text-align: right;\">\n",
       "      <th></th>\n",
       "      <th>단어</th>\n",
       "      <th>tf-idf</th>\n",
       "    </tr>\n",
       "  </thead>\n",
       "  <tbody>\n",
       "    <tr>\n",
       "      <th>284</th>\n",
       "      <td>movie</td>\n",
       "      <td>44.917213</td>\n",
       "    </tr>\n",
       "    <tr>\n",
       "      <th>153</th>\n",
       "      <td>film</td>\n",
       "      <td>40.356390</td>\n",
       "    </tr>\n",
       "    <tr>\n",
       "      <th>33</th>\n",
       "      <td>bad</td>\n",
       "      <td>25.258572</td>\n",
       "    </tr>\n",
       "    <tr>\n",
       "      <th>225</th>\n",
       "      <td>just</td>\n",
       "      <td>20.296871</td>\n",
       "    </tr>\n",
       "    <tr>\n",
       "      <th>178</th>\n",
       "      <td>good</td>\n",
       "      <td>18.604656</td>\n",
       "    </tr>\n",
       "  </tbody>\n",
       "</table>\n",
       "</div>"
      ],
      "text/plain": [
       "        단어     tf-idf\n",
       "284  movie  44.917213\n",
       "153   film  40.356390\n",
       "33     bad  25.258572\n",
       "225   just  20.296871\n",
       "178   good  18.604656"
      ]
     },
     "execution_count": 54,
     "metadata": {},
     "output_type": "execute_result"
    }
   ],
   "source": [
    "# 내림차순으로 정렬하여 사우이 5단어 확인\n",
    "word_count.sort_values('tf-idf', ascending=False).head()"
   ]
  },
  {
   "cell_type": "markdown",
   "id": "ca1f482e",
   "metadata": {},
   "source": [
    "### TfidfTransformer\n",
    "- CountVectorizer로 만든 단어 문서 행렬을 변환하는 방법으로 TF-IDF를 적용할 수도 있다."
   ]
  },
  {
   "cell_type": "code",
   "execution_count": 55,
   "id": "8267e73d",
   "metadata": {},
   "outputs": [],
   "source": [
    "from sklearn.feature_extraction.text import CountVectorizer, TfidfTransformer"
   ]
  },
  {
   "cell_type": "code",
   "execution_count": null,
   "id": "d898f3d0",
   "metadata": {},
   "outputs": [],
   "source": [
    "# 먼저 CountVectorizer로 단어 문서 행렬을 만든다.\n",
    "\n",
    "cv = CountVectorizer(max_features=500, stop_words='english')\n",
    "tdm2 = cv.fit_transform(df['review'])\n",
    "\n",
    "# 다음으로 TF-IDF를 적용한다.\n",
    "\n",
    "trans = TfidfTransformer()\n",
    "tdm3 = trans.fit_transform(tdm2)"
   ]
  },
  {
   "cell_type": "markdown",
   "id": "d385d95b",
   "metadata": {},
   "source": [
    "# 5. 영어 품사 태깅 & 표제어 추출"
   ]
  },
  {
   "cell_type": "code",
   "execution_count": 56,
   "id": "f118e867",
   "metadata": {},
   "outputs": [
    {
     "name": "stdout",
     "output_type": "stream",
     "text": [
      "Collecting en-core-web-sm==3.4.1\n",
      "  Downloading https://github.com/explosion/spacy-models/releases/download/en_core_web_sm-3.4.1/en_core_web_sm-3.4.1-py3-none-any.whl (12.8 MB)\n",
      "     ---------------------------------------- 12.8/12.8 MB 5.7 MB/s eta 0:00:00\n",
      "Requirement already satisfied: spacy<3.5.0,>=3.4.0 in c:\\users\\bin\\anaconda3\\envs\\my_project\\lib\\site-packages (from en-core-web-sm==3.4.1) (3.4.2)\n",
      "Requirement already satisfied: jinja2 in c:\\users\\bin\\anaconda3\\envs\\my_project\\lib\\site-packages (from spacy<3.5.0,>=3.4.0->en-core-web-sm==3.4.1) (3.0.3)\n",
      "Requirement already satisfied: wasabi<1.1.0,>=0.9.1 in c:\\users\\bin\\anaconda3\\envs\\my_project\\lib\\site-packages (from spacy<3.5.0,>=3.4.0->en-core-web-sm==3.4.1) (0.9.1)\n",
      "Requirement already satisfied: pathy>=0.3.5 in c:\\users\\bin\\anaconda3\\envs\\my_project\\lib\\site-packages (from spacy<3.5.0,>=3.4.0->en-core-web-sm==3.4.1) (0.6.2)\n",
      "Requirement already satisfied: spacy-legacy<3.1.0,>=3.0.10 in c:\\users\\bin\\anaconda3\\envs\\my_project\\lib\\site-packages (from spacy<3.5.0,>=3.4.0->en-core-web-sm==3.4.1) (3.0.10)\n",
      "Requirement already satisfied: cymem<2.1.0,>=2.0.2 in c:\\users\\bin\\anaconda3\\envs\\my_project\\lib\\site-packages (from spacy<3.5.0,>=3.4.0->en-core-web-sm==3.4.1) (2.0.6)\n",
      "Requirement already satisfied: langcodes<4.0.0,>=3.2.0 in c:\\users\\bin\\anaconda3\\envs\\my_project\\lib\\site-packages (from spacy<3.5.0,>=3.4.0->en-core-web-sm==3.4.1) (3.3.0)\n",
      "Requirement already satisfied: thinc<8.2.0,>=8.1.0 in c:\\users\\bin\\anaconda3\\envs\\my_project\\lib\\site-packages (from spacy<3.5.0,>=3.4.0->en-core-web-sm==3.4.1) (8.1.5)\n",
      "Requirement already satisfied: numpy>=1.15.0 in c:\\users\\bin\\anaconda3\\envs\\my_project\\lib\\site-packages (from spacy<3.5.0,>=3.4.0->en-core-web-sm==3.4.1) (1.23.1)\n",
      "Requirement already satisfied: packaging>=20.0 in c:\\users\\bin\\anaconda3\\envs\\my_project\\lib\\site-packages (from spacy<3.5.0,>=3.4.0->en-core-web-sm==3.4.1) (21.3)\n",
      "Requirement already satisfied: typer<0.5.0,>=0.3.0 in c:\\users\\bin\\anaconda3\\envs\\my_project\\lib\\site-packages (from spacy<3.5.0,>=3.4.0->en-core-web-sm==3.4.1) (0.4.2)\n",
      "Requirement already satisfied: catalogue<2.1.0,>=2.0.6 in c:\\users\\bin\\anaconda3\\envs\\my_project\\lib\\site-packages (from spacy<3.5.0,>=3.4.0->en-core-web-sm==3.4.1) (2.0.8)\n",
      "Requirement already satisfied: setuptools in c:\\users\\bin\\anaconda3\\envs\\my_project\\lib\\site-packages (from spacy<3.5.0,>=3.4.0->en-core-web-sm==3.4.1) (61.2.0)\n",
      "Requirement already satisfied: preshed<3.1.0,>=3.0.2 in c:\\users\\bin\\anaconda3\\envs\\my_project\\lib\\site-packages (from spacy<3.5.0,>=3.4.0->en-core-web-sm==3.4.1) (3.0.6)\n",
      "Requirement already satisfied: tqdm<5.0.0,>=4.38.0 in c:\\users\\bin\\anaconda3\\envs\\my_project\\lib\\site-packages (from spacy<3.5.0,>=3.4.0->en-core-web-sm==3.4.1) (4.64.0)\n",
      "Requirement already satisfied: pydantic!=1.8,!=1.8.1,<1.11.0,>=1.7.4 in c:\\users\\bin\\anaconda3\\envs\\my_project\\lib\\site-packages (from spacy<3.5.0,>=3.4.0->en-core-web-sm==3.4.1) (1.8.2)\n",
      "Requirement already satisfied: requests<3.0.0,>=2.13.0 in c:\\users\\bin\\anaconda3\\envs\\my_project\\lib\\site-packages (from spacy<3.5.0,>=3.4.0->en-core-web-sm==3.4.1) (2.28.1)\n",
      "Requirement already satisfied: srsly<3.0.0,>=2.4.3 in c:\\users\\bin\\anaconda3\\envs\\my_project\\lib\\site-packages (from spacy<3.5.0,>=3.4.0->en-core-web-sm==3.4.1) (2.4.3)\n",
      "Requirement already satisfied: murmurhash<1.1.0,>=0.28.0 in c:\\users\\bin\\anaconda3\\envs\\my_project\\lib\\site-packages (from spacy<3.5.0,>=3.4.0->en-core-web-sm==3.4.1) (1.0.7)\n",
      "Requirement already satisfied: spacy-loggers<2.0.0,>=1.0.0 in c:\\users\\bin\\anaconda3\\envs\\my_project\\lib\\site-packages (from spacy<3.5.0,>=3.4.0->en-core-web-sm==3.4.1) (1.0.3)\n",
      "Requirement already satisfied: pyparsing!=3.0.5,>=2.0.2 in c:\\users\\bin\\anaconda3\\envs\\my_project\\lib\\site-packages (from packaging>=20.0->spacy<3.5.0,>=3.4.0->en-core-web-sm==3.4.1) (3.0.4)\n",
      "Requirement already satisfied: smart-open<6.0.0,>=5.2.1 in c:\\users\\bin\\anaconda3\\envs\\my_project\\lib\\site-packages (from pathy>=0.3.5->spacy<3.5.0,>=3.4.0->en-core-web-sm==3.4.1) (5.2.1)\n",
      "Requirement already satisfied: typing-extensions>=3.7.4.3 in c:\\users\\bin\\anaconda3\\envs\\my_project\\lib\\site-packages (from pydantic!=1.8,!=1.8.1,<1.11.0,>=1.7.4->spacy<3.5.0,>=3.4.0->en-core-web-sm==3.4.1) (4.3.0)\n",
      "Requirement already satisfied: certifi>=2017.4.17 in c:\\users\\bin\\anaconda3\\envs\\my_project\\lib\\site-packages (from requests<3.0.0,>=2.13.0->spacy<3.5.0,>=3.4.0->en-core-web-sm==3.4.1) (2022.9.24)\n",
      "Requirement already satisfied: idna<4,>=2.5 in c:\\users\\bin\\anaconda3\\envs\\my_project\\lib\\site-packages (from requests<3.0.0,>=2.13.0->spacy<3.5.0,>=3.4.0->en-core-web-sm==3.4.1) (3.3)\n",
      "Requirement already satisfied: charset-normalizer<3,>=2 in c:\\users\\bin\\anaconda3\\envs\\my_project\\lib\\site-packages (from requests<3.0.0,>=2.13.0->spacy<3.5.0,>=3.4.0->en-core-web-sm==3.4.1) (2.0.4)\n",
      "Requirement already satisfied: urllib3<1.27,>=1.21.1 in c:\\users\\bin\\anaconda3\\envs\\my_project\\lib\\site-packages (from requests<3.0.0,>=2.13.0->spacy<3.5.0,>=3.4.0->en-core-web-sm==3.4.1) (1.26.11)\n",
      "Requirement already satisfied: confection<1.0.0,>=0.0.1 in c:\\users\\bin\\anaconda3\\envs\\my_project\\lib\\site-packages (from thinc<8.2.0,>=8.1.0->spacy<3.5.0,>=3.4.0->en-core-web-sm==3.4.1) (0.0.3)\n",
      "Requirement already satisfied: blis<0.8.0,>=0.7.8 in c:\\users\\bin\\anaconda3\\envs\\my_project\\lib\\site-packages (from thinc<8.2.0,>=8.1.0->spacy<3.5.0,>=3.4.0->en-core-web-sm==3.4.1) (0.7.8)\n",
      "Requirement already satisfied: colorama in c:\\users\\bin\\anaconda3\\envs\\my_project\\lib\\site-packages (from tqdm<5.0.0,>=4.38.0->spacy<3.5.0,>=3.4.0->en-core-web-sm==3.4.1) (0.4.5)\n",
      "Requirement already satisfied: click<9.0.0,>=7.1.1 in c:\\users\\bin\\anaconda3\\envs\\my_project\\lib\\site-packages (from typer<0.5.0,>=0.3.0->spacy<3.5.0,>=3.4.0->en-core-web-sm==3.4.1) (8.1.3)\n",
      "Requirement already satisfied: MarkupSafe>=2.0 in c:\\users\\bin\\anaconda3\\envs\\my_project\\lib\\site-packages (from jinja2->spacy<3.5.0,>=3.4.0->en-core-web-sm==3.4.1) (2.1.1)\n"
     ]
    },
    {
     "name": "stderr",
     "output_type": "stream",
     "text": [
      "2022-10-31 03:07:36.630033: W tensorflow/stream_executor/platform/default/dso_loader.cc:64] Could not load dynamic library 'cudart64_110.dll'; dlerror: cudart64_110.dll not found\n",
      "2022-10-31 03:07:36.630780: I tensorflow/stream_executor/cuda/cudart_stub.cc:29] Ignore above cudart dlerror if you do not have a GPU set up on your machine.\n",
      "2022-10-31 03:07:56.425151: W tensorflow/stream_executor/platform/default/dso_loader.cc:64] Could not load dynamic library 'nvcuda.dll'; dlerror: nvcuda.dll not found\n",
      "2022-10-31 03:07:56.425672: W tensorflow/stream_executor/cuda/cuda_driver.cc:263] failed call to cuInit: UNKNOWN ERROR (303)\n",
      "2022-10-31 03:07:56.442515: I tensorflow/stream_executor/cuda/cuda_diagnostics.cc:169] retrieving CUDA diagnostic information for host: DESKTOP-2AS57TU\n",
      "2022-10-31 03:07:56.443211: I tensorflow/stream_executor/cuda/cuda_diagnostics.cc:176] hostname: DESKTOP-2AS57TU\n"
     ]
    },
    {
     "name": "stdout",
     "output_type": "stream",
     "text": [
      "[+] Download and installation successful\n",
      "You can now load the package via spacy.load('en_core_web_sm')\n"
     ]
    }
   ],
   "source": [
    "!python -m spacy download en_core_web_sm"
   ]
  },
  {
   "cell_type": "markdown",
   "id": "08a869a5",
   "metadata": {},
   "source": [
    "형태소 분석과 표제어 추출"
   ]
  },
  {
   "cell_type": "code",
   "execution_count": 57,
   "id": "1e2a1a9f",
   "metadata": {},
   "outputs": [],
   "source": [
    "import spacy\n",
    "\n",
    "# 영어 모형 불러오기\n",
    "nlp = spacy.load('en_core_web_sm')"
   ]
  },
  {
   "cell_type": "code",
   "execution_count": 58,
   "id": "7d2f1188",
   "metadata": {},
   "outputs": [],
   "source": [
    "# 영어 텍스트에 모형 적용\n",
    "text = \"Wikipedia is maintained by volunteers.\"\n",
    "doc = nlp(text)"
   ]
  },
  {
   "cell_type": "code",
   "execution_count": 60,
   "id": "0e3027a7",
   "metadata": {},
   "outputs": [
    {
     "name": "stdout",
     "output_type": "stream",
     "text": [
      "Wikipedia Wikipedia PROPN NNP nsubjpass False\n",
      "is be AUX VBZ auxpass True\n",
      "maintained maintain VERB VBN ROOT False\n",
      "by by ADP IN agent True\n",
      "volunteers volunteer NOUN NNS pobj False\n",
      ". . PUNCT . punct False\n"
     ]
    }
   ],
   "source": [
    "for token in doc:\n",
    "    print(token.text, \n",
    "          token.lemma_,  # 표제어\n",
    "          token.pos_,    # 단어의 품사\n",
    "          token.tag_,    # 자세한 품사\n",
    "          token.dep_,    # 문법적 의존 관계\n",
    "          token.is_stop) # 불용어 여부"
   ]
  },
  {
   "cell_type": "markdown",
   "id": "8e1036b7",
   "metadata": {},
   "source": [
    "용어"
   ]
  },
  {
   "cell_type": "code",
   "execution_count": 61,
   "id": "2feb6a3e",
   "metadata": {},
   "outputs": [
    {
     "data": {
      "text/plain": [
       "'proper noun'"
      ]
     },
     "execution_count": 61,
     "metadata": {},
     "output_type": "execute_result"
    }
   ],
   "source": [
    "spacy.explain('PROPN')"
   ]
  },
  {
   "cell_type": "markdown",
   "id": "b959b4b6",
   "metadata": {},
   "source": [
    "명사와 동사의 표제어로 단어 문서 행렬 만들기"
   ]
  },
  {
   "cell_type": "code",
   "execution_count": 1,
   "id": "cfb451a0",
   "metadata": {},
   "outputs": [],
   "source": [
    "# 명사와 동사의 표제어만 추출하는 함수\n",
    "def extract_nv(text):\n",
    "    doc = nlp(text)\n",
    "    words=[]\n",
    "    for token in doc:\n",
    "        if token.tag_[0] in 'NV':\n",
    "            words.append(token.lemma_.lower())\n",
    "    return words"
   ]
  },
  {
   "cell_type": "code",
   "execution_count": null,
   "id": "c34af71a",
   "metadata": {},
   "outputs": [],
   "source": []
  }
 ],
 "metadata": {
  "kernelspec": {
   "display_name": "my_project",
   "language": "python",
   "name": "my_project"
  },
  "language_info": {
   "codemirror_mode": {
    "name": "ipython",
    "version": 3
   },
   "file_extension": ".py",
   "mimetype": "text/x-python",
   "name": "python",
   "nbconvert_exporter": "python",
   "pygments_lexer": "ipython3",
   "version": "3.9.12"
  }
 },
 "nbformat": 4,
 "nbformat_minor": 5
}
