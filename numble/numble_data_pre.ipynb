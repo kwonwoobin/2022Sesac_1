{
 "cells": [
  {
   "cell_type": "code",
   "execution_count": 1,
   "metadata": {},
   "outputs": [],
   "source": [
    "import openpyxl\n",
    "import pandas as pd\n",
    "import numpy as np\n",
    "import seaborn as sns\n",
    "import matplotlib.pyplot as plt\n",
    "from sklearn.preprocessing  import LabelEncoder\n",
    "from datetime import datetime\n",
    "\n"
   ]
  },
  {
   "cell_type": "markdown",
   "metadata": {},
   "source": [
    "# 데이터 가져오기"
   ]
  },
  {
   "cell_type": "code",
   "execution_count": 238,
   "metadata": {},
   "outputs": [],
   "source": [
    "df_active = pd.read_excel(\"./data/1_Active_MS_Business_Info.xlsx\", sheet_name = 0)\n",
    "df_active_record = pd.read_excel(\"./data/1_Active_MS_Business_Info.xlsx\", sheet_name = 2)\n",
    "df_inactive = pd.read_excel(\"./data/2_Inactive_MS_Business_Info.xlsx\", sheet_name = 0)\n",
    "df_inactive_record = pd.read_excel(\"./data/2_Inactive_MS_Business_Info.xlsx\", sheet_name = 1)"
   ]
  },
  {
   "cell_type": "code",
   "execution_count": 240,
   "metadata": {},
   "outputs": [],
   "source": [
    "# 기업명 컬럼명 변경\n",
    "df_active = df_active.rename(columns={'CMP_NM1':'CMP_NM'})"
   ]
  },
  {
   "cell_type": "code",
   "execution_count": 241,
   "metadata": {},
   "outputs": [
    {
     "data": {
      "text/plain": [
       "BIZ_NO                 0\n",
       "CMP_PFIX_NM        10402\n",
       "CMP_NM                 0\n",
       "CMP_SFIX_NM        19813\n",
       "CMP_ENM               17\n",
       "BZ_TYP                 0\n",
       "CMP_SCL                0\n",
       "PBCO_GB                0\n",
       "PSN_CORP_GB            0\n",
       "HDOF_BR_GB             0\n",
       "FR_IVST_CORP_YN        0\n",
       "VENT_YN                0\n",
       "LIST_CD            28893\n",
       "IND_CD_ORDR           10\n",
       "IND_CD1               11\n",
       "IND_CD2            27782\n",
       "IND_CD3            28719\n",
       "PB_ORG_TYP             0\n",
       "MDSCO_PRTC_YN          0\n",
       "HDOF_CMP_CD        26075\n",
       "ESTB_DATE           1074\n",
       "ESTB_GB                0\n",
       "LIST_DATE          28823\n",
       "MN_BIZ_CONT          163\n",
       "NATN_NM            27337\n",
       "HOMEPAGE_URL       11228\n",
       "CEO_NM                 1\n",
       "EMP_CNT              734\n",
       "dtype: int64"
      ]
     },
     "execution_count": 241,
     "metadata": {},
     "output_type": "execute_result"
    }
   ],
   "source": [
    "df_active.isnull().sum()"
   ]
  },
  {
   "cell_type": "markdown",
   "metadata": {},
   "source": [
    "# 데이터 전처리"
   ]
  },
  {
   "cell_type": "code",
   "execution_count": 242,
   "metadata": {},
   "outputs": [],
   "source": [
    "#사용할 컬럼들\n",
    "select_columns = ['BIZ_NO','CMP_NM', 'CEO_NM', 'BZ_TYP',  'HDOF_BR_GB', 'FR_IVST_CORP_YN', 'VENT_YN', 'LIST_CD', 'LIST_DATE', 'MDSCO_PRTC_YN', 'ESTB_DATE', 'ESTB_GB', 'NATN_NM', 'EMP_CNT']\n"
   ]
  },
  {
   "cell_type": "code",
   "execution_count": 243,
   "metadata": {},
   "outputs": [],
   "source": [
    "df_active_select = df_active.loc[:, select_columns]\n",
    "df_inactive_select = df_inactive.loc[:, select_columns]"
   ]
  },
  {
   "cell_type": "code",
   "execution_count": 244,
   "metadata": {},
   "outputs": [],
   "source": [
    "def list_date_calc(series):\n",
    "\n",
    "    # 결과 값을 담을 리스트 year_category 초기화\n",
    "    year_category = []\n",
    "\n",
    "    # for 반복문을 통해 판다스 시리즈 내의 각 날짜를 순회\n",
    "    for date in series:\n",
    "\n",
    "        # 날짜의 0번째 인덱스부터 3번째 인덱스까지 슬라이싱하여 정수형(Integer)으로 변환 후 변수 year에 할당\n",
    "        year = int(date[0 : 4])\n",
    "\n",
    "        # 각 설립연도의 조건에 따라 범주화\n",
    "        if year < 1970: year_category.append(\"1970년 이전\")\n",
    "        elif year < 1980: year_category.append(\"1970년대\")\n",
    "        elif year < 1990: year_category.append(\"1980년대\")\n",
    "        elif year < 2000: year_category.append(\"1990년대\")\n",
    "        elif year < 2005: year_category.append(\"2000년대 전기\")\n",
    "        elif year < 2010: year_category.append(\"2000년대 후기\")\n",
    "        elif year < 2015: year_category.append(\"2010년대 전기\")\n",
    "        elif year < 2020: year_category.append(\"2010년대 후기\")\n",
    "        elif year < 2025: year_category.append(\"2020년대 전기\")\n",
    "        else: year_category.append(\"해당 없음\")\n",
    "\n",
    "    # 결과 값 반환\n",
    "    return year_category\n",
    "\n",
    "\n",
    "# 업력 구간화 함수\n",
    "\n",
    "def estb_date_calc(series):\n",
    "\n",
    "    # 결과 값을 담을 리스트 year_category 초기화\n",
    "    year_category = []\n",
    "\n",
    "    # for 반복문을 통해 판다스 시리즈 내의 각 날짜를 순회\n",
    "    for date in series:\n",
    "\n",
    "        # 날짜의 0번째 인덱스부터 3번째 인덱스까지 슬라이싱하여 정수형(Integer)으로 변환 후 변수 year에 할당\n",
    "        year = int(date[0 : 4])\n",
    "\n",
    "        # 각 설립연도의 조건에 따라 범주화\n",
    "        if year < 1970: year_category.append(\"1970년 이전\")\n",
    "        elif year < 1980: year_category.append(\"1970년대\")\n",
    "        elif year < 1990: year_category.append(\"1980년대\")\n",
    "        elif year < 2000: year_category.append(\"1990년대\")\n",
    "        elif year < 2005: year_category.append(\"2000년대 전기\")\n",
    "        elif year < 2010: year_category.append(\"2000년대 후기\")\n",
    "        elif year < 2015: year_category.append(\"2010년대 전기\")\n",
    "        elif year < 2020: year_category.append(\"2010년대 후기\")\n",
    "        elif year < 2025: year_category.append(\"2020년대 전기\")\n",
    "        else: year_category.append(\"해당 없음\")\n",
    "\n",
    "    # 결과 값 반환\n",
    "    return year_category\n",
    "\n",
    "\n",
    "# 직원수 구간화\n",
    "def get_category(EMP_CNT):\n",
    "    EMP_cat = ''\n",
    "    if EMP_CNT == 0 and -1: EMP_cat = 'NaN&zero'\n",
    "    elif EMP_CNT <= 10: EMP_cat = '1~10'\n",
    "    elif EMP_CNT <= 50: EMP_cat = '10~50'\n",
    "    elif EMP_CNT <= 300: EMP_cat = '50~300'\n",
    "    elif EMP_CNT > 300: EMP_cat = '300~'\n",
    "    return EMP_cat\n"
   ]
  },
  {
   "cell_type": "code",
   "execution_count": 245,
   "metadata": {},
   "outputs": [],
   "source": [
    "# 데이터 전처리 함수\n",
    "\n",
    "def feature_engineering(df):\n",
    "\n",
    "    # 대표자명\n",
    "    df['CEO_NM'] = df['CEO_NM'].str.replace(\"외\\s*[0-9]+명\", \"\")\n",
    "\n",
    "\n",
    "\n",
    "    #레이블 인코딩\n",
    "    label_encode_features = ['FR_IVST_CORP_YN' , 'VENT_YN', 'MDSCO_PRTC_YN', 'NATN_NM', 'BZ_TYP']\n",
    "\n",
    "    for feature in label_encode_features:\n",
    "        le = LabelEncoder()\n",
    "        le = le.fit(df[feature])\n",
    "        df[feature] = le.transform(df[feature])\n",
    "\n",
    "    # HDOF_BR_GB 본점지점구분 1.본점 2.지점\n",
    "    # 따로 처리x\n",
    "\n",
    "\n",
    "\n",
    "    #'LIST_CD' 상장여부로 0, 1\n",
    "    df.LIST_CD.fillna(0, inplace=True)\n",
    "    df['LIST_CD'].loc[df['LIST_CD']!=0]=1\n",
    "\n",
    "\n",
    "\n",
    "    # 'LIST_DATE' 상장날짜 구간화\n",
    "    df.LIST_DATE.fillna(99999999, inplace=True)\n",
    "    df[\"LIST_DATE\"] = df[\"LIST_DATE\"].astype(str)\n",
    "    # list_date_calc 실행한 결과를 다시 LIST_DATE 컬럼에 반영\n",
    "    df[\"LIST_DATE\"] = list_date_calc(df[\"LIST_DATE\"])\n",
    "\n",
    "    list_mapping = {\"1970년 이전\":0, \"1970년대\":1, \"1980년대\":2, \"1990년대\":3, \"2000년대 전기\":4, \"2000년대 후기\":5, \"2010년대 전기\":6, \"2010년대 후기\":7, \"2020년대 전기\":8, \"해당 없음\":9 }\n",
    "    df['LIST_DATE'] = df['LIST_DATE'].map(list_mapping)\n",
    "     \n",
    "\n",
    "\n",
    "    # 'ESTB_DATE' 설립날짜 -> 업력 구간화, 인코딩\n",
    "    df.ESTB_DATE.fillna(99999999, inplace=True)\n",
    "    # 열의 값을 str으로 변경\n",
    "    df[\"ESTB_DATE\"] = df[\"ESTB_DATE\"].astype(str)\n",
    "    # estb_date_calc() 함수를 실행한 결과를 \"ESTB_DATE_CAT\" 열을 새로 만들어 기존 데이터프레임에 추가\n",
    "    df[\"ESTB_DATE_CAT\"] = estb_date_calc(df[\"ESTB_DATE\"])\n",
    "    \n",
    "    #업력 인코딩\n",
    "    estb_mapping = {\"1970년 이전\":0, \"1970년대\":1, \"1980년대\":2, \"1990년대\":3, \"2000년대 전기\":4, \"2000년대 후기\":5, \"2010년대 전기\":6, \"2010년대 후기\":7, \"2020년대 전기\":8, \"해당 없음\":9 }\n",
    "    df['ESTB'] = df['ESTB_DATE_CAT'].map(estb_mapping)\n",
    "    # 필요없는 컬럼 drop\n",
    "    df = df.drop(['ESTB_DATE','ESTB_DATE_CAT'], axis=1)\n",
    "\n",
    "\n",
    "    # 'ESTB_GB' 설립구분\n",
    "     \n",
    "     \n",
    "    # 'EMP_CNT' 직원수 구간화\n",
    "    df.EMP_CNT.fillna(-1, inplace=True)\n",
    "    df['EMP_cat']=df['EMP_CNT'].apply(lambda x : get_category(x))\n",
    "\n",
    "    # 직원수 범주화\n",
    "    emp_mapping = {'NaN&zero':0, '1~10':1, '10~50':2, '50~300':3, '300~':4}\n",
    "    df['EMP_cat'] = df['EMP_cat'].map(emp_mapping)\n",
    "    \n",
    "\n",
    "\n",
    "    return df\n",
    "    "
   ]
  },
  {
   "cell_type": "code",
   "execution_count": 246,
   "metadata": {},
   "outputs": [
    {
     "name": "stderr",
     "output_type": "stream",
     "text": [
      "C:\\Users\\bin\\AppData\\Local\\Temp\\ipykernel_5604\\865351939.py:6: FutureWarning: The default value of regex will change from True to False in a future version.\n",
      "  df['CEO_NM'] = df['CEO_NM'].str.replace(\"외\\s*[0-9]+명\", \"\")\n",
      "C:\\Users\\bin\\AppData\\Local\\Temp\\ipykernel_5604\\865351939.py:25: SettingWithCopyWarning: \n",
      "A value is trying to be set on a copy of a slice from a DataFrame\n",
      "\n",
      "See the caveats in the documentation: https://pandas.pydata.org/pandas-docs/stable/user_guide/indexing.html#returning-a-view-versus-a-copy\n",
      "  df['LIST_CD'].loc[df['LIST_CD']!=0]=1\n",
      "C:\\Users\\bin\\AppData\\Local\\Temp\\ipykernel_5604\\865351939.py:6: FutureWarning: The default value of regex will change from True to False in a future version.\n",
      "  df['CEO_NM'] = df['CEO_NM'].str.replace(\"외\\s*[0-9]+명\", \"\")\n",
      "C:\\Users\\bin\\AppData\\Local\\Temp\\ipykernel_5604\\865351939.py:25: SettingWithCopyWarning: \n",
      "A value is trying to be set on a copy of a slice from a DataFrame\n",
      "\n",
      "See the caveats in the documentation: https://pandas.pydata.org/pandas-docs/stable/user_guide/indexing.html#returning-a-view-versus-a-copy\n",
      "  df['LIST_CD'].loc[df['LIST_CD']!=0]=1\n"
     ]
    }
   ],
   "source": [
    "df_active_select = feature_engineering(df_active_select)\n",
    "df_inactive_select = feature_engineering(df_inactive_select)"
   ]
  },
  {
   "cell_type": "code",
   "execution_count": 247,
   "metadata": {},
   "outputs": [],
   "source": [
    "#이상치 처리 - 직원수가 16310명인 회사 BIZ_NO 6038138153 광평건설\n",
    "df_inactive_select =df_inactive_select.drop([204])\n",
    "# index 재처리\n",
    "df_inactive_select.reset_index(inplace=True)\n",
    "df_inactive_select = df_inactive_select.drop('index', axis=1)\n",
    "# 직원수 컬럼 drop\n",
    "df_inactive_select = df_inactive_select.drop('EMP_CNT', axis=1)\n",
    "df_active_select = df_active_select.drop('EMP_CNT', axis=1)"
   ]
  },
  {
   "cell_type": "code",
   "execution_count": 252,
   "metadata": {},
   "outputs": [
    {
     "data": {
      "text/html": [
       "<div>\n",
       "<style scoped>\n",
       "    .dataframe tbody tr th:only-of-type {\n",
       "        vertical-align: middle;\n",
       "    }\n",
       "\n",
       "    .dataframe tbody tr th {\n",
       "        vertical-align: top;\n",
       "    }\n",
       "\n",
       "    .dataframe thead th {\n",
       "        text-align: right;\n",
       "    }\n",
       "</style>\n",
       "<table border=\"1\" class=\"dataframe\">\n",
       "  <thead>\n",
       "    <tr style=\"text-align: right;\">\n",
       "      <th></th>\n",
       "      <th>BIZ_NO</th>\n",
       "      <th>CMP_NM</th>\n",
       "      <th>CEO_NM</th>\n",
       "      <th>BZ_TYP</th>\n",
       "      <th>HDOF_BR_GB</th>\n",
       "      <th>FR_IVST_CORP_YN</th>\n",
       "      <th>VENT_YN</th>\n",
       "      <th>LIST_CD</th>\n",
       "      <th>LIST_DATE</th>\n",
       "      <th>MDSCO_PRTC_YN</th>\n",
       "      <th>ESTB_GB</th>\n",
       "      <th>NATN_NM</th>\n",
       "      <th>ESTB</th>\n",
       "      <th>EMP_cat</th>\n",
       "    </tr>\n",
       "  </thead>\n",
       "  <tbody>\n",
       "    <tr>\n",
       "      <th>28969</th>\n",
       "      <td>1678100791</td>\n",
       "      <td>오송2단지1상가개발</td>\n",
       "      <td>NaN</td>\n",
       "      <td>4</td>\n",
       "      <td>1</td>\n",
       "      <td>0</td>\n",
       "      <td>0</td>\n",
       "      <td>0</td>\n",
       "      <td>9</td>\n",
       "      <td>0</td>\n",
       "      <td>1</td>\n",
       "      <td>63</td>\n",
       "      <td>7</td>\n",
       "      <td>1</td>\n",
       "    </tr>\n",
       "  </tbody>\n",
       "</table>\n",
       "</div>"
      ],
      "text/plain": [
       "           BIZ_NO      CMP_NM CEO_NM  BZ_TYP  HDOF_BR_GB  FR_IVST_CORP_YN  \\\n",
       "28969  1678100791  오송2단지1상가개발    NaN       4           1                0   \n",
       "\n",
       "       VENT_YN LIST_CD  LIST_DATE  MDSCO_PRTC_YN  ESTB_GB  NATN_NM  ESTB  \\\n",
       "28969        0       0          9              0        1       63     7   \n",
       "\n",
       "       EMP_cat  \n",
       "28969        1  "
      ]
     },
     "execution_count": 252,
     "metadata": {},
     "output_type": "execute_result"
    }
   ],
   "source": [
    "df_active_select.loc[df_active_select['CEO_NM'].isnull()]"
   ]
  },
  {
   "cell_type": "code",
   "execution_count": 250,
   "metadata": {},
   "outputs": [
    {
     "data": {
      "text/html": [
       "<div>\n",
       "<style scoped>\n",
       "    .dataframe tbody tr th:only-of-type {\n",
       "        vertical-align: middle;\n",
       "    }\n",
       "\n",
       "    .dataframe tbody tr th {\n",
       "        vertical-align: top;\n",
       "    }\n",
       "\n",
       "    .dataframe thead th {\n",
       "        text-align: right;\n",
       "    }\n",
       "</style>\n",
       "<table border=\"1\" class=\"dataframe\">\n",
       "  <thead>\n",
       "    <tr style=\"text-align: right;\">\n",
       "      <th></th>\n",
       "      <th>BIZ_NO</th>\n",
       "      <th>CMP_NM</th>\n",
       "      <th>CEO_NM</th>\n",
       "      <th>BZ_TYP</th>\n",
       "      <th>HDOF_BR_GB</th>\n",
       "      <th>FR_IVST_CORP_YN</th>\n",
       "      <th>VENT_YN</th>\n",
       "      <th>LIST_CD</th>\n",
       "      <th>LIST_DATE</th>\n",
       "      <th>MDSCO_PRTC_YN</th>\n",
       "      <th>ESTB_GB</th>\n",
       "      <th>NATN_NM</th>\n",
       "      <th>ESTB</th>\n",
       "      <th>EMP_cat</th>\n",
       "    </tr>\n",
       "  </thead>\n",
       "  <tbody>\n",
       "    <tr>\n",
       "      <th>6605</th>\n",
       "      <td>6618800502</td>\n",
       "      <td>알엠피플러스</td>\n",
       "      <td>NaN</td>\n",
       "      <td>0</td>\n",
       "      <td>1</td>\n",
       "      <td>0</td>\n",
       "      <td>0</td>\n",
       "      <td>0</td>\n",
       "      <td>9</td>\n",
       "      <td>0</td>\n",
       "      <td>7</td>\n",
       "      <td>27</td>\n",
       "      <td>9</td>\n",
       "      <td>0</td>\n",
       "    </tr>\n",
       "  </tbody>\n",
       "</table>\n",
       "</div>"
      ],
      "text/plain": [
       "          BIZ_NO  CMP_NM CEO_NM  BZ_TYP  HDOF_BR_GB  FR_IVST_CORP_YN  VENT_YN  \\\n",
       "6605  6618800502  알엠피플러스    NaN       0           1                0        0   \n",
       "\n",
       "     LIST_CD  LIST_DATE  MDSCO_PRTC_YN  ESTB_GB  NATN_NM  ESTB  EMP_cat  \n",
       "6605       0          9              0        7       27     9        0  "
      ]
     },
     "execution_count": 250,
     "metadata": {},
     "output_type": "execute_result"
    }
   ],
   "source": [
    "df_inactive_select.loc[df_inactive_select['CEO_NM'].isnull()]"
   ]
  },
  {
   "cell_type": "code",
   "execution_count": 253,
   "metadata": {},
   "outputs": [],
   "source": [
    "# CEO_NM 결측치 active 1개, inactive 1개 - 'NaN'으로 채워줌\n",
    "df_active_select['CEO_NM'].fillna('NaN', inplace=True)\n",
    "df_inactive_select['CEO_NM'].fillna('NaN', inplace=True)"
   ]
  },
  {
   "cell_type": "markdown",
   "metadata": {},
   "source": [
    "## 휴폐업이력sheet 컬럼 추가\n",
    "- 휴폐업이력 유무(close_y_n)와 휴폐업횟수(close_count) 컬럼 만들기"
   ]
  },
  {
   "cell_type": "code",
   "execution_count": 255,
   "metadata": {},
   "outputs": [],
   "source": [
    "\n",
    "def close_record(df):\n",
    "\n",
    "    df.STAT_OCR_DATE.fillna(99999999, inplace=True)\n",
    "    \n",
    "    #close_y_n : 휴폐업 유무 컬럼\n",
    "    df['close_y_n']=1\n",
    "\n",
    "    #BIZ_NO로 set인덱스\n",
    "    df=df.set_index('BIZ_NO')\n",
    "\n",
    "    #휴폐업 조건으로 필터링한 새로운 컬럼 - 휴폐업이력 있는 기업만 들어있는 df 만들기\n",
    "    close_condition = (df.CLSBZ_GB==1) | (df.CLSBZ_GB==2) | (df.CLSBZ_GB==3)\n",
    "    condition_df_record = df[close_condition]\n",
    "\n",
    "    #휴폐업 횟수 구하기\n",
    "    condition_df_record = condition_df_record.groupby('BIZ_NO').sum()\n",
    "\n",
    "    # 휴폐업 횟수 컬럼 추가\n",
    "    df['close_count'] = condition_df_record['close_y_n']\n",
    "\n",
    "    #index reset\n",
    "    df = df.reset_index()\n",
    "\n",
    "    #중복인덱스 삭제하기 - 열지정하여 중복제거\n",
    "    df= df.drop_duplicates(['BIZ_NO']).reset_index(drop=True)\n",
    "\n",
    "    return df"
   ]
  },
  {
   "cell_type": "code",
   "execution_count": 256,
   "metadata": {},
   "outputs": [],
   "source": [
    "df_active_record = close_record(df_active_record)\n",
    "df_inactive_record = close_record(df_inactive_record)\n",
    "df_active_record.close_count.fillna(0, inplace=True)"
   ]
  },
  {
   "cell_type": "markdown",
   "metadata": {},
   "source": [
    "### DF Join\n",
    "- BIZ_NO 기준으로\n",
    "- df_active_select + df_active_record\n",
    "- df_rest_select + df_rest_record"
   ]
  },
  {
   "cell_type": "code",
   "execution_count": 257,
   "metadata": {},
   "outputs": [],
   "source": [
    "#액티브 교집합(inner join) (362개)\n",
    "df_active_innerjoin = pd.merge(df_active_select, df_active_record, left_on='BIZ_NO',right_on='BIZ_NO', how='inner')\n",
    "df_active_innerjoin = df_active_innerjoin[['BIZ_NO', 'close_y_n', 'close_count']]\n",
    "\n",
    "#휴폐업 기업개요와 휴폐업이력의 교집합(6693)\n",
    "df_inactive_innerjoin = pd.merge(df_inactive_select, df_inactive_record,left_on='BIZ_NO',right_on='BIZ_NO', how='inner')\n",
    "df_inactive_innerjoin = df_inactive_innerjoin[['BIZ_NO', 'close_y_n', 'close_count']]\n",
    "\n",
    "#휴폐업 기업개요(6739=유니크), 휴폐업이력(6840)(유니크6746)"
   ]
  },
  {
   "cell_type": "code",
   "execution_count": 258,
   "metadata": {},
   "outputs": [],
   "source": [
    "# 본 데이터프레임에 교집합innerjoin 데이터프레임 결합\n",
    "\n",
    "df_active_join = pd.merge(df_active_select, df_active_innerjoin ,left_on='BIZ_NO',right_on='BIZ_NO', how='outer')\n",
    "df_inactive_join = pd.merge(df_inactive_select, df_inactive_innerjoin ,left_on='BIZ_NO',right_on='BIZ_NO', how='outer')"
   ]
  },
  {
   "cell_type": "code",
   "execution_count": 259,
   "metadata": {},
   "outputs": [],
   "source": [
    "# 널값 채우기\n",
    "df_active_join = df_active_join.fillna(0)"
   ]
  },
  {
   "cell_type": "code",
   "execution_count": 260,
   "metadata": {},
   "outputs": [],
   "source": [
    "df_active_join[['close_y_n', 'close_count']] = df_active_join[['close_y_n', 'close_count']].astype('int')"
   ]
  },
  {
   "cell_type": "markdown",
   "metadata": {},
   "source": [
    "# 외부데이터\n"
   ]
  },
  {
   "cell_type": "markdown",
   "metadata": {},
   "source": [
    "### 1) NICE\n",
    "- (기업주소, 산업등급)\n",
    "- nice 홈페이지 사업자번호 조회"
   ]
  },
  {
   "cell_type": "code",
   "execution_count": 261,
   "metadata": {},
   "outputs": [],
   "source": [
    "df_nice_active = pd.read_excel(\"./외부data/act_company_information.xls\", sheet_name = 0)\n",
    "df_nice_inactive = pd.read_excel(\"./외부data/rest_company_information.xls\", sheet_name = 0)"
   ]
  },
  {
   "cell_type": "code",
   "execution_count": 262,
   "metadata": {},
   "outputs": [
    {
     "data": {
      "text/html": [
       "<div>\n",
       "<style scoped>\n",
       "    .dataframe tbody tr th:only-of-type {\n",
       "        vertical-align: middle;\n",
       "    }\n",
       "\n",
       "    .dataframe tbody tr th {\n",
       "        vertical-align: top;\n",
       "    }\n",
       "\n",
       "    .dataframe thead th {\n",
       "        text-align: right;\n",
       "    }\n",
       "</style>\n",
       "<table border=\"1\" class=\"dataframe\">\n",
       "  <thead>\n",
       "    <tr style=\"text-align: right;\">\n",
       "      <th></th>\n",
       "      <th>BIZ_NO</th>\n",
       "      <th>grade</th>\n",
       "      <th>2021</th>\n",
       "      <th>2020</th>\n",
       "      <th>2019</th>\n",
       "      <th>address</th>\n",
       "    </tr>\n",
       "  </thead>\n",
       "  <tbody>\n",
       "    <tr>\n",
       "      <th>13696</th>\n",
       "      <td>5108119835</td>\n",
       "      <td>5</td>\n",
       "      <td>1,216,307</td>\n",
       "      <td>964,976</td>\n",
       "      <td>1,017,349</td>\n",
       "      <td>NaN</td>\n",
       "    </tr>\n",
       "  </tbody>\n",
       "</table>\n",
       "</div>"
      ],
      "text/plain": [
       "           BIZ_NO  grade       2021     2020       2019 address\n",
       "13696  5108119835      5  1,216,307  964,976  1,017,349     NaN"
      ]
     },
     "execution_count": 262,
     "metadata": {},
     "output_type": "execute_result"
    }
   ],
   "source": [
    "# 주소 비어있는 행 하나 (BIZ_NO : 5108119835)\n",
    "df_nice_active[df_nice_active['address'].isnull()]"
   ]
  },
  {
   "cell_type": "code",
   "execution_count": 263,
   "metadata": {},
   "outputs": [],
   "source": [
    "df_nice_active.address.fillna('NaN', inplace=True)"
   ]
  },
  {
   "cell_type": "markdown",
   "metadata": {},
   "source": [
    "#### 전처리\n",
    "- 1. 기업입지 도심vs부도심 -> 라벨링\n",
    "- 2. grade는 그냥 사용\n",
    "- 3. (매출의 증감폭)"
   ]
  },
  {
   "cell_type": "code",
   "execution_count": 264,
   "metadata": {},
   "outputs": [
    {
     "name": "stderr",
     "output_type": "stream",
     "text": [
      "c:\\Users\\bin\\anaconda3\\envs\\numble\\lib\\site-packages\\openpyxl\\styles\\stylesheet.py:226: UserWarning: Workbook contains no default style, apply openpyxl's default\n",
      "  warn(\"Workbook contains no default style, apply openpyxl's default\")\n"
     ]
    }
   ],
   "source": [
    "city_df = pd.read_excel(\"./외부data/용도지역(시군구)-비도시지역_2021.xlsx\", sheet_name = 0, index_col=[0,1,2])"
   ]
  },
  {
   "cell_type": "code",
   "execution_count": 265,
   "metadata": {},
   "outputs": [
    {
     "name": "stderr",
     "output_type": "stream",
     "text": [
      "C:\\Users\\bin\\AppData\\Local\\Temp\\ipykernel_5604\\3754510174.py:10: SettingWithCopyWarning: \n",
      "A value is trying to be set on a copy of a slice from a DataFrame\n",
      "\n",
      "See the caveats in the documentation: https://pandas.pydata.org/pandas-docs/stable/user_guide/indexing.html#returning-a-view-versus-a-copy\n",
      "  city_df['city'].loc[city_condition]=1\n"
     ]
    }
   ],
   "source": [
    "city_df.reset_index(drop=False, inplace=True)\n",
    "city_df = pd.DataFrame(city_df.iloc[4:, :3])\n",
    "city_df.columns=['시', '군,구', '2021']\n",
    "city_df.drop(city_df.loc[city_df['군,구']=='소계'].index, inplace=True)\n",
    "city_df['city'] = 0\n",
    "city_df = city_df.reset_index()\n",
    "city_df.drop('index', inplace=True, axis=1)\n",
    "\n",
    "city_condition = city_df['2021']==0\n",
    "city_df['city'].loc[city_condition]=1"
   ]
  },
  {
   "cell_type": "code",
   "execution_count": 266,
   "metadata": {},
   "outputs": [
    {
     "name": "stderr",
     "output_type": "stream",
     "text": [
      "C:\\Users\\bin\\AppData\\Local\\Temp\\ipykernel_5604\\2511129021.py:13: SettingWithCopyWarning: \n",
      "A value is trying to be set on a copy of a slice from a DataFrame\n",
      "\n",
      "See the caveats in the documentation: https://pandas.pydata.org/pandas-docs/stable/user_guide/indexing.html#returning-a-view-versus-a-copy\n",
      "  df['city'].loc[city_condition]=1\n"
     ]
    }
   ],
   "source": [
    "# 도심(city) 컬럼 추가\n",
    "\n",
    "df_nice_active['city'] = 0\n",
    "df_nice_inactive['city'] = 0\n",
    "\n",
    "city_index = city_df.loc[city_df['city']==1].index\n",
    "city_list = city_df['군,구'][city_index].to_list()\n",
    "\n",
    "#도시인 군,구들만 리스트 만들어서 그 안에 있으면 값 1주기\n",
    "for df in [df_nice_active, df_nice_inactive] :\n",
    "    for city in city_list:\n",
    "        city_condition = df['address'].str.contains(city)\n",
    "        df['city'].loc[city_condition]=1"
   ]
  },
  {
   "cell_type": "code",
   "execution_count": 267,
   "metadata": {},
   "outputs": [],
   "source": [
    "# 필요한 컬럼만 선택\n",
    "select_columns_ex = ['BIZ_NO', 'grade', 'city']\n",
    "\n",
    "df_nice_active = df_nice_active[select_columns_ex]\n",
    "df_nice_inactive = df_nice_inactive[select_columns_ex]"
   ]
  },
  {
   "cell_type": "code",
   "execution_count": 268,
   "metadata": {},
   "outputs": [],
   "source": [
    "# 직원수 16000이었던 광평건설 drop\n",
    "df_nice_inactive= df_nice_inactive.drop([195])"
   ]
  },
  {
   "cell_type": "code",
   "execution_count": 269,
   "metadata": {},
   "outputs": [
    {
     "data": {
      "text/html": [
       "<div>\n",
       "<style scoped>\n",
       "    .dataframe tbody tr th:only-of-type {\n",
       "        vertical-align: middle;\n",
       "    }\n",
       "\n",
       "    .dataframe tbody tr th {\n",
       "        vertical-align: top;\n",
       "    }\n",
       "\n",
       "    .dataframe thead th {\n",
       "        text-align: right;\n",
       "    }\n",
       "</style>\n",
       "<table border=\"1\" class=\"dataframe\">\n",
       "  <thead>\n",
       "    <tr style=\"text-align: right;\">\n",
       "      <th></th>\n",
       "      <th>BIZ_NO</th>\n",
       "      <th>grade</th>\n",
       "      <th>city</th>\n",
       "    </tr>\n",
       "  </thead>\n",
       "  <tbody>\n",
       "    <tr>\n",
       "      <th>0</th>\n",
       "      <td>1388101749</td>\n",
       "      <td>6</td>\n",
       "      <td>1</td>\n",
       "    </tr>\n",
       "    <tr>\n",
       "      <th>1</th>\n",
       "      <td>1068179240</td>\n",
       "      <td>6</td>\n",
       "      <td>1</td>\n",
       "    </tr>\n",
       "    <tr>\n",
       "      <th>2</th>\n",
       "      <td>2248114507</td>\n",
       "      <td>6</td>\n",
       "      <td>0</td>\n",
       "    </tr>\n",
       "    <tr>\n",
       "      <th>3</th>\n",
       "      <td>1168132785</td>\n",
       "      <td>5</td>\n",
       "      <td>1</td>\n",
       "    </tr>\n",
       "    <tr>\n",
       "      <th>4</th>\n",
       "      <td>6178132798</td>\n",
       "      <td>7</td>\n",
       "      <td>1</td>\n",
       "    </tr>\n",
       "    <tr>\n",
       "      <th>...</th>\n",
       "      <td>...</td>\n",
       "      <td>...</td>\n",
       "      <td>...</td>\n",
       "    </tr>\n",
       "    <tr>\n",
       "      <th>6010</th>\n",
       "      <td>1338801710</td>\n",
       "      <td>6</td>\n",
       "      <td>1</td>\n",
       "    </tr>\n",
       "    <tr>\n",
       "      <th>6011</th>\n",
       "      <td>5678101364</td>\n",
       "      <td>6</td>\n",
       "      <td>1</td>\n",
       "    </tr>\n",
       "    <tr>\n",
       "      <th>6012</th>\n",
       "      <td>3898602225</td>\n",
       "      <td>6</td>\n",
       "      <td>0</td>\n",
       "    </tr>\n",
       "    <tr>\n",
       "      <th>6013</th>\n",
       "      <td>1738102533</td>\n",
       "      <td>5</td>\n",
       "      <td>1</td>\n",
       "    </tr>\n",
       "    <tr>\n",
       "      <th>6014</th>\n",
       "      <td>3138135248</td>\n",
       "      <td>5</td>\n",
       "      <td>1</td>\n",
       "    </tr>\n",
       "  </tbody>\n",
       "</table>\n",
       "<p>6014 rows × 3 columns</p>\n",
       "</div>"
      ],
      "text/plain": [
       "          BIZ_NO  grade  city\n",
       "0     1388101749      6     1\n",
       "1     1068179240      6     1\n",
       "2     2248114507      6     0\n",
       "3     1168132785      5     1\n",
       "4     6178132798      7     1\n",
       "...          ...    ...   ...\n",
       "6010  1338801710      6     1\n",
       "6011  5678101364      6     1\n",
       "6012  3898602225      6     0\n",
       "6013  1738102533      5     1\n",
       "6014  3138135248      5     1\n",
       "\n",
       "[6014 rows x 3 columns]"
      ]
     },
     "execution_count": 269,
     "metadata": {},
     "output_type": "execute_result"
    }
   ],
   "source": [
    "df_nice_inactive"
   ]
  },
  {
   "cell_type": "markdown",
   "metadata": {},
   "source": [
    "#### DF Join\n",
    "- BIZ_NO 기준으로\n",
    "- df_active_join + df_nice_active => active_df\n",
    "- df_inactive_join + df_nice_inactive => inactive_df"
   ]
  },
  {
   "cell_type": "code",
   "execution_count": 270,
   "metadata": {},
   "outputs": [],
   "source": [
    "active_df = pd.merge(df_active_join, df_nice_active, left_on='BIZ_NO', right_on='BIZ_NO', how='outer')\n",
    "inactive_df = pd.merge(df_inactive_join, df_nice_inactive, left_on='BIZ_NO', right_on='BIZ_NO', how='outer')"
   ]
  },
  {
   "cell_type": "code",
   "execution_count": 271,
   "metadata": {},
   "outputs": [
    {
     "data": {
      "text/html": [
       "<div>\n",
       "<style scoped>\n",
       "    .dataframe tbody tr th:only-of-type {\n",
       "        vertical-align: middle;\n",
       "    }\n",
       "\n",
       "    .dataframe tbody tr th {\n",
       "        vertical-align: top;\n",
       "    }\n",
       "\n",
       "    .dataframe thead th {\n",
       "        text-align: right;\n",
       "    }\n",
       "</style>\n",
       "<table border=\"1\" class=\"dataframe\">\n",
       "  <thead>\n",
       "    <tr style=\"text-align: right;\">\n",
       "      <th></th>\n",
       "      <th>BIZ_NO</th>\n",
       "      <th>CMP_NM</th>\n",
       "      <th>CEO_NM</th>\n",
       "      <th>BZ_TYP</th>\n",
       "      <th>HDOF_BR_GB</th>\n",
       "      <th>FR_IVST_CORP_YN</th>\n",
       "      <th>VENT_YN</th>\n",
       "      <th>LIST_CD</th>\n",
       "      <th>LIST_DATE</th>\n",
       "      <th>MDSCO_PRTC_YN</th>\n",
       "      <th>ESTB_GB</th>\n",
       "      <th>NATN_NM</th>\n",
       "      <th>ESTB</th>\n",
       "      <th>EMP_cat</th>\n",
       "      <th>close_y_n</th>\n",
       "      <th>close_count</th>\n",
       "      <th>grade</th>\n",
       "      <th>city</th>\n",
       "    </tr>\n",
       "  </thead>\n",
       "  <tbody>\n",
       "    <tr>\n",
       "      <th>0</th>\n",
       "      <td>1138111739</td>\n",
       "      <td>한일가스산업</td>\n",
       "      <td>홍순철</td>\n",
       "      <td>4</td>\n",
       "      <td>1</td>\n",
       "      <td>0</td>\n",
       "      <td>0</td>\n",
       "      <td>0</td>\n",
       "      <td>9</td>\n",
       "      <td>0</td>\n",
       "      <td>1</td>\n",
       "      <td>63</td>\n",
       "      <td>0</td>\n",
       "      <td>2</td>\n",
       "      <td>0</td>\n",
       "      <td>0</td>\n",
       "      <td>5.0</td>\n",
       "      <td>1.0</td>\n",
       "    </tr>\n",
       "    <tr>\n",
       "      <th>1</th>\n",
       "      <td>2078132193</td>\n",
       "      <td>엠피아이</td>\n",
       "      <td>이스테판상수</td>\n",
       "      <td>4</td>\n",
       "      <td>1</td>\n",
       "      <td>0</td>\n",
       "      <td>0</td>\n",
       "      <td>0</td>\n",
       "      <td>9</td>\n",
       "      <td>0</td>\n",
       "      <td>1</td>\n",
       "      <td>63</td>\n",
       "      <td>3</td>\n",
       "      <td>2</td>\n",
       "      <td>0</td>\n",
       "      <td>0</td>\n",
       "      <td>6.0</td>\n",
       "      <td>1.0</td>\n",
       "    </tr>\n",
       "    <tr>\n",
       "      <th>2</th>\n",
       "      <td>1318167565</td>\n",
       "      <td>도영운수</td>\n",
       "      <td>김명화</td>\n",
       "      <td>4</td>\n",
       "      <td>1</td>\n",
       "      <td>0</td>\n",
       "      <td>0</td>\n",
       "      <td>0</td>\n",
       "      <td>9</td>\n",
       "      <td>0</td>\n",
       "      <td>1</td>\n",
       "      <td>63</td>\n",
       "      <td>4</td>\n",
       "      <td>3</td>\n",
       "      <td>0</td>\n",
       "      <td>0</td>\n",
       "      <td>6.0</td>\n",
       "      <td>1.0</td>\n",
       "    </tr>\n",
       "    <tr>\n",
       "      <th>3</th>\n",
       "      <td>5048128251</td>\n",
       "      <td>중원산업</td>\n",
       "      <td>김명구</td>\n",
       "      <td>4</td>\n",
       "      <td>1</td>\n",
       "      <td>0</td>\n",
       "      <td>0</td>\n",
       "      <td>0</td>\n",
       "      <td>9</td>\n",
       "      <td>0</td>\n",
       "      <td>1</td>\n",
       "      <td>63</td>\n",
       "      <td>3</td>\n",
       "      <td>3</td>\n",
       "      <td>0</td>\n",
       "      <td>0</td>\n",
       "      <td>6.0</td>\n",
       "      <td>0.0</td>\n",
       "    </tr>\n",
       "    <tr>\n",
       "      <th>4</th>\n",
       "      <td>1098164260</td>\n",
       "      <td>카타나골프</td>\n",
       "      <td>김홍득</td>\n",
       "      <td>4</td>\n",
       "      <td>1</td>\n",
       "      <td>0</td>\n",
       "      <td>0</td>\n",
       "      <td>0</td>\n",
       "      <td>9</td>\n",
       "      <td>0</td>\n",
       "      <td>1</td>\n",
       "      <td>63</td>\n",
       "      <td>4</td>\n",
       "      <td>1</td>\n",
       "      <td>0</td>\n",
       "      <td>0</td>\n",
       "      <td>6.0</td>\n",
       "      <td>1.0</td>\n",
       "    </tr>\n",
       "    <tr>\n",
       "      <th>...</th>\n",
       "      <td>...</td>\n",
       "      <td>...</td>\n",
       "      <td>...</td>\n",
       "      <td>...</td>\n",
       "      <td>...</td>\n",
       "      <td>...</td>\n",
       "      <td>...</td>\n",
       "      <td>...</td>\n",
       "      <td>...</td>\n",
       "      <td>...</td>\n",
       "      <td>...</td>\n",
       "      <td>...</td>\n",
       "      <td>...</td>\n",
       "      <td>...</td>\n",
       "      <td>...</td>\n",
       "      <td>...</td>\n",
       "      <td>...</td>\n",
       "      <td>...</td>\n",
       "    </tr>\n",
       "    <tr>\n",
       "      <th>28977</th>\n",
       "      <td>8048101453</td>\n",
       "      <td>제이앤인베스트먼트</td>\n",
       "      <td>정경태</td>\n",
       "      <td>4</td>\n",
       "      <td>1</td>\n",
       "      <td>0</td>\n",
       "      <td>0</td>\n",
       "      <td>0</td>\n",
       "      <td>9</td>\n",
       "      <td>0</td>\n",
       "      <td>1</td>\n",
       "      <td>63</td>\n",
       "      <td>7</td>\n",
       "      <td>0</td>\n",
       "      <td>0</td>\n",
       "      <td>0</td>\n",
       "      <td>NaN</td>\n",
       "      <td>NaN</td>\n",
       "    </tr>\n",
       "    <tr>\n",
       "      <th>28978</th>\n",
       "      <td>8028701430</td>\n",
       "      <td>디앤엠개발</td>\n",
       "      <td>송성현</td>\n",
       "      <td>4</td>\n",
       "      <td>1</td>\n",
       "      <td>0</td>\n",
       "      <td>0</td>\n",
       "      <td>0</td>\n",
       "      <td>9</td>\n",
       "      <td>0</td>\n",
       "      <td>1</td>\n",
       "      <td>63</td>\n",
       "      <td>8</td>\n",
       "      <td>1</td>\n",
       "      <td>0</td>\n",
       "      <td>0</td>\n",
       "      <td>6.0</td>\n",
       "      <td>0.0</td>\n",
       "    </tr>\n",
       "    <tr>\n",
       "      <th>28979</th>\n",
       "      <td>4268501421</td>\n",
       "      <td>마스비 건축연구소</td>\n",
       "      <td>김태남</td>\n",
       "      <td>4</td>\n",
       "      <td>2</td>\n",
       "      <td>0</td>\n",
       "      <td>0</td>\n",
       "      <td>0</td>\n",
       "      <td>9</td>\n",
       "      <td>0</td>\n",
       "      <td>1</td>\n",
       "      <td>63</td>\n",
       "      <td>3</td>\n",
       "      <td>3</td>\n",
       "      <td>0</td>\n",
       "      <td>0</td>\n",
       "      <td>NaN</td>\n",
       "      <td>NaN</td>\n",
       "    </tr>\n",
       "    <tr>\n",
       "      <th>28980</th>\n",
       "      <td>6518502462</td>\n",
       "      <td>건설레미콘의정부공장</td>\n",
       "      <td>이미성</td>\n",
       "      <td>4</td>\n",
       "      <td>2</td>\n",
       "      <td>0</td>\n",
       "      <td>0</td>\n",
       "      <td>0</td>\n",
       "      <td>9</td>\n",
       "      <td>0</td>\n",
       "      <td>1</td>\n",
       "      <td>63</td>\n",
       "      <td>8</td>\n",
       "      <td>2</td>\n",
       "      <td>0</td>\n",
       "      <td>0</td>\n",
       "      <td>NaN</td>\n",
       "      <td>NaN</td>\n",
       "    </tr>\n",
       "    <tr>\n",
       "      <th>28981</th>\n",
       "      <td>6698502065</td>\n",
       "      <td>아이비텍 (주) 김해지점</td>\n",
       "      <td>양재현</td>\n",
       "      <td>4</td>\n",
       "      <td>2</td>\n",
       "      <td>0</td>\n",
       "      <td>0</td>\n",
       "      <td>0</td>\n",
       "      <td>9</td>\n",
       "      <td>0</td>\n",
       "      <td>1</td>\n",
       "      <td>63</td>\n",
       "      <td>8</td>\n",
       "      <td>1</td>\n",
       "      <td>0</td>\n",
       "      <td>0</td>\n",
       "      <td>NaN</td>\n",
       "      <td>NaN</td>\n",
       "    </tr>\n",
       "  </tbody>\n",
       "</table>\n",
       "<p>28982 rows × 18 columns</p>\n",
       "</div>"
      ],
      "text/plain": [
       "           BIZ_NO         CMP_NM  CEO_NM  BZ_TYP  HDOF_BR_GB  FR_IVST_CORP_YN  \\\n",
       "0      1138111739         한일가스산업     홍순철       4           1                0   \n",
       "1      2078132193           엠피아이  이스테판상수       4           1                0   \n",
       "2      1318167565           도영운수     김명화       4           1                0   \n",
       "3      5048128251           중원산업     김명구       4           1                0   \n",
       "4      1098164260          카타나골프     김홍득       4           1                0   \n",
       "...           ...            ...     ...     ...         ...              ...   \n",
       "28977  8048101453      제이앤인베스트먼트     정경태       4           1                0   \n",
       "28978  8028701430          디앤엠개발     송성현       4           1                0   \n",
       "28979  4268501421      마스비 건축연구소     김태남       4           2                0   \n",
       "28980  6518502462     건설레미콘의정부공장     이미성       4           2                0   \n",
       "28981  6698502065  아이비텍 (주) 김해지점     양재현       4           2                0   \n",
       "\n",
       "       VENT_YN  LIST_CD  LIST_DATE  MDSCO_PRTC_YN  ESTB_GB  NATN_NM  ESTB  \\\n",
       "0            0        0          9              0        1       63     0   \n",
       "1            0        0          9              0        1       63     3   \n",
       "2            0        0          9              0        1       63     4   \n",
       "3            0        0          9              0        1       63     3   \n",
       "4            0        0          9              0        1       63     4   \n",
       "...        ...      ...        ...            ...      ...      ...   ...   \n",
       "28977        0        0          9              0        1       63     7   \n",
       "28978        0        0          9              0        1       63     8   \n",
       "28979        0        0          9              0        1       63     3   \n",
       "28980        0        0          9              0        1       63     8   \n",
       "28981        0        0          9              0        1       63     8   \n",
       "\n",
       "       EMP_cat  close_y_n  close_count  grade  city  \n",
       "0            2          0            0    5.0   1.0  \n",
       "1            2          0            0    6.0   1.0  \n",
       "2            3          0            0    6.0   1.0  \n",
       "3            3          0            0    6.0   0.0  \n",
       "4            1          0            0    6.0   1.0  \n",
       "...        ...        ...          ...    ...   ...  \n",
       "28977        0          0            0    NaN   NaN  \n",
       "28978        1          0            0    6.0   0.0  \n",
       "28979        3          0            0    NaN   NaN  \n",
       "28980        2          0            0    NaN   NaN  \n",
       "28981        1          0            0    NaN   NaN  \n",
       "\n",
       "[28982 rows x 18 columns]"
      ]
     },
     "execution_count": 271,
     "metadata": {},
     "output_type": "execute_result"
    }
   ],
   "source": [
    "active_df"
   ]
  },
  {
   "cell_type": "code",
   "execution_count": 272,
   "metadata": {},
   "outputs": [
    {
     "data": {
      "text/plain": [
       "BIZ_NO                0\n",
       "CMP_NM                0\n",
       "CEO_NM                0\n",
       "BZ_TYP                0\n",
       "HDOF_BR_GB            0\n",
       "FR_IVST_CORP_YN       0\n",
       "VENT_YN               0\n",
       "LIST_CD               0\n",
       "LIST_DATE             0\n",
       "MDSCO_PRTC_YN         0\n",
       "ESTB_GB               0\n",
       "NATN_NM               0\n",
       "ESTB                  0\n",
       "EMP_cat               0\n",
       "close_y_n             0\n",
       "close_count           0\n",
       "grade              2206\n",
       "city               2206\n",
       "dtype: int64"
      ]
     },
     "execution_count": 272,
     "metadata": {},
     "output_type": "execute_result"
    }
   ],
   "source": [
    "active_df.isnull().sum()"
   ]
  },
  {
   "cell_type": "code",
   "execution_count": 273,
   "metadata": {},
   "outputs": [
    {
     "data": {
      "text/plain": [
       "BIZ_NO               0\n",
       "CMP_NM               0\n",
       "CEO_NM               0\n",
       "BZ_TYP               0\n",
       "HDOF_BR_GB           0\n",
       "FR_IVST_CORP_YN      0\n",
       "VENT_YN              0\n",
       "LIST_CD              0\n",
       "LIST_DATE            0\n",
       "MDSCO_PRTC_YN        0\n",
       "ESTB_GB              0\n",
       "NATN_NM              0\n",
       "ESTB                 0\n",
       "EMP_cat              0\n",
       "close_y_n            0\n",
       "close_count          0\n",
       "grade              724\n",
       "city               724\n",
       "dtype: int64"
      ]
     },
     "execution_count": 273,
     "metadata": {},
     "output_type": "execute_result"
    }
   ],
   "source": [
    "inactive_df.isnull().sum()"
   ]
  },
  {
   "cell_type": "code",
   "execution_count": 274,
   "metadata": {},
   "outputs": [
    {
     "data": {
      "text/plain": [
       "1.0    15576\n",
       "0.0    11200\n",
       "Name: city, dtype: int64"
      ]
     },
     "execution_count": 274,
     "metadata": {},
     "output_type": "execute_result"
    }
   ],
   "source": [
    "active_df['city'].value_counts()"
   ]
  },
  {
   "cell_type": "code",
   "execution_count": 275,
   "metadata": {},
   "outputs": [
    {
     "data": {
      "text/plain": [
       "1.0    3552\n",
       "0.0    2462\n",
       "Name: city, dtype: int64"
      ]
     },
     "execution_count": 275,
     "metadata": {},
     "output_type": "execute_result"
    }
   ],
   "source": [
    "inactive_df['city'].value_counts()"
   ]
  },
  {
   "cell_type": "markdown",
   "metadata": {},
   "source": [
    "1.\n",
    "active_df 의 grade, city 널 값 2천개\n",
    "inactive_df의 grade, city 700개\n",
    "=> 어떤 값으로 채울지 고민 (머신러닝으로 예측해서 넣기? bike참조)\n",
    "\n",
    "grade와 city(도심)"
   ]
  },
  {
   "cell_type": "markdown",
   "metadata": {},
   "source": [
    "### 2) INNO_BIZ"
   ]
  },
  {
   "cell_type": "code",
   "execution_count": 422,
   "metadata": {},
   "outputs": [],
   "source": [
    "inno_biz_df = pd.read_excel('./외부data/inno_biz.xlsx', header=2)\n",
    "inno_biz_df = inno_biz_df.drop('번호', axis=1)"
   ]
  },
  {
   "cell_type": "code",
   "execution_count": 412,
   "metadata": {},
   "outputs": [],
   "source": [
    "# '에이에스이'(innobiz) in '에이에스이 칠곡지점'(active)"
   ]
  },
  {
   "cell_type": "code",
   "execution_count": 423,
   "metadata": {},
   "outputs": [
    {
     "name": "stderr",
     "output_type": "stream",
     "text": [
      "C:\\Users\\bin\\AppData\\Local\\Temp\\ipykernel_5604\\3841284521.py:1: FutureWarning: The default value of regex will change from True to False in a future version.\n",
      "  inno_biz_df['업체명'] = inno_biz_df['업체명'].str.replace(\"\\([^\\)]+\", \"\")\n",
      "C:\\Users\\bin\\AppData\\Local\\Temp\\ipykernel_5604\\3841284521.py:2: FutureWarning: The default value of regex will change from True to False in a future version.\n",
      "  inno_biz_df['업체명'] = inno_biz_df['업체명'].str.replace(\"\\)\", \"\")\n",
      "C:\\Users\\bin\\AppData\\Local\\Temp\\ipykernel_5604\\3841284521.py:3: FutureWarning: The default value of regex will change from True to False in a future version.\n",
      "  inno_biz_df['업체명'] = inno_biz_df['업체명'].str.replace(\" *주식회사 *\", \"\")\n"
     ]
    }
   ],
   "source": [
    "inno_biz_df['업체명'] = inno_biz_df['업체명'].str.replace(\"\\([^\\)]+\", \"\")\n",
    "inno_biz_df['업체명'] = inno_biz_df['업체명'].str.replace(\"\\)\", \"\")\n",
    "inno_biz_df['업체명'] = inno_biz_df['업체명'].str.replace(\" *주식회사 *\", \"\")\n",
    "\n"
   ]
  },
  {
   "cell_type": "code",
   "execution_count": 427,
   "metadata": {},
   "outputs": [],
   "source": [
    "active_df['INNO_BIZ']=0\n",
    "inactive_df['INNO_BIZ']=0"
   ]
  },
  {
   "cell_type": "code",
   "execution_count": 428,
   "metadata": {},
   "outputs": [
    {
     "data": {
      "text/html": [
       "<div>\n",
       "<style scoped>\n",
       "    .dataframe tbody tr th:only-of-type {\n",
       "        vertical-align: middle;\n",
       "    }\n",
       "\n",
       "    .dataframe tbody tr th {\n",
       "        vertical-align: top;\n",
       "    }\n",
       "\n",
       "    .dataframe thead th {\n",
       "        text-align: right;\n",
       "    }\n",
       "</style>\n",
       "<table border=\"1\" class=\"dataframe\">\n",
       "  <thead>\n",
       "    <tr style=\"text-align: right;\">\n",
       "      <th></th>\n",
       "      <th>업체명</th>\n",
       "      <th>대표자</th>\n",
       "      <th>지역</th>\n",
       "      <th>평가지표</th>\n",
       "      <th>관련업종</th>\n",
       "      <th>인증만료일</th>\n",
       "    </tr>\n",
       "  </thead>\n",
       "  <tbody>\n",
       "  </tbody>\n",
       "</table>\n",
       "</div>"
      ],
      "text/plain": [
       "Empty DataFrame\n",
       "Columns: [업체명, 대표자, 지역, 평가지표, 관련업종, 인증만료일]\n",
       "Index: []"
      ]
     },
     "execution_count": 428,
     "metadata": {},
     "output_type": "execute_result"
    }
   ],
   "source": [
    "inno_biz_df.loc[inno_biz_df['업체명'].str.contains('\\(')]\n"
   ]
  },
  {
   "cell_type": "code",
   "execution_count": 429,
   "metadata": {},
   "outputs": [
    {
     "data": {
      "text/plain": [
       "0    28982\n",
       "Name: INNO_BIZ, dtype: int64"
      ]
     },
     "execution_count": 429,
     "metadata": {},
     "output_type": "execute_result"
    }
   ],
   "source": [
    "active_df['INNO_BIZ'].value_counts()"
   ]
  },
  {
   "cell_type": "code",
   "execution_count": 430,
   "metadata": {},
   "outputs": [
    {
     "data": {
      "text/plain": [
       "0    6738\n",
       "Name: INNO_BIZ, dtype: int64"
      ]
     },
     "execution_count": 430,
     "metadata": {},
     "output_type": "execute_result"
    }
   ],
   "source": [
    "inactive_df['INNO_BIZ'].value_counts()"
   ]
  },
  {
   "cell_type": "code",
   "execution_count": 431,
   "metadata": {},
   "outputs": [
    {
     "name": "stderr",
     "output_type": "stream",
     "text": [
      "C:\\Users\\bin\\AppData\\Local\\Temp\\ipykernel_5604\\873086845.py:7: SettingWithCopyWarning: \n",
      "A value is trying to be set on a copy of a slice from a DataFrame\n",
      "\n",
      "See the caveats in the documentation: https://pandas.pydata.org/pandas-docs/stable/user_guide/indexing.html#returning-a-view-versus-a-copy\n",
      "  df['INNO_BIZ'].loc[condition]=1\n"
     ]
    }
   ],
   "source": [
    "inno_list = inno_biz_df['업체명'].tolist()\n",
    "\n",
    "# 1. 기업명으로 한 번 거르기\n",
    "for df in [active_df, inactive_df]:\n",
    "    for inno in inno_list:\n",
    "        condition = df['CMP_NM'].str.contains(inno)\n",
    "        df['INNO_BIZ'].loc[condition]=1"
   ]
  },
  {
   "cell_type": "code",
   "execution_count": 285,
   "metadata": {},
   "outputs": [],
   "source": [
    "# 2. INNO_BIZ가 1인 값들만 가져와서 새로운 df만들기\n",
    "active_inno_df = active_df.loc[active_df['INNO_BIZ']==1]\n",
    "\n",
    "# 대표자명만 리스트 만들기\n",
    "active_inno_list = active_inno_df['CEO_NM'].tolist()"
   ]
  },
  {
   "cell_type": "code",
   "execution_count": 371,
   "metadata": {},
   "outputs": [],
   "source": [
    "# inno_biz_df 에 대표자 리스트 이름 해당값만 남겨서 다시 df만들기\n",
    "new_inno_index=[]\n",
    "for ac in active_inno_list:\n",
    "    condition = inno_biz_df['대표자'].str.contains(ac)\n",
    "    try:\n",
    "        index = inno_biz_df.loc[condition].index[0]\n",
    "        new_inno_index.append(index)\n",
    "    except:\n",
    "        pass"
   ]
  },
  {
   "cell_type": "code",
   "execution_count": 373,
   "metadata": {},
   "outputs": [
    {
     "data": {
      "text/plain": [
       "8736"
      ]
     },
     "execution_count": 373,
     "metadata": {},
     "output_type": "execute_result"
    }
   ],
   "source": [
    "len(new_inno_index)"
   ]
  },
  {
   "cell_type": "code",
   "execution_count": 379,
   "metadata": {},
   "outputs": [],
   "source": [
    "# 대표자명이 동명이인이면 동명이인 수 만큼 해당 기업 정보가 중복으로 리스트에 들어감\n",
    "# -> 중복제거해주기\n",
    "new_inno_biz=inno_biz_df.iloc[new_inno_index,:]\n",
    "new_inno_biz = new_inno_biz.drop_duplicates(['업체명']).reset_index(drop=True)"
   ]
  },
  {
   "cell_type": "code",
   "execution_count": 380,
   "metadata": {},
   "outputs": [
    {
     "data": {
      "text/html": [
       "<div>\n",
       "<style scoped>\n",
       "    .dataframe tbody tr th:only-of-type {\n",
       "        vertical-align: middle;\n",
       "    }\n",
       "\n",
       "    .dataframe tbody tr th {\n",
       "        vertical-align: top;\n",
       "    }\n",
       "\n",
       "    .dataframe thead th {\n",
       "        text-align: right;\n",
       "    }\n",
       "</style>\n",
       "<table border=\"1\" class=\"dataframe\">\n",
       "  <thead>\n",
       "    <tr style=\"text-align: right;\">\n",
       "      <th></th>\n",
       "      <th>업체명</th>\n",
       "      <th>대표자</th>\n",
       "      <th>지역</th>\n",
       "      <th>평가지표</th>\n",
       "      <th>관련업종</th>\n",
       "      <th>인증만료일</th>\n",
       "    </tr>\n",
       "  </thead>\n",
       "  <tbody>\n",
       "    <tr>\n",
       "      <th>0</th>\n",
       "      <td>버텍스아이디</td>\n",
       "      <td>홍순철</td>\n",
       "      <td>서울 송파구</td>\n",
       "      <td>SW</td>\n",
       "      <td>정보통신</td>\n",
       "      <td>2023-11-17</td>\n",
       "    </tr>\n",
       "    <tr>\n",
       "      <th>1</th>\n",
       "      <td>에스더전자주식회사</td>\n",
       "      <td>김명화</td>\n",
       "      <td>서울 금천구</td>\n",
       "      <td>제조업</td>\n",
       "      <td>전기전자</td>\n",
       "      <td>2023-08-17</td>\n",
       "    </tr>\n",
       "    <tr>\n",
       "      <th>2</th>\n",
       "      <td>형제정공</td>\n",
       "      <td>김명구</td>\n",
       "      <td>강원 원주시</td>\n",
       "      <td>제조업</td>\n",
       "      <td>기계금속</td>\n",
       "      <td>2024-07-19</td>\n",
       "    </tr>\n",
       "    <tr>\n",
       "      <th>3</th>\n",
       "      <td>세풍폴리머</td>\n",
       "      <td>김종만</td>\n",
       "      <td>서울 금천구</td>\n",
       "      <td>제조업</td>\n",
       "      <td>화학</td>\n",
       "      <td>2024-12-10</td>\n",
       "    </tr>\n",
       "    <tr>\n",
       "      <th>4</th>\n",
       "      <td>코팅코리아</td>\n",
       "      <td>최규호</td>\n",
       "      <td>전북 김제시</td>\n",
       "      <td>제조업</td>\n",
       "      <td>기계금속</td>\n",
       "      <td>2022-10-13</td>\n",
       "    </tr>\n",
       "    <tr>\n",
       "      <th>...</th>\n",
       "      <td>...</td>\n",
       "      <td>...</td>\n",
       "      <td>...</td>\n",
       "      <td>...</td>\n",
       "      <td>...</td>\n",
       "      <td>...</td>\n",
       "    </tr>\n",
       "    <tr>\n",
       "      <th>5364</th>\n",
       "      <td>케이알씨주식회사</td>\n",
       "      <td>최영범</td>\n",
       "      <td>대구 달성군</td>\n",
       "      <td>제조업</td>\n",
       "      <td>건설</td>\n",
       "      <td>2024-10-04</td>\n",
       "    </tr>\n",
       "    <tr>\n",
       "      <th>5365</th>\n",
       "      <td>주식회사뉴빌리티</td>\n",
       "      <td>이상민</td>\n",
       "      <td>서울 성동구</td>\n",
       "      <td>SW</td>\n",
       "      <td>서비스</td>\n",
       "      <td>2025-06-06</td>\n",
       "    </tr>\n",
       "    <tr>\n",
       "      <th>5366</th>\n",
       "      <td>코리아베르톨드</td>\n",
       "      <td>이진철</td>\n",
       "      <td>경기 성남시</td>\n",
       "      <td>제조업</td>\n",
       "      <td>기계금속</td>\n",
       "      <td>2023-01-13</td>\n",
       "    </tr>\n",
       "    <tr>\n",
       "      <th>5367</th>\n",
       "      <td>비스텔</td>\n",
       "      <td>최운규</td>\n",
       "      <td>서울 서초구</td>\n",
       "      <td>SW</td>\n",
       "      <td>S/W</td>\n",
       "      <td>2023-12-17</td>\n",
       "    </tr>\n",
       "    <tr>\n",
       "      <th>5368</th>\n",
       "      <td>아이엘사이언스</td>\n",
       "      <td>송성근</td>\n",
       "      <td>경기 성남시</td>\n",
       "      <td>제조업</td>\n",
       "      <td>전기전자</td>\n",
       "      <td>2024-09-06</td>\n",
       "    </tr>\n",
       "  </tbody>\n",
       "</table>\n",
       "<p>5369 rows × 6 columns</p>\n",
       "</div>"
      ],
      "text/plain": [
       "            업체명  대표자      지역 평가지표  관련업종      인증만료일\n",
       "0        버텍스아이디  홍순철  서울 송파구   SW  정보통신 2023-11-17\n",
       "1     에스더전자주식회사  김명화  서울 금천구  제조업  전기전자 2023-08-17\n",
       "2          형제정공  김명구  강원 원주시  제조업  기계금속 2024-07-19\n",
       "3         세풍폴리머  김종만  서울 금천구  제조업    화학 2024-12-10\n",
       "4         코팅코리아  최규호  전북 김제시  제조업  기계금속 2022-10-13\n",
       "...         ...  ...     ...  ...   ...        ...\n",
       "5364   케이알씨주식회사  최영범  대구 달성군  제조업    건설 2024-10-04\n",
       "5365   주식회사뉴빌리티  이상민  서울 성동구   SW   서비스 2025-06-06\n",
       "5366    코리아베르톨드  이진철  경기 성남시  제조업  기계금속 2023-01-13\n",
       "5367        비스텔  최운규  서울 서초구   SW   S/W 2023-12-17\n",
       "5368    아이엘사이언스  송성근  경기 성남시  제조업  전기전자 2024-09-06\n",
       "\n",
       "[5369 rows x 6 columns]"
      ]
     },
     "execution_count": 380,
     "metadata": {},
     "output_type": "execute_result"
    }
   ],
   "source": [
    "new_inno_biz"
   ]
  },
  {
   "cell_type": "code",
   "execution_count": 381,
   "metadata": {},
   "outputs": [
    {
     "data": {
      "text/plain": [
       "5369"
      ]
     },
     "execution_count": 381,
     "metadata": {},
     "output_type": "execute_result"
    }
   ],
   "source": [
    "new_inno_biz_list = new_inno_biz['대표자'].tolist()\n",
    "len(new_inno_biz_list)"
   ]
  },
  {
   "cell_type": "code",
   "execution_count": null,
   "metadata": {},
   "outputs": [],
   "source": [
    "for name in active_inno_list:\n",
    "    if name in new_inno_biz_list:\n",
    "        # 각각의 df에서 대표자이름으로 index구해서 해당 index의 회사이름 가져와서 같다면 최종리스트에 추가\n",
    "        \n",
    "\n",
    "\n",
    "\n",
    "\n",
    "    if (active_inno_df['CEO_NM']== name) and (new_inno_biz['대표자']==name):\n",
    "        "
   ]
  },
  {
   "cell_type": "code",
   "execution_count": 382,
   "metadata": {},
   "outputs": [
    {
     "data": {
      "text/plain": [
       "['한일가스산업', '나라삼양감속기']"
      ]
     },
     "execution_count": 382,
     "metadata": {},
     "output_type": "execute_result"
    }
   ],
   "source": [
    "active_inno_df['CMP_NM'].loc[active_inno_df['CEO_NM']=='홍순철'].tolist()"
   ]
  },
  {
   "cell_type": "code",
   "execution_count": 383,
   "metadata": {},
   "outputs": [
    {
     "data": {
      "text/plain": [
       "3             중원산업\n",
       "14270    인천북항벌크터미널\n",
       "Name: CMP_NM, dtype: object"
      ]
     },
     "execution_count": 383,
     "metadata": {},
     "output_type": "execute_result"
    }
   ],
   "source": [
    "active_inno_df['CMP_NM'].loc[active_inno_df['CEO_NM']=='김명구']"
   ]
  },
  {
   "cell_type": "code",
   "execution_count": 404,
   "metadata": {},
   "outputs": [
    {
     "data": {
      "text/plain": [
       "['코팅코리아']"
      ]
     },
     "execution_count": 404,
     "metadata": {},
     "output_type": "execute_result"
    }
   ],
   "source": [
    "test2name = new_inno_biz['업체명'].loc[new_inno_biz['대표자']=='최규호'].tolist()\n",
    "test2name"
   ]
  },
  {
   "cell_type": "code",
   "execution_count": 409,
   "metadata": {},
   "outputs": [],
   "source": [
    "testlist1= ['홍순철',\n",
    " '김명화',\n",
    " '김명구',\n",
    " '김종만',\n",
    " '정득부',\n",
    " '아와츠시게키',\n",
    " '리와이킷애니타',\n",
    " '변재철',\n",
    " '최규호']\n",
    "testlist2 = ['홍순철','김명화','김명구','김종만','최규호'] \n",
    "\n",
    "final=[]\n",
    "for name in testlist1:\n",
    "    if name in testlist2:\n",
    "        # 대표자이름 중복 많음 - 여러개 회사 for문 돌리기\n",
    "        test1name_list = active_inno_df['CMP_NM'].loc[active_inno_df['CEO_NM']==name].tolist()\n",
    "        for company in test1name_list:\n",
    "            test2name_list = new_inno_biz['업체명'].loc[new_inno_biz['대표자']==name].tolist()\n",
    "            for company2 in test2name_list:\n",
    "                if (company == company2) | (company2 in company):\n",
    "                    final_company = active_inno_df['CMP_NM'].loc[active_inno_df['CEO_NM']==name].tolist()\n",
    "                    final.append(final_company)"
   ]
  },
  {
   "cell_type": "code",
   "execution_count": 410,
   "metadata": {},
   "outputs": [
    {
     "data": {
      "text/plain": [
       "[['세풍폴리머', '가보테크', '세풍폴리머수지공장'], ['세풍폴리머', '가보테크', '세풍폴리머수지공장'], ['코팅코리아']]"
      ]
     },
     "execution_count": 410,
     "metadata": {},
     "output_type": "execute_result"
    }
   ],
   "source": [
    "final"
   ]
  },
  {
   "cell_type": "code",
   "execution_count": 185,
   "metadata": {},
   "outputs": [],
   "source": [
    "# inno_active_list=[]\n",
    "# for i in range(len(active_df)):\n",
    "#     for j in range(len(inno_biz_df)):\n",
    "#         if inno_biz_df['업체명'][i] in active_df['CMP_NM'][j]:\n",
    "#             inno_active_list.append(inno_biz_df['업체명'][i])"
   ]
  },
  {
   "cell_type": "code",
   "execution_count": null,
   "metadata": {},
   "outputs": [],
   "source": [
    "# inno_inactive_list=[]\n",
    "# for i in range(len(inactive_df)):\n",
    "#     for j in range(len(inno_biz_df)):\n",
    "#         if inno_biz_df['업체명'][i] in inactive_df['CMP_NM'][j]:\n",
    "#             inno_inactive_list.append(inno_biz_df['업체명'][i])"
   ]
  },
  {
   "cell_type": "code",
   "execution_count": 153,
   "metadata": {},
   "outputs": [
    {
     "ename": "IndexingError",
     "evalue": "Unalignable boolean Series provided as indexer (index of the boolean Series and of the indexed object do not match).",
     "output_type": "error",
     "traceback": [
      "\u001b[1;31m---------------------------------------------------------------------------\u001b[0m",
      "\u001b[1;31mIndexingError\u001b[0m                             Traceback (most recent call last)",
      "Cell \u001b[1;32mIn [153], line 5\u001b[0m\n\u001b[0;32m      2\u001b[0m \u001b[39mfor\u001b[39;00m i \u001b[39min\u001b[39;00m \u001b[39mrange\u001b[39m(\u001b[39mlen\u001b[39m(df)):\n\u001b[0;32m      3\u001b[0m     \u001b[39m# 조건 이름이 들어가 있는지 & 대표자명 포함인지.\u001b[39;00m\n\u001b[0;32m      4\u001b[0m     condition \u001b[39m=\u001b[39m (inno_biz_df[\u001b[39m'\u001b[39m\u001b[39m업체명\u001b[39m\u001b[39m'\u001b[39m]\u001b[39m.\u001b[39mstr\u001b[39m.\u001b[39mcontains(df[\u001b[39m'\u001b[39m\u001b[39mCMP_NM\u001b[39m\u001b[39m'\u001b[39m][i])) \u001b[39m&\u001b[39m (inno_biz_df[\u001b[39m'\u001b[39m\u001b[39m대표자\u001b[39m\u001b[39m'\u001b[39m]\u001b[39m.\u001b[39mstr\u001b[39m.\u001b[39mcontains(df[\u001b[39m'\u001b[39m\u001b[39mCEO_NM\u001b[39m\u001b[39m'\u001b[39m][i]))\n\u001b[1;32m----> 5\u001b[0m     df[\u001b[39m'\u001b[39;49m\u001b[39mINNO_BIZ\u001b[39;49m\u001b[39m'\u001b[39;49m]\u001b[39m.\u001b[39;49mloc[condition]\u001b[39m=\u001b[39m\u001b[39m1\u001b[39m\n",
      "File \u001b[1;32mc:\\Users\\bin\\anaconda3\\envs\\numble\\lib\\site-packages\\pandas\\core\\indexing.py:712\u001b[0m, in \u001b[0;36m_LocationIndexer.__setitem__\u001b[1;34m(self, key, value)\u001b[0m\n\u001b[0;32m    710\u001b[0m \u001b[39melse\u001b[39;00m:\n\u001b[0;32m    711\u001b[0m     key \u001b[39m=\u001b[39m com\u001b[39m.\u001b[39mapply_if_callable(key, \u001b[39mself\u001b[39m\u001b[39m.\u001b[39mobj)\n\u001b[1;32m--> 712\u001b[0m indexer \u001b[39m=\u001b[39m \u001b[39mself\u001b[39;49m\u001b[39m.\u001b[39;49m_get_setitem_indexer(key)\n\u001b[0;32m    713\u001b[0m \u001b[39mself\u001b[39m\u001b[39m.\u001b[39m_has_valid_setitem_indexer(key)\n\u001b[0;32m    715\u001b[0m iloc \u001b[39m=\u001b[39m \u001b[39mself\u001b[39m \u001b[39mif\u001b[39;00m \u001b[39mself\u001b[39m\u001b[39m.\u001b[39mname \u001b[39m==\u001b[39m \u001b[39m\"\u001b[39m\u001b[39miloc\u001b[39m\u001b[39m\"\u001b[39m \u001b[39melse\u001b[39;00m \u001b[39mself\u001b[39m\u001b[39m.\u001b[39mobj\u001b[39m.\u001b[39miloc\n",
      "File \u001b[1;32mc:\\Users\\bin\\anaconda3\\envs\\numble\\lib\\site-packages\\pandas\\core\\indexing.py:666\u001b[0m, in \u001b[0;36m_LocationIndexer._get_setitem_indexer\u001b[1;34m(self, key)\u001b[0m\n\u001b[0;32m    663\u001b[0m \u001b[39mif\u001b[39;00m \u001b[39misinstance\u001b[39m(key, \u001b[39mrange\u001b[39m):\n\u001b[0;32m    664\u001b[0m     \u001b[39mreturn\u001b[39;00m \u001b[39mlist\u001b[39m(key)\n\u001b[1;32m--> 666\u001b[0m \u001b[39mreturn\u001b[39;00m \u001b[39mself\u001b[39;49m\u001b[39m.\u001b[39;49m_convert_to_indexer(key, axis\u001b[39m=\u001b[39;49m\u001b[39m0\u001b[39;49m)\n",
      "File \u001b[1;32mc:\\Users\\bin\\anaconda3\\envs\\numble\\lib\\site-packages\\pandas\\core\\indexing.py:1290\u001b[0m, in \u001b[0;36m_LocIndexer._convert_to_indexer\u001b[1;34m(self, key, axis)\u001b[0m\n\u001b[0;32m   1287\u001b[0m     key \u001b[39m=\u001b[39m \u001b[39mlist\u001b[39m(key)\n\u001b[0;32m   1289\u001b[0m \u001b[39mif\u001b[39;00m com\u001b[39m.\u001b[39mis_bool_indexer(key):\n\u001b[1;32m-> 1290\u001b[0m     key \u001b[39m=\u001b[39m check_bool_indexer(labels, key)\n\u001b[0;32m   1291\u001b[0m     (inds,) \u001b[39m=\u001b[39m key\u001b[39m.\u001b[39mnonzero()\n\u001b[0;32m   1292\u001b[0m     \u001b[39mreturn\u001b[39;00m inds\n",
      "File \u001b[1;32mc:\\Users\\bin\\anaconda3\\envs\\numble\\lib\\site-packages\\pandas\\core\\indexing.py:2388\u001b[0m, in \u001b[0;36mcheck_bool_indexer\u001b[1;34m(index, key)\u001b[0m\n\u001b[0;32m   2386\u001b[0m     mask \u001b[39m=\u001b[39m isna(result\u001b[39m.\u001b[39m_values)\n\u001b[0;32m   2387\u001b[0m     \u001b[39mif\u001b[39;00m mask\u001b[39m.\u001b[39many():\n\u001b[1;32m-> 2388\u001b[0m         \u001b[39mraise\u001b[39;00m IndexingError(\n\u001b[0;32m   2389\u001b[0m             \u001b[39m\"\u001b[39m\u001b[39mUnalignable boolean Series provided as \u001b[39m\u001b[39m\"\u001b[39m\n\u001b[0;32m   2390\u001b[0m             \u001b[39m\"\u001b[39m\u001b[39mindexer (index of the boolean Series and of \u001b[39m\u001b[39m\"\u001b[39m\n\u001b[0;32m   2391\u001b[0m             \u001b[39m\"\u001b[39m\u001b[39mthe indexed object do not match).\u001b[39m\u001b[39m\"\u001b[39m\n\u001b[0;32m   2392\u001b[0m         )\n\u001b[0;32m   2393\u001b[0m     \u001b[39mreturn\u001b[39;00m result\u001b[39m.\u001b[39mastype(\u001b[39mbool\u001b[39m)\u001b[39m.\u001b[39m_values\n\u001b[0;32m   2394\u001b[0m \u001b[39mif\u001b[39;00m is_object_dtype(key):\n\u001b[0;32m   2395\u001b[0m     \u001b[39m# key might be object-dtype bool, check_array_indexer needs bool array\u001b[39;00m\n",
      "\u001b[1;31mIndexingError\u001b[0m: Unalignable boolean Series provided as indexer (index of the boolean Series and of the indexed object do not match)."
     ]
    }
   ],
   "source": [
    "for df in [active_df, inactive_df]:\n",
    "    for i in range(len(df)):\n",
    "        # 조건 이름이 들어가 있는지 & 대표자명 포함인지.\n",
    "        condition = (inno_biz_df['업체명'].str.contains(df['CMP_NM'][i])) & (inno_biz_df['대표자'].str.contains(df['CEO_NM'][i]))\n",
    "        df['INNO_BIZ'].loc[condition]=1"
   ]
  },
  {
   "cell_type": "code",
   "execution_count": 146,
   "metadata": {},
   "outputs": [
    {
     "ename": "TypeError",
     "evalue": "'in <string>' requires string as left operand, not Series",
     "output_type": "error",
     "traceback": [
      "\u001b[1;31m---------------------------------------------------------------------------\u001b[0m",
      "\u001b[1;31mTypeError\u001b[0m                                 Traceback (most recent call last)",
      "Cell \u001b[1;32mIn [146], line 4\u001b[0m\n\u001b[0;32m      1\u001b[0m \u001b[39mfor\u001b[39;00m df \u001b[39min\u001b[39;00m [active_df, inactive_df]:\n\u001b[0;32m      2\u001b[0m     \u001b[39mfor\u001b[39;00m i \u001b[39min\u001b[39;00m \u001b[39mrange\u001b[39m(\u001b[39mlen\u001b[39m(inno_biz_df)):\n\u001b[0;32m      3\u001b[0m         \u001b[39m# 조건 이름이 들어가 있는지 & 대표자명 포함인지.\u001b[39;00m\n\u001b[1;32m----> 4\u001b[0m         condition \u001b[39m=\u001b[39m (df[\u001b[39m'\u001b[39m\u001b[39mCMP_NM\u001b[39m\u001b[39m'\u001b[39m]\u001b[39m.\u001b[39mstr\u001b[39m.\u001b[39mcontains(inno_biz_df[\u001b[39m'\u001b[39m\u001b[39m업체명\u001b[39m\u001b[39m'\u001b[39m][i])) \u001b[39m&\u001b[39m (df[\u001b[39m'\u001b[39;49m\u001b[39mCEO_NM\u001b[39;49m\u001b[39m'\u001b[39;49m] \u001b[39min\u001b[39;49;00m inno_biz_df[\u001b[39m'\u001b[39;49m\u001b[39m대표자\u001b[39;49m\u001b[39m'\u001b[39;49m][i])\n\u001b[0;32m      5\u001b[0m         df[\u001b[39m'\u001b[39m\u001b[39mINNO_BIZ\u001b[39m\u001b[39m'\u001b[39m]\u001b[39m.\u001b[39mloc[condition]\u001b[39m=\u001b[39m\u001b[39m1\u001b[39m\n",
      "\u001b[1;31mTypeError\u001b[0m: 'in <string>' requires string as left operand, not Series"
     ]
    }
   ],
   "source": [
    "for df in [active_df, inactive_df]:\n",
    "    for i in range(len(inno_biz_df)):\n",
    "        # 조건 이름이 들어가 있는지 & 대표자명 포함인지.\n",
    "        condition = (df['CMP_NM'].str.contains(inno_biz_df['업체명'][i])) & (df['CEO_NM'].str.contains(inno_biz_df['대표자'][i]))\n",
    "        df['INNO_BIZ'].loc[condition]=1"
   ]
  },
  {
   "cell_type": "code",
   "execution_count": null,
   "metadata": {},
   "outputs": [],
   "source": [
    "# innerjoin으로 겹치는 기업 구하기\n",
    "inno_active_innerjoin = pd.merge(active_df, inno_biz_df, left_on='CMP_NM', how='left')"
   ]
  }
 ],
 "metadata": {
  "kernelspec": {
   "display_name": "Python 3.9.12",
   "language": "python",
   "name": "python3"
  },
  "language_info": {
   "codemirror_mode": {
    "name": "ipython",
    "version": 3
   },
   "file_extension": ".py",
   "mimetype": "text/x-python",
   "name": "python",
   "nbconvert_exporter": "python",
   "pygments_lexer": "ipython3",
   "version": "3.9.12"
  },
  "orig_nbformat": 4,
  "vscode": {
   "interpreter": {
    "hash": "03c1cfc6eb4391cb267124ee8d2542f348117ff40cebdef1af8c4e1de9c2e4ba"
   }
  }
 },
 "nbformat": 4,
 "nbformat_minor": 2
}
