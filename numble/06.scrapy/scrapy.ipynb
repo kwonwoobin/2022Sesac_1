{
 "cells": [
  {
   "cell_type": "code",
   "execution_count": 3,
   "metadata": {},
   "outputs": [],
   "source": [
    "import scrapy\n",
    "from scrapy.crawler import CrawlerProcess"
   ]
  },
  {
   "cell_type": "code",
   "execution_count": 1,
   "metadata": {},
   "outputs": [],
   "source": [
    "companylist = ['만복철강',\n",
    " '유피에스에스씨에스코리아',\n",
    " '제이에스엠인터내셔날',\n",
    " '코팅코리아',\n",
    " '대중교통',\n",
    " '대갑산업',\n",
    " '티센크루프머티리얼코리아',\n",
    " '동양이화',\n",
    " '아방',\n",
    " '아메코']"
   ]
  },
  {
   "cell_type": "code",
   "execution_count": 4,
   "metadata": {},
   "outputs": [
    {
     "ename": "NameError",
     "evalue": "name 'fetch' is not defined",
     "output_type": "error",
     "traceback": [
      "\u001b[1;31m---------------------------------------------------------------------------\u001b[0m",
      "\u001b[1;31mNameError\u001b[0m                                 Traceback (most recent call last)",
      "Cell \u001b[1;32mIn [4], line 1\u001b[0m\n\u001b[1;32m----> 1\u001b[0m fetch(\u001b[39m'\u001b[39m\u001b[39mhttp://news.naver.com/main/list.nhn?mode=LSD&mid=sec&sid1=001\u001b[39m\u001b[39m'\u001b[39m)\n",
      "\u001b[1;31mNameError\u001b[0m: name 'fetch' is not defined"
     ]
    }
   ],
   "source": [
    "/html/head/meta[5]\n",
    "\n"
   ]
  },
  {
   "cell_type": "code",
   "execution_count": null,
   "metadata": {},
   "outputs": [],
   "source": []
  }
 ],
 "metadata": {
  "kernelspec": {
   "display_name": "Python 3.9.12",
   "language": "python",
   "name": "python3"
  },
  "language_info": {
   "codemirror_mode": {
    "name": "ipython",
    "version": 3
   },
   "file_extension": ".py",
   "mimetype": "text/x-python",
   "name": "python",
   "nbconvert_exporter": "python",
   "pygments_lexer": "ipython3",
   "version": "3.9.12"
  },
  "orig_nbformat": 4,
  "vscode": {
   "interpreter": {
    "hash": "03c1cfc6eb4391cb267124ee8d2542f348117ff40cebdef1af8c4e1de9c2e4ba"
   }
  }
 },
 "nbformat": 4,
 "nbformat_minor": 2
}
