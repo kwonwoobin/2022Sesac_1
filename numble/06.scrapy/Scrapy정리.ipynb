{
 "cells": [
  {
   "cell_type": "markdown",
   "id": "0a8e529c",
   "metadata": {},
   "source": [
    "# Scrapy\n",
    "\n",
    "참조 링크\n",
    "기본\n",
    "https://velog.io/@poiuyy0420/Scrapy-%EC%84%A4%EC%B9%98-%EB%B0%8F-%EC%8B%A4%ED%96%89\n",
    "https://l0o02.github.io/2018/06/19/python-scrapy-1/\n",
    "call back 사용\n",
    "https://excelsior-cjh.tistory.com/87\n",
    "url바꾸기\n",
    "https://butnotforme.tistory.com/entry/Scrapy-0-%EC%9D%B4%ED%95%B4%ED%95%98%EA%B8%B0\n"
   ]
  },
  {
   "cell_type": "markdown",
   "id": "3b9c975d",
   "metadata": {},
   "source": [
    "## Scrapy 사용 순서"
   ]
  },
  {
   "cell_type": "markdown",
   "id": "b967cc6d",
   "metadata": {},
   "source": [
    "### project 생성\n",
    "scrapy startproject [이름]\n",
    "\n",
    "### spider 생성\n",
    "- 방법1) scrapy.cfg 있는 폴더 안에서 명령어를 실행 해야 한다.\n",
    "scrapy genspider [스파이더 이름] [크롤링URL]\n",
    "->생성된 스파이더 열어서 수정\n",
    "- 방법2)spider폴더 안에 py파일 만들고 import, class 코드 작성\n",
    "- a태그의 속성 사용 방법 a::attr(속성명)\n",
    "\n",
    "### *오류막기위해 settings.py 수정\n",
    "DOWNLOAD_DELAY = 2\n",
    "네이버가 막아놓은 크롤링 허용하기 ROBOTSTXT_OBEY = False\n",
    "\n",
    "### *csv 파일 다운로드 : \n",
    "1)가장 맨 위 폴더 안에 새로운 assets 폴더 만들기\n",
    "2)pipeline 파일 수정\n",
    "pipeline수정하고\n",
    "settings.py 65번째줄 주석 풀고 해당 함수 이름(CsvPipeline)으로 바꾸기\n",
    "\n",
    "### 실행\n",
    "scrapy crawl [스파이더 name] ; 테스트 할 때 or 실제로 크롤링, \n",
    "**scrapy.cfg파일 존재하는 path에서 실행\n",
    "scrapy runspider [스파이더] ; 단위 테스트 , spiders 폴더에서 실행\n",
    "\n",
    "\n",
    "### 실행 (csv로 저장)\n",
    "- scrapy crawl elebest -o elebest.csv -t csv\n",
    "or \n",
    "- 프로젝트 폴더에있는 settings.py에 입력\n",
    "FEED_FORMAT = \"csv\"\n",
    "FEED_URI = \"naver_news.csv\"\n",
    "\n",
    "\n"
   ]
  },
  {
   "cell_type": "code",
   "execution_count": null,
   "id": "1ef95b21",
   "metadata": {},
   "outputs": [],
   "source": []
  }
 ],
 "metadata": {
  "kernelspec": {
   "display_name": "numble",
   "language": "python",
   "name": "numble"
  },
  "language_info": {
   "codemirror_mode": {
    "name": "ipython",
    "version": 3
   },
   "file_extension": ".py",
   "mimetype": "text/x-python",
   "name": "python",
   "nbconvert_exporter": "python",
   "pygments_lexer": "ipython3",
   "version": "3.9.12"
  }
 },
 "nbformat": 4,
 "nbformat_minor": 5
}
