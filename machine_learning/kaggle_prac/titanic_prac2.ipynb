{
  "nbformat": 4,
  "nbformat_minor": 0,
  "metadata": {
    "colab": {
      "provenance": []
    },
    "kernelspec": {
      "name": "python3",
      "display_name": "Python 3"
    },
    "language_info": {
      "name": "python"
    }
  },
  "cells": [
    {
      "cell_type": "markdown",
      "source": [
        "Pre-Processing"
      ],
      "metadata": {
        "id": "aMoKgRSdSUp0"
      }
    },
    {
      "cell_type": "code",
      "source": [
        "import pandas as pd\n",
        "import warnings\n",
        "\n",
        "%matplotlib inline\n",
        "warnings.filterwarnings('ignore')\n",
        "\n",
        "#data import\n",
        "train = pd.read_csv('train.csv')\n",
        "test = pd.read_csv('test.csv')\n",
        "gender_submisson = pd.read_csv('gender_submission.csv')\n",
        "\n",
        "train.info()"
      ],
      "metadata": {
        "colab": {
          "base_uri": "https://localhost:8080/"
        },
        "id": "FlPmEWOMSIlk",
        "outputId": "83c1f31d-15de-4d0b-888c-5d4cc12ffe12"
      },
      "execution_count": null,
      "outputs": [
        {
          "output_type": "stream",
          "name": "stdout",
          "text": [
            "<class 'pandas.core.frame.DataFrame'>\n",
            "RangeIndex: 891 entries, 0 to 890\n",
            "Data columns (total 12 columns):\n",
            " #   Column       Non-Null Count  Dtype  \n",
            "---  ------       --------------  -----  \n",
            " 0   PassengerId  891 non-null    int64  \n",
            " 1   Survived     891 non-null    int64  \n",
            " 2   Pclass       891 non-null    int64  \n",
            " 3   Name         891 non-null    object \n",
            " 4   Sex          891 non-null    object \n",
            " 5   Age          714 non-null    float64\n",
            " 6   SibSp        891 non-null    int64  \n",
            " 7   Parch        891 non-null    int64  \n",
            " 8   Ticket       891 non-null    object \n",
            " 9   Fare         891 non-null    float64\n",
            " 10  Cabin        204 non-null    object \n",
            " 11  Embarked     889 non-null    object \n",
            "dtypes: float64(2), int64(5), object(5)\n",
            "memory usage: 83.7+ KB\n"
          ]
        }
      ]
    },
    {
      "cell_type": "code",
      "source": [
        "#성별 - male, female 을 numeric하게 바꾸어줌\n",
        "train['Sex_clean'] = train['Sex'].astype('category').cat.codes\n",
        "test['Sex_clean'] = test['Sex'].astype('category').cat.codes"
      ],
      "metadata": {
        "id": "4C9c0pwtSWvj"
      },
      "execution_count": null,
      "outputs": []
    },
    {
      "cell_type": "code",
      "source": [
        "#Embarked - train데이터에 NaN값이 2개 존재 -> 값 채워주기\n",
        "\n",
        "train['Embarked'].isnull().sum()\n"
      ],
      "metadata": {
        "colab": {
          "base_uri": "https://localhost:8080/"
        },
        "id": "kpWUEm2ASdW2",
        "outputId": "3bb410b5-92c1-4fc9-922c-658a458c89af"
      },
      "execution_count": null,
      "outputs": [
        {
          "output_type": "execute_result",
          "data": {
            "text/plain": [
              "2"
            ]
          },
          "metadata": {},
          "execution_count": 3
        }
      ]
    },
    {
      "cell_type": "code",
      "source": [
        "test['Embarked'].isnull().sum()"
      ],
      "metadata": {
        "colab": {
          "base_uri": "https://localhost:8080/"
        },
        "id": "JvH-m0_cSdaA",
        "outputId": "feda9e72-31e2-4002-d47d-99661e51992a"
      },
      "execution_count": null,
      "outputs": [
        {
          "output_type": "execute_result",
          "data": {
            "text/plain": [
              "0"
            ]
          },
          "metadata": {},
          "execution_count": 4
        }
      ]
    },
    {
      "cell_type": "code",
      "source": [
        "train['Embarked'].value_counts()"
      ],
      "metadata": {
        "colab": {
          "base_uri": "https://localhost:8080/"
        },
        "id": "B6xXblSTSdcS",
        "outputId": "4646511c-7604-41c7-b7e8-931f1bc5b9a0"
      },
      "execution_count": null,
      "outputs": [
        {
          "output_type": "execute_result",
          "data": {
            "text/plain": [
              "S    644\n",
              "C    168\n",
              "Q     77\n",
              "Name: Embarked, dtype: int64"
            ]
          },
          "metadata": {},
          "execution_count": 5
        }
      ]
    },
    {
      "cell_type": "code",
      "source": [
        "#최빈값이 S이므로 S로 NaN값을 채워줌\n",
        "\n",
        "train['Embarked'].fillna('S', inplace=True)\n",
        "\n",
        "train['Embarked_clean'] = train['Embarked'].astype('category').cat.codes\n",
        "test['Embarked_clean'] = test['Embarked'].astype('category').cat.codes"
      ],
      "metadata": {
        "id": "Up6oVtBZSde2"
      },
      "execution_count": null,
      "outputs": []
    },
    {
      "cell_type": "code",
      "source": [
        "#Family\n",
        "#SibSp컬럼과 Parch컬럼 합친 다음 자신을 더한 값이 Family의 값이 됨\n",
        "\n",
        "train['Family'] = 1+ train['SibSp'] + train['Parch']\n",
        "test['Family'] = 1+ test['SibSp'] + test['Parch']"
      ],
      "metadata": {
        "id": "ZD7IJ7m8SdhM"
      },
      "execution_count": null,
      "outputs": []
    },
    {
      "cell_type": "code",
      "source": [
        "#Solo - 혼자 탔는지 가족과 탔는지 구분하기 위해 Solo컬럼 추가\n",
        "\n",
        "train['Solo'] = (train['Family']==1)\n",
        "test['Solo'] = (test['Family']==1)"
      ],
      "metadata": {
        "id": "Ah26xhXsSdj6"
      },
      "execution_count": null,
      "outputs": []
    },
    {
      "cell_type": "code",
      "source": [
        "#Fare - 단순화위해서 Binning기법활용 ; 5구간으로 나눠줌\n",
        "\n",
        "train['FareBin'] = pd.qcut(train['Fare'], 5)\n",
        "test['FareBin'] = pd.qcut(test['Fare'], 5)\n",
        "\n",
        "train['FareBin'].value_counts()\n",
        "\n"
      ],
      "metadata": {
        "colab": {
          "base_uri": "https://localhost:8080/"
        },
        "id": "3qrij6piUH2u",
        "outputId": "535fd5cf-3cc3-43dc-808a-79390f7c5282"
      },
      "execution_count": null,
      "outputs": [
        {
          "output_type": "execute_result",
          "data": {
            "text/plain": [
              "(7.854, 10.5]        184\n",
              "(21.679, 39.688]     180\n",
              "(-0.001, 7.854]      179\n",
              "(39.688, 512.329]    176\n",
              "(10.5, 21.679]       172\n",
              "Name: FareBin, dtype: int64"
            ]
          },
          "metadata": {},
          "execution_count": 9
        }
      ]
    },
    {
      "cell_type": "code",
      "source": [
        "#Binning 한 후에 Numeric한 값으로 변경\n",
        "\n",
        "train['Fare_clean'] = train['FareBin'].astype('category').cat.codes\n",
        "test['Fare_clean'] = test['FareBin'].astype('category').cat.codes\n",
        "\n",
        "train['Fare_clean'].value_counts()"
      ],
      "metadata": {
        "colab": {
          "base_uri": "https://localhost:8080/"
        },
        "id": "PuEZ9EO4ULFx",
        "outputId": "f6dd9f61-d23e-4bef-ed02-35f90d8cb414"
      },
      "execution_count": null,
      "outputs": [
        {
          "output_type": "execute_result",
          "data": {
            "text/plain": [
              "1    184\n",
              "3    180\n",
              "0    179\n",
              "4    176\n",
              "2    172\n",
              "Name: Fare_clean, dtype: int64"
            ]
          },
          "metadata": {},
          "execution_count": 10
        }
      ]
    },
    {
      "cell_type": "code",
      "source": [
        "#Title ; 모수가 적은 title은 단일화\n",
        "\n",
        "train['Title'] = train['Name'].str.extract('([A-Za-z]+)\\.', expand=False)\n",
        "test['Title'] = test['Name'].str.extract('([A-Za-z]+)\\.', expand=False)\n",
        "\n",
        "train['Title'] = train['Title'].replace(['Lady', 'Countess', 'Capt', 'Col', 'Don', 'Dr', 'Major', 'Rev', 'Sir', 'Jonkheer', 'Dona' ], 'other')\n",
        "test['Title'] = test['Title'].replace(['Lady', 'Countess', 'Capt', 'Col', 'Don', 'Dr', 'Major', 'Rev', 'Sir', 'Jonkheer', 'Dona' ], 'other')\n",
        "\n",
        "train['Title'].value_counts()"
      ],
      "metadata": {
        "colab": {
          "base_uri": "https://localhost:8080/"
        },
        "id": "_s8RTALJULIS",
        "outputId": "5bfb0b8c-6027-499b-9548-8b2db8c814ff"
      },
      "execution_count": null,
      "outputs": [
        {
          "output_type": "execute_result",
          "data": {
            "text/plain": [
              "Mr        517\n",
              "Miss      182\n",
              "Mrs       125\n",
              "Master     40\n",
              "other      23\n",
              "Mlle        2\n",
              "Mme         1\n",
              "Ms          1\n",
              "Name: Title, dtype: int64"
            ]
          },
          "metadata": {},
          "execution_count": 36
        }
      ]
    },
    {
      "cell_type": "code",
      "source": [
        "#Mlle, Ms, Mme 도 단일화\n",
        "\n",
        "train['Title'] = train['Title'].replace('Mlle', 'Miss')\n",
        "train['Title'] = train['Title'].replace('Ms', 'Miss')\n",
        "train['Title'] = train['Title'].replace('Mme', 'Mrs')\n",
        "\n",
        "test['Title'] = test['Title'].replace('Mlle', 'Miss')\n",
        "test['Title'] = test['Title'].replace('Ms', 'Miss')\n",
        "test['Title'] = test['Title'].replace('Mme', 'Mrs')\n"
      ],
      "metadata": {
        "id": "omlqsjbPULK2"
      },
      "execution_count": null,
      "outputs": []
    },
    {
      "cell_type": "code",
      "source": [
        "train['Title'].value_counts()"
      ],
      "metadata": {
        "colab": {
          "base_uri": "https://localhost:8080/"
        },
        "id": "nb5fY2hkULNM",
        "outputId": "0ab8b1b1-96b5-498b-988b-ee4a9d8a8c73"
      },
      "execution_count": null,
      "outputs": [
        {
          "output_type": "execute_result",
          "data": {
            "text/plain": [
              "Mr        517\n",
              "Miss      185\n",
              "Mrs       126\n",
              "Master     40\n",
              "other      23\n",
              "Name: Title, dtype: int64"
            ]
          },
          "metadata": {},
          "execution_count": 38
        }
      ]
    },
    {
      "cell_type": "code",
      "source": [
        "test['Title'].value_counts()"
      ],
      "metadata": {
        "colab": {
          "base_uri": "https://localhost:8080/"
        },
        "id": "8hoNEv10ULPo",
        "outputId": "d7348a75-10ec-4e5d-e175-574ca0efa689"
      },
      "execution_count": null,
      "outputs": [
        {
          "output_type": "execute_result",
          "data": {
            "text/plain": [
              "Mr        240\n",
              "Miss       79\n",
              "Mrs        72\n",
              "Master     21\n",
              "other       6\n",
              "Name: Title, dtype: int64"
            ]
          },
          "metadata": {},
          "execution_count": 39
        }
      ]
    },
    {
      "cell_type": "code",
      "source": [
        "#Title 역시 Numeric한 값들로 변경\n",
        "\n",
        "train['Title_clean'] = train['Title'].astype('category').cat.codes\n",
        "test['Title_clean'] = test['Title'].astype('category').cat.codes"
      ],
      "metadata": {
        "id": "5XCWWT-IzY_i"
      },
      "execution_count": null,
      "outputs": []
    },
    {
      "cell_type": "code",
      "source": [
        "#Age - 중요도 높음\n",
        "#Title로 Group화 한 Age의 Median 값으로 채워주는 전략이 가장 높은 점수\n",
        "\n",
        "train['Age'].isnull().sum()"
      ],
      "metadata": {
        "id": "urYF3Gz2ULSJ",
        "colab": {
          "base_uri": "https://localhost:8080/"
        },
        "outputId": "94bd430f-746d-4b63-cf26-b9d8815afc98"
      },
      "execution_count": null,
      "outputs": [
        {
          "output_type": "execute_result",
          "data": {
            "text/plain": [
              "0"
            ]
          },
          "metadata": {},
          "execution_count": 41
        }
      ]
    },
    {
      "cell_type": "code",
      "source": [
        "test['Age'].isnull().sum()"
      ],
      "metadata": {
        "id": "nxzHdWBMULVC",
        "colab": {
          "base_uri": "https://localhost:8080/"
        },
        "outputId": "9fcc6e42-963e-4324-8913-2cd720531aa6"
      },
      "execution_count": null,
      "outputs": [
        {
          "output_type": "execute_result",
          "data": {
            "text/plain": [
              "0"
            ]
          },
          "metadata": {},
          "execution_count": 42
        }
      ]
    },
    {
      "cell_type": "code",
      "source": [
        "train['Age'].fillna(train.groupby(\"Title\")[\"Age\"].transform(\"median\"), inplace=True)\n",
        "test['Age'].fillna(test.groupby(\"Title\")[\"Age\"].transform(\"median\"), inplace=True)"
      ],
      "metadata": {
        "id": "NcgdDRDVULXi"
      },
      "execution_count": null,
      "outputs": []
    },
    {
      "cell_type": "code",
      "source": [
        "#Age 구간화(Binning) - 5세 단위로 자르고 50세는 10세 단위, 60세 이상은 모두 묶기\n",
        "\n",
        "#Train\n",
        "train.loc[train['Age'] <= 10, 'Age_clean'] = 0 \n",
        "train.loc[(train['Age']>10) & (train['Age']<= 16), 'Age_clean'] = 1\n",
        "train.loc[(train['Age']>16) & (train['Age']<= 20), 'Age_clean'] = 2\n",
        "train.loc[(train['Age']>20) & (train['Age']<= 26), 'Age_clean'] = 3\n",
        "train.loc[(train['Age']>26) & (train['Age']<= 30), 'Age_clean'] = 4\n",
        "train.loc[(train['Age']>30) & (train['Age']<= 36), 'Age_clean'] = 5\n",
        "train.loc[(train['Age']>36) & (train['Age']<= 40), 'Age_clean'] = 6\n",
        "train.loc[(train['Age']>40) & (train['Age']<= 46), 'Age_clean'] = 7\n",
        "train.loc[(train['Age']>46) & (train['Age']<= 50), 'Age_clean'] = 8\n",
        "train.loc[(train['Age']>50) & (train['Age']<= 60), 'Age_clean'] = 9\n",
        "train.loc[train['Age']>60, 'Age_clean'] = 10\n",
        "\n",
        "test.loc[test['Age'] <= 10, 'Age_clean'] = 0 \n",
        "test.loc[(test['Age']>10) & (test['Age']<= 16), 'Age_clean'] = 1\n",
        "test.loc[(test['Age']>16) & (test['Age']<= 20), 'Age_clean'] = 2\n",
        "test.loc[(test['Age']>20) & (test['Age']<= 26), 'Age_clean'] = 3\n",
        "test.loc[(test['Age']>26) & (test['Age']<= 30), 'Age_clean'] = 4\n",
        "test.loc[(test['Age']>30) & (test['Age']<= 36), 'Age_clean'] = 5\n",
        "test.loc[(test['Age']>36) & (test['Age']<= 40), 'Age_clean'] = 6\n",
        "test.loc[(test['Age']>40) & (test['Age']<= 46), 'Age_clean'] = 7\n",
        "test.loc[(test['Age']>46) & (test['Age']<= 50), 'Age_clean'] = 8\n",
        "test.loc[(test['Age']>50) & (test['Age']<= 60), 'Age_clean'] = 9\n",
        "test.loc[train['Age']>60, 'Age_clean'] = 10"
      ],
      "metadata": {
        "id": "NzUBdPTaULaV"
      },
      "execution_count": null,
      "outputs": []
    },
    {
      "cell_type": "code",
      "source": [
        "#Cabin - Alphabet을 가져와서 Numeric한 값으로 변경한 후 Pclass로 group한 median값을 일괄 적용\n",
        "\n",
        "train['Cabin'].str[:1].value_counts()"
      ],
      "metadata": {
        "id": "ThrP6qwMULdD",
        "colab": {
          "base_uri": "https://localhost:8080/"
        },
        "outputId": "6ad59294-5bb6-4ac1-b1d5-3f5f4747cf46"
      },
      "execution_count": null,
      "outputs": [
        {
          "output_type": "execute_result",
          "data": {
            "text/plain": [
              "C    59\n",
              "B    47\n",
              "D    33\n",
              "E    32\n",
              "A    15\n",
              "F    13\n",
              "G     4\n",
              "T     1\n",
              "Name: Cabin, dtype: int64"
            ]
          },
          "metadata": {},
          "execution_count": 45
        }
      ]
    },
    {
      "cell_type": "code",
      "source": [
        "mapping = {\n",
        "    'A':0,\n",
        "    'B':1,\n",
        "    'C':2, \n",
        "    'D':3,\n",
        "    'E':4,\n",
        "    'F':5, \n",
        "    'G':6,\n",
        "    'T':7\n",
        "}\n",
        "\n",
        "train['Cabin_clean'] = train['Cabin'].str[:1]\n",
        "train['Cabin_clean'] = train['Cabin_clean'].map(mapping)\n",
        "train['Cabin_clena'] = train.groupby('Pclass')['Cabin_clean'].transform('median')\n",
        "\n",
        "test['Cabin_clean'] = test['Cabin'].str[:1]\n",
        "test['Cabin_clean'] = test['Cabin_clean'].map(mapping)\n",
        "test['Cabin_clena'] = test.groupby('Pclass')['Cabin_clean'].transform('median')"
      ],
      "metadata": {
        "id": "Kx5a67aeULgB"
      },
      "execution_count": null,
      "outputs": []
    },
    {
      "cell_type": "code",
      "source": [
        "train['Cabin_clean'].value_counts()"
      ],
      "metadata": {
        "id": "RK-gEU93ULin",
        "colab": {
          "base_uri": "https://localhost:8080/"
        },
        "outputId": "4beb9900-e6d0-413f-f93c-776e6572e213"
      },
      "execution_count": null,
      "outputs": [
        {
          "output_type": "execute_result",
          "data": {
            "text/plain": [
              "2.0    59\n",
              "1.0    47\n",
              "3.0    33\n",
              "4.0    32\n",
              "0.0    15\n",
              "5.0    13\n",
              "6.0     4\n",
              "7.0     1\n",
              "Name: Cabin_clean, dtype: int64"
            ]
          },
          "metadata": {},
          "execution_count": 47
        }
      ]
    },
    {
      "cell_type": "code",
      "source": [
        "test['Cabin_clean'].value_counts()"
      ],
      "metadata": {
        "colab": {
          "base_uri": "https://localhost:8080/"
        },
        "id": "uDy9_5GPwOcB",
        "outputId": "95ae45ac-12e5-4fa8-d907-a47b4df12022"
      },
      "execution_count": null,
      "outputs": [
        {
          "output_type": "execute_result",
          "data": {
            "text/plain": [
              "2.0    35\n",
              "1.0    18\n",
              "3.0    13\n",
              "4.0     9\n",
              "5.0     8\n",
              "0.0     7\n",
              "6.0     1\n",
              "Name: Cabin_clean, dtype: int64"
            ]
          },
          "metadata": {},
          "execution_count": 48
        }
      ]
    },
    {
      "cell_type": "code",
      "source": [
        "#Feature와 Label 정의\n",
        "\n",
        "feature = [\n",
        "    'Pclass', \n",
        "    'SibSp', \n",
        "    'Parch', \n",
        "    'Sex_clean',\n",
        "    'Embarked_clean', \n",
        "    'Family', \n",
        "    'Solo', \n",
        "    'Title_clean', \n",
        "    'Age_clean',\n",
        "    'Cabin_clean',\n",
        "    'Fare_clean'\n",
        "]\n",
        "\n",
        "label = ['Survived',]"
      ],
      "metadata": {
        "id": "I0mqIGDawYsQ"
      },
      "execution_count": null,
      "outputs": []
    },
    {
      "cell_type": "code",
      "source": [
        "#HyperParameter - 다른 포스팅에서 깊게 다룰 것"
      ],
      "metadata": {
        "id": "EcldXNhqxEGh"
      },
      "execution_count": null,
      "outputs": []
    },
    {
      "cell_type": "code",
      "source": [
        "#Cross Validation Score\n",
        "\n",
        "from sklearn.model_selection import KFold, cross_val_score\n",
        "from sklearn.ensemble import RandomForestClassifier\n",
        "\n",
        "data = train[feature]\n",
        "target = train[label]\n",
        "\n",
        "k_fold = KFold(n_splits=10, shuffle=True, random_state=0)\n",
        "\n",
        "clf = RandomForestClassifier(n_estimators=50, max_depth=6, random_state=0)\n",
        "cross_val_score(clf, data, target, cv=k_fold, scoring='accuracy', ).mean()\n",
        "\n",
        "#Acuracy\n",
        "#0.8271660424469414"
      ],
      "metadata": {
        "colab": {
          "base_uri": "https://localhost:8080/"
        },
        "id": "03o8qos3xQyG",
        "outputId": "21d2efac-26ac-43c3-a75a-e16b5de4f658"
      },
      "execution_count": null,
      "outputs": [
        {
          "output_type": "execute_result",
          "data": {
            "text/plain": [
              "nan"
            ]
          },
          "metadata": {},
          "execution_count": 54
        }
      ]
    },
    {
      "cell_type": "code",
      "source": [
        "#Make Prediction\n",
        "\n",
        "x_train = train[feature]\n",
        "x_test = test[feature]\n",
        "y_train = train[label]\n",
        "\n",
        "clf = RandomForestClassifier(n_estimators=50, max_depth=6, random_state=0)\n",
        "clf.fit(x_train, y_train)\n",
        "gender_submisson['Survived'] = clf.predict(x_test)\n",
        "gender_submisson.to_csv('titanic-submission.csv', index=False)"
      ],
      "metadata": {
        "colab": {
          "base_uri": "https://localhost:8080/",
          "height": 415
        },
        "id": "VZNOLyb7xQ4J",
        "outputId": "df9d5b45-695f-4c2e-a152-0aaf4845e770"
      },
      "execution_count": null,
      "outputs": [
        {
          "output_type": "error",
          "ename": "ValueError",
          "evalue": "ignored",
          "traceback": [
            "\u001b[0;31m---------------------------------------------------------------------------\u001b[0m",
            "\u001b[0;31mValueError\u001b[0m                                Traceback (most recent call last)",
            "\u001b[0;32m<ipython-input-56-217c37a40f35>\u001b[0m in \u001b[0;36m<module>\u001b[0;34m\u001b[0m\n\u001b[1;32m      6\u001b[0m \u001b[0;34m\u001b[0m\u001b[0m\n\u001b[1;32m      7\u001b[0m \u001b[0mclf\u001b[0m \u001b[0;34m=\u001b[0m \u001b[0mRandomForestClassifier\u001b[0m\u001b[0;34m(\u001b[0m\u001b[0mn_estimators\u001b[0m\u001b[0;34m=\u001b[0m\u001b[0;36m50\u001b[0m\u001b[0;34m,\u001b[0m \u001b[0mmax_depth\u001b[0m\u001b[0;34m=\u001b[0m\u001b[0;36m6\u001b[0m\u001b[0;34m,\u001b[0m \u001b[0mrandom_state\u001b[0m\u001b[0;34m=\u001b[0m\u001b[0;36m0\u001b[0m\u001b[0;34m)\u001b[0m\u001b[0;34m\u001b[0m\u001b[0;34m\u001b[0m\u001b[0m\n\u001b[0;32m----> 8\u001b[0;31m \u001b[0mclf\u001b[0m\u001b[0;34m.\u001b[0m\u001b[0mfit\u001b[0m\u001b[0;34m(\u001b[0m\u001b[0mx_train\u001b[0m\u001b[0;34m,\u001b[0m \u001b[0my_train\u001b[0m\u001b[0;34m)\u001b[0m\u001b[0;34m\u001b[0m\u001b[0;34m\u001b[0m\u001b[0m\n\u001b[0m\u001b[1;32m      9\u001b[0m \u001b[0mgender_submisson\u001b[0m\u001b[0;34m[\u001b[0m\u001b[0;34m'Survived'\u001b[0m\u001b[0;34m]\u001b[0m \u001b[0;34m=\u001b[0m \u001b[0mclf\u001b[0m\u001b[0;34m.\u001b[0m\u001b[0mpredict\u001b[0m\u001b[0;34m(\u001b[0m\u001b[0mx_test\u001b[0m\u001b[0;34m)\u001b[0m\u001b[0;34m\u001b[0m\u001b[0;34m\u001b[0m\u001b[0m\n\u001b[1;32m     10\u001b[0m \u001b[0mgender_submisson\u001b[0m\u001b[0;34m.\u001b[0m\u001b[0mto_csv\u001b[0m\u001b[0;34m(\u001b[0m\u001b[0;34m'titanic-submission.csv'\u001b[0m\u001b[0;34m,\u001b[0m \u001b[0mindex\u001b[0m\u001b[0;34m=\u001b[0m\u001b[0;32mFalse\u001b[0m\u001b[0;34m)\u001b[0m\u001b[0;34m\u001b[0m\u001b[0;34m\u001b[0m\u001b[0m\n",
            "\u001b[0;32m/usr/local/lib/python3.7/dist-packages/sklearn/ensemble/_forest.py\u001b[0m in \u001b[0;36mfit\u001b[0;34m(self, X, y, sample_weight)\u001b[0m\n\u001b[1;32m    326\u001b[0m             \u001b[0;32mraise\u001b[0m \u001b[0mValueError\u001b[0m\u001b[0;34m(\u001b[0m\u001b[0;34m\"sparse multilabel-indicator for y is not supported.\"\u001b[0m\u001b[0;34m)\u001b[0m\u001b[0;34m\u001b[0m\u001b[0;34m\u001b[0m\u001b[0m\n\u001b[1;32m    327\u001b[0m         X, y = self._validate_data(\n\u001b[0;32m--> 328\u001b[0;31m             \u001b[0mX\u001b[0m\u001b[0;34m,\u001b[0m \u001b[0my\u001b[0m\u001b[0;34m,\u001b[0m \u001b[0mmulti_output\u001b[0m\u001b[0;34m=\u001b[0m\u001b[0;32mTrue\u001b[0m\u001b[0;34m,\u001b[0m \u001b[0maccept_sparse\u001b[0m\u001b[0;34m=\u001b[0m\u001b[0;34m\"csc\"\u001b[0m\u001b[0;34m,\u001b[0m \u001b[0mdtype\u001b[0m\u001b[0;34m=\u001b[0m\u001b[0mDTYPE\u001b[0m\u001b[0;34m\u001b[0m\u001b[0;34m\u001b[0m\u001b[0m\n\u001b[0m\u001b[1;32m    329\u001b[0m         )\n\u001b[1;32m    330\u001b[0m         \u001b[0;32mif\u001b[0m \u001b[0msample_weight\u001b[0m \u001b[0;32mis\u001b[0m \u001b[0;32mnot\u001b[0m \u001b[0;32mNone\u001b[0m\u001b[0;34m:\u001b[0m\u001b[0;34m\u001b[0m\u001b[0;34m\u001b[0m\u001b[0m\n",
            "\u001b[0;32m/usr/local/lib/python3.7/dist-packages/sklearn/base.py\u001b[0m in \u001b[0;36m_validate_data\u001b[0;34m(self, X, y, reset, validate_separately, **check_params)\u001b[0m\n\u001b[1;32m    579\u001b[0m                 \u001b[0my\u001b[0m \u001b[0;34m=\u001b[0m \u001b[0mcheck_array\u001b[0m\u001b[0;34m(\u001b[0m\u001b[0my\u001b[0m\u001b[0;34m,\u001b[0m \u001b[0;34m**\u001b[0m\u001b[0mcheck_y_params\u001b[0m\u001b[0;34m)\u001b[0m\u001b[0;34m\u001b[0m\u001b[0;34m\u001b[0m\u001b[0m\n\u001b[1;32m    580\u001b[0m             \u001b[0;32melse\u001b[0m\u001b[0;34m:\u001b[0m\u001b[0;34m\u001b[0m\u001b[0;34m\u001b[0m\u001b[0m\n\u001b[0;32m--> 581\u001b[0;31m                 \u001b[0mX\u001b[0m\u001b[0;34m,\u001b[0m \u001b[0my\u001b[0m \u001b[0;34m=\u001b[0m \u001b[0mcheck_X_y\u001b[0m\u001b[0;34m(\u001b[0m\u001b[0mX\u001b[0m\u001b[0;34m,\u001b[0m \u001b[0my\u001b[0m\u001b[0;34m,\u001b[0m \u001b[0;34m**\u001b[0m\u001b[0mcheck_params\u001b[0m\u001b[0;34m)\u001b[0m\u001b[0;34m\u001b[0m\u001b[0;34m\u001b[0m\u001b[0m\n\u001b[0m\u001b[1;32m    582\u001b[0m             \u001b[0mout\u001b[0m \u001b[0;34m=\u001b[0m \u001b[0mX\u001b[0m\u001b[0;34m,\u001b[0m \u001b[0my\u001b[0m\u001b[0;34m\u001b[0m\u001b[0;34m\u001b[0m\u001b[0m\n\u001b[1;32m    583\u001b[0m \u001b[0;34m\u001b[0m\u001b[0m\n",
            "\u001b[0;32m/usr/local/lib/python3.7/dist-packages/sklearn/utils/validation.py\u001b[0m in \u001b[0;36mcheck_X_y\u001b[0;34m(X, y, accept_sparse, accept_large_sparse, dtype, order, copy, force_all_finite, ensure_2d, allow_nd, multi_output, ensure_min_samples, ensure_min_features, y_numeric, estimator)\u001b[0m\n\u001b[1;32m    974\u001b[0m         \u001b[0mensure_min_samples\u001b[0m\u001b[0;34m=\u001b[0m\u001b[0mensure_min_samples\u001b[0m\u001b[0;34m,\u001b[0m\u001b[0;34m\u001b[0m\u001b[0;34m\u001b[0m\u001b[0m\n\u001b[1;32m    975\u001b[0m         \u001b[0mensure_min_features\u001b[0m\u001b[0;34m=\u001b[0m\u001b[0mensure_min_features\u001b[0m\u001b[0;34m,\u001b[0m\u001b[0;34m\u001b[0m\u001b[0;34m\u001b[0m\u001b[0m\n\u001b[0;32m--> 976\u001b[0;31m         \u001b[0mestimator\u001b[0m\u001b[0;34m=\u001b[0m\u001b[0mestimator\u001b[0m\u001b[0;34m,\u001b[0m\u001b[0;34m\u001b[0m\u001b[0;34m\u001b[0m\u001b[0m\n\u001b[0m\u001b[1;32m    977\u001b[0m     )\n\u001b[1;32m    978\u001b[0m \u001b[0;34m\u001b[0m\u001b[0m\n",
            "\u001b[0;32m/usr/local/lib/python3.7/dist-packages/sklearn/utils/validation.py\u001b[0m in \u001b[0;36mcheck_array\u001b[0;34m(array, accept_sparse, accept_large_sparse, dtype, order, copy, force_all_finite, ensure_2d, allow_nd, ensure_min_samples, ensure_min_features, estimator)\u001b[0m\n\u001b[1;32m    798\u001b[0m \u001b[0;34m\u001b[0m\u001b[0m\n\u001b[1;32m    799\u001b[0m         \u001b[0;32mif\u001b[0m \u001b[0mforce_all_finite\u001b[0m\u001b[0;34m:\u001b[0m\u001b[0;34m\u001b[0m\u001b[0;34m\u001b[0m\u001b[0m\n\u001b[0;32m--> 800\u001b[0;31m             \u001b[0m_assert_all_finite\u001b[0m\u001b[0;34m(\u001b[0m\u001b[0marray\u001b[0m\u001b[0;34m,\u001b[0m \u001b[0mallow_nan\u001b[0m\u001b[0;34m=\u001b[0m\u001b[0mforce_all_finite\u001b[0m \u001b[0;34m==\u001b[0m \u001b[0;34m\"allow-nan\"\u001b[0m\u001b[0;34m)\u001b[0m\u001b[0;34m\u001b[0m\u001b[0;34m\u001b[0m\u001b[0m\n\u001b[0m\u001b[1;32m    801\u001b[0m \u001b[0;34m\u001b[0m\u001b[0m\n\u001b[1;32m    802\u001b[0m     \u001b[0;32mif\u001b[0m \u001b[0mensure_min_samples\u001b[0m \u001b[0;34m>\u001b[0m \u001b[0;36m0\u001b[0m\u001b[0;34m:\u001b[0m\u001b[0;34m\u001b[0m\u001b[0;34m\u001b[0m\u001b[0m\n",
            "\u001b[0;32m/usr/local/lib/python3.7/dist-packages/sklearn/utils/validation.py\u001b[0m in \u001b[0;36m_assert_all_finite\u001b[0;34m(X, allow_nan, msg_dtype)\u001b[0m\n\u001b[1;32m    114\u001b[0m             raise ValueError(\n\u001b[1;32m    115\u001b[0m                 msg_err.format(\n\u001b[0;32m--> 116\u001b[0;31m                     \u001b[0mtype_err\u001b[0m\u001b[0;34m,\u001b[0m \u001b[0mmsg_dtype\u001b[0m \u001b[0;32mif\u001b[0m \u001b[0mmsg_dtype\u001b[0m \u001b[0;32mis\u001b[0m \u001b[0;32mnot\u001b[0m \u001b[0;32mNone\u001b[0m \u001b[0;32melse\u001b[0m \u001b[0mX\u001b[0m\u001b[0;34m.\u001b[0m\u001b[0mdtype\u001b[0m\u001b[0;34m\u001b[0m\u001b[0;34m\u001b[0m\u001b[0m\n\u001b[0m\u001b[1;32m    117\u001b[0m                 )\n\u001b[1;32m    118\u001b[0m             )\n",
            "\u001b[0;31mValueError\u001b[0m: Input contains NaN, infinity or a value too large for dtype('float32')."
          ]
        }
      ]
    },
    {
      "cell_type": "code",
      "source": [],
      "metadata": {
        "id": "Wvzh2UDBxQ6r"
      },
      "execution_count": null,
      "outputs": []
    },
    {
      "cell_type": "code",
      "source": [],
      "metadata": {
        "id": "4GfTAQWAxQ9G"
      },
      "execution_count": null,
      "outputs": []
    },
    {
      "cell_type": "code",
      "source": [],
      "metadata": {
        "id": "MbXbf0tdxQ_c"
      },
      "execution_count": null,
      "outputs": []
    }
  ]
}