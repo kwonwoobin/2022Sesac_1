{
 "cells": [
  {
   "cell_type": "code",
   "execution_count": 1,
   "metadata": {},
   "outputs": [],
   "source": [
    "import requests\n",
    "from bs4 import BeautifulSoup as bs\n",
    "import pandas as pd"
   ]
  },
  {
   "cell_type": "code",
   "execution_count": 43,
   "metadata": {},
   "outputs": [],
   "source": [
    "headers = {\n",
    "        'user-agent': \n",
    "        'Mozilla/5.0 (Windows NT 10.0; Win64; x64) AppleWebKit/537.36 (KHTML, like Gecko) Chrome/104.0.0.0 Safari/537.36'\n",
    "    }\n",
    "url = 'https://v.daum.net/v/20221129102436347'\n",
    "\n",
    "html = requests.get(url, headers=headers)\n",
    "soup = bs(html.text, 'html.parser')"
   ]
  },
  {
   "cell_type": "code",
   "execution_count": 82,
   "metadata": {},
   "outputs": [],
   "source": [
    "date = soup.select('.main-content .head_view .info_view span')"
   ]
  },
  {
   "cell_type": "code",
   "execution_count": 84,
   "metadata": {},
   "outputs": [
    {
     "data": {
      "text/plain": [
       "<span class=\"txt_info\">김형민</span>"
      ]
     },
     "execution_count": 84,
     "metadata": {},
     "output_type": "execute_result"
    }
   ],
   "source": [
    "date[0]"
   ]
  },
  {
   "cell_type": "code",
   "execution_count": 76,
   "metadata": {},
   "outputs": [
    {
     "data": {
      "text/plain": [
       "<span class=\"txt_info\">입력 <span class=\"num_date\">2022. 11. 29. 10:24</span></span>"
      ]
     },
     "execution_count": 76,
     "metadata": {},
     "output_type": "execute_result"
    }
   ],
   "source": [
    "date[1]"
   ]
  },
  {
   "cell_type": "code",
   "execution_count": 2,
   "metadata": {},
   "outputs": [
    {
     "name": "stdout",
     "output_type": "stream",
     "text": [
      "https://news.daum.net/breakingnews/society?page=1\n",
      "https://news.daum.net/breakingnews/society?page=2\n",
      "https://news.daum.net/breakingnews/society?page=3\n",
      "https://news.daum.net/breakingnews/society?page=4\n",
      "https://news.daum.net/breakingnews/society?page=5\n",
      "https://news.daum.net/breakingnews/society?page=6\n",
      "https://news.daum.net/breakingnews/society?page=7\n",
      "https://news.daum.net/breakingnews/society?page=8\n",
      "https://news.daum.net/breakingnews/society?page=9\n",
      "https://news.daum.net/breakingnews/society?page=10\n"
     ]
    }
   ],
   "source": [
    "baseurl = 'https://news.daum.net/breakingnews/'\n",
    "section = 'society'\n",
    "for i in range(1,11):\n",
    "    baseurl2 = '?page={0}'.format(i)\n",
    "    finalurl = baseurl + section + baseurl2\n",
    "    print(finalurl)"
   ]
  },
  {
   "cell_type": "code",
   "execution_count": 13,
   "metadata": {},
   "outputs": [],
   "source": [
    "import pandas as pd\n",
    "df = pd.read_csv('../../daum_news_url.csv')"
   ]
  },
  {
   "cell_type": "code",
   "execution_count": 15,
   "metadata": {},
   "outputs": [
    {
     "data": {
      "text/plain": [
       "'https://v.daum.net/v/20221130155520040'"
      ]
     },
     "execution_count": 15,
     "metadata": {},
     "output_type": "execute_result"
    }
   ],
   "source": [
    "df['newsurl'][0]"
   ]
  },
  {
   "cell_type": "code",
   "execution_count": 4,
   "metadata": {},
   "outputs": [
    {
     "name": "stdout",
     "output_type": "stream",
     "text": [
      "20221130\n",
      "1일 전 : 2022-11-29 16:51:55.538410\n"
     ]
    },
    {
     "data": {
      "text/plain": [
       "'20221129'"
      ]
     },
     "execution_count": 4,
     "metadata": {},
     "output_type": "execute_result"
    }
   ],
   "source": [
    "from datetime import datetime\n",
    "from dateutil.relativedelta import relativedelta\n",
    "\n",
    "now = datetime.now()\n",
    "date = now.strftime('%Y%m%d')\n",
    "print(date)      # 2021-04-08\n",
    "before_one_day = now - relativedelta(days=1)\n",
    "print(\"1일 전 :\", before_one_day)\n",
    "before_one_day.strftime('%Y%m%d')"
   ]
  },
  {
   "cell_type": "code",
   "execution_count": 3,
   "metadata": {},
   "outputs": [
    {
     "name": "stdout",
     "output_type": "stream",
     "text": [
      "https://news.daum.net/breakingnews/society?page=1&regDate=20221129\n",
      "https://news.daum.net/breakingnews/culture?page=1&regDate=20221129\n"
     ]
    }
   ],
   "source": [
    "baseurl1 = 'https://news.daum.net/breakingnews/'\n",
    "baseurl2 = '?page='\n",
    "baseurl3 = '&regDate='\n",
    "\n",
    "now = datetime.now()\n",
    "while True:\n",
    "    before_one_day = now - relativedelta(days=1)\n",
    "    date = before_one_day.strftime('%Y%m%d')\n",
    "    for section in ['society', 'culture']:\n",
    "        for page in range(1,2):\n",
    "            url = baseurl1 + section + baseurl2 + str(page) + baseurl3 + date\n",
    "            print(url)\n",
    "            "
   ]
  },
  {
   "cell_type": "code",
   "execution_count": null,
   "metadata": {},
   "outputs": [],
   "source": [
    "baseurl1 = 'https://news.daum.net/breakingnews/'\n",
    "baseurl2 = '?page='\n",
    "baseurl3 = '&regDate='\n",
    "urllist=[]\n",
    "\n",
    "now = datetime.now()\n",
    "while True:\n",
    "    before_one_day = now - relativedelta(days=1)\n",
    "    date = before_one_day.strftime('%Y%m%d')\n",
    "    if date[-2:]=='01':\n",
    "        break\n",
    "    for section in ['society', 'culture']:\n",
    "        for page in range(1,2):\n",
    "            url = baseurl1 + section + baseurl2 + str(page) + baseurl3 + date\n",
    "            urllist.append(url)"
   ]
  },
  {
   "cell_type": "code",
   "execution_count": 8,
   "metadata": {},
   "outputs": [],
   "source": [
    "baseurl1 = 'https://news.daum.net/breakingnews/'\n",
    "baseurl2 = '?page='\n",
    "baseurl3 = '&regDate='\n",
    "\n",
    "urllist=[]\n",
    "now = datetime.now()\n",
    "while True:\n",
    "    before_one_day = now - relativedelta(days=1)\n",
    "    date = before_one_day.strftime('%Y%m%d')\n",
    "    if date[-2:]=='01':\n",
    "        break\n",
    "    for section in ['society', 'culture']:\n",
    "        for page in range(1,5):\n",
    "            url = baseurl1 + section + baseurl2 + str(page) + baseurl3 + date\n",
    "            urllist.append(url)"
   ]
  },
  {
   "cell_type": "code",
   "execution_count": null,
   "metadata": {},
   "outputs": [],
   "source": [
    "urllist"
   ]
  },
  {
   "cell_type": "code",
   "execution_count": null,
   "metadata": {},
   "outputs": [],
   "source": []
  }
 ],
 "metadata": {
  "kernelspec": {
   "display_name": "Python 3.9.12",
   "language": "python",
   "name": "python3"
  },
  "language_info": {
   "codemirror_mode": {
    "name": "ipython",
    "version": 3
   },
   "file_extension": ".py",
   "mimetype": "text/x-python",
   "name": "python",
   "nbconvert_exporter": "python",
   "pygments_lexer": "ipython3",
   "version": "3.9.12"
  },
  "orig_nbformat": 4,
  "vscode": {
   "interpreter": {
    "hash": "85bf504353394e1e982b7f2f8107cf8fd9425024e1b4315517bb95c37101b88e"
   }
  }
 },
 "nbformat": 4,
 "nbformat_minor": 2
}
